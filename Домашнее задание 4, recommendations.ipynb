{
  "cells": [
    {
      "cell_type": "markdown",
      "id": "ee35127e",
      "metadata": {
        "id": "ee35127e"
      },
      "source": [
        "# Прикладные задачи анализа данных\n",
        "\n",
        "## Домашнее задание 4\n",
        "\n",
        "В этой работе мы будем решать задачу рекомендаций музыки. Для этого мы реализуем метод коллаборативной фильтрации и модель со скрытыми переменными, сравним их между собой и попытаемся сделать выводы. Во всех заданиях разрешается переписывать код по своему усмотрению, предложенные шаблоны несут лишь рекомендательный характер."
      ]
    },
    {
      "cell_type": "code",
      "execution_count": 1,
      "id": "75f6503b",
      "metadata": {
        "id": "75f6503b"
      },
      "outputs": [],
      "source": [
        "from sklearn.preprocessing import LabelEncoder\n",
        "\n",
        "import pandas as pd\n",
        "import numpy as np\n",
        "from tqdm.notebook import tqdm\n",
        "from typing import Callable, List\n",
        "\n",
        "import matplotlib.pyplot as plt\n",
        "import seaborn as sns\n",
        "import scipy.sparse as scs"
      ]
    },
    {
      "cell_type": "code",
      "source": [
        "import warnings\n",
        "\n",
        "warnings.filterwarnings(\"ignore\")"
      ],
      "metadata": {
        "id": "yX-4oSWxIMEE"
      },
      "id": "yX-4oSWxIMEE",
      "execution_count": 21,
      "outputs": []
    },
    {
      "cell_type": "code",
      "execution_count": 3,
      "id": "q39kPlJ6jsQc",
      "metadata": {
        "colab": {
          "base_uri": "https://localhost:8080/",
          "height": 206
        },
        "id": "q39kPlJ6jsQc",
        "outputId": "4dd4cb9b-2e7e-4ad6-8b27-147503d4f9b9"
      },
      "outputs": [
        {
          "output_type": "execute_result",
          "data": {
            "text/plain": [
              "   userId  trackId\n",
              "0       0       14\n",
              "1       0       95\n",
              "2       0      219\n",
              "3       0      220\n",
              "4       0      404"
            ],
            "text/html": [
              "\n",
              "  <div id=\"df-cd994712-97aa-4b77-9a47-e30b80eede1a\" class=\"colab-df-container\">\n",
              "    <div>\n",
              "<style scoped>\n",
              "    .dataframe tbody tr th:only-of-type {\n",
              "        vertical-align: middle;\n",
              "    }\n",
              "\n",
              "    .dataframe tbody tr th {\n",
              "        vertical-align: top;\n",
              "    }\n",
              "\n",
              "    .dataframe thead th {\n",
              "        text-align: right;\n",
              "    }\n",
              "</style>\n",
              "<table border=\"1\" class=\"dataframe\">\n",
              "  <thead>\n",
              "    <tr style=\"text-align: right;\">\n",
              "      <th></th>\n",
              "      <th>userId</th>\n",
              "      <th>trackId</th>\n",
              "    </tr>\n",
              "  </thead>\n",
              "  <tbody>\n",
              "    <tr>\n",
              "      <th>0</th>\n",
              "      <td>0</td>\n",
              "      <td>14</td>\n",
              "    </tr>\n",
              "    <tr>\n",
              "      <th>1</th>\n",
              "      <td>0</td>\n",
              "      <td>95</td>\n",
              "    </tr>\n",
              "    <tr>\n",
              "      <th>2</th>\n",
              "      <td>0</td>\n",
              "      <td>219</td>\n",
              "    </tr>\n",
              "    <tr>\n",
              "      <th>3</th>\n",
              "      <td>0</td>\n",
              "      <td>220</td>\n",
              "    </tr>\n",
              "    <tr>\n",
              "      <th>4</th>\n",
              "      <td>0</td>\n",
              "      <td>404</td>\n",
              "    </tr>\n",
              "  </tbody>\n",
              "</table>\n",
              "</div>\n",
              "    <div class=\"colab-df-buttons\">\n",
              "\n",
              "  <div class=\"colab-df-container\">\n",
              "    <button class=\"colab-df-convert\" onclick=\"convertToInteractive('df-cd994712-97aa-4b77-9a47-e30b80eede1a')\"\n",
              "            title=\"Convert this dataframe to an interactive table.\"\n",
              "            style=\"display:none;\">\n",
              "\n",
              "  <svg xmlns=\"http://www.w3.org/2000/svg\" height=\"24px\" viewBox=\"0 -960 960 960\">\n",
              "    <path d=\"M120-120v-720h720v720H120Zm60-500h600v-160H180v160Zm220 220h160v-160H400v160Zm0 220h160v-160H400v160ZM180-400h160v-160H180v160Zm440 0h160v-160H620v160ZM180-180h160v-160H180v160Zm440 0h160v-160H620v160Z\"/>\n",
              "  </svg>\n",
              "    </button>\n",
              "\n",
              "  <style>\n",
              "    .colab-df-container {\n",
              "      display:flex;\n",
              "      gap: 12px;\n",
              "    }\n",
              "\n",
              "    .colab-df-convert {\n",
              "      background-color: #E8F0FE;\n",
              "      border: none;\n",
              "      border-radius: 50%;\n",
              "      cursor: pointer;\n",
              "      display: none;\n",
              "      fill: #1967D2;\n",
              "      height: 32px;\n",
              "      padding: 0 0 0 0;\n",
              "      width: 32px;\n",
              "    }\n",
              "\n",
              "    .colab-df-convert:hover {\n",
              "      background-color: #E2EBFA;\n",
              "      box-shadow: 0px 1px 2px rgba(60, 64, 67, 0.3), 0px 1px 3px 1px rgba(60, 64, 67, 0.15);\n",
              "      fill: #174EA6;\n",
              "    }\n",
              "\n",
              "    .colab-df-buttons div {\n",
              "      margin-bottom: 4px;\n",
              "    }\n",
              "\n",
              "    [theme=dark] .colab-df-convert {\n",
              "      background-color: #3B4455;\n",
              "      fill: #D2E3FC;\n",
              "    }\n",
              "\n",
              "    [theme=dark] .colab-df-convert:hover {\n",
              "      background-color: #434B5C;\n",
              "      box-shadow: 0px 1px 3px 1px rgba(0, 0, 0, 0.15);\n",
              "      filter: drop-shadow(0px 1px 2px rgba(0, 0, 0, 0.3));\n",
              "      fill: #FFFFFF;\n",
              "    }\n",
              "  </style>\n",
              "\n",
              "    <script>\n",
              "      const buttonEl =\n",
              "        document.querySelector('#df-cd994712-97aa-4b77-9a47-e30b80eede1a button.colab-df-convert');\n",
              "      buttonEl.style.display =\n",
              "        google.colab.kernel.accessAllowed ? 'block' : 'none';\n",
              "\n",
              "      async function convertToInteractive(key) {\n",
              "        const element = document.querySelector('#df-cd994712-97aa-4b77-9a47-e30b80eede1a');\n",
              "        const dataTable =\n",
              "          await google.colab.kernel.invokeFunction('convertToInteractive',\n",
              "                                                    [key], {});\n",
              "        if (!dataTable) return;\n",
              "\n",
              "        const docLinkHtml = 'Like what you see? Visit the ' +\n",
              "          '<a target=\"_blank\" href=https://colab.research.google.com/notebooks/data_table.ipynb>data table notebook</a>'\n",
              "          + ' to learn more about interactive tables.';\n",
              "        element.innerHTML = '';\n",
              "        dataTable['output_type'] = 'display_data';\n",
              "        await google.colab.output.renderOutput(dataTable, element);\n",
              "        const docLink = document.createElement('div');\n",
              "        docLink.innerHTML = docLinkHtml;\n",
              "        element.appendChild(docLink);\n",
              "      }\n",
              "    </script>\n",
              "  </div>\n",
              "\n",
              "\n",
              "    <div id=\"df-4259759a-6205-4b5a-9aa0-6482576b4ab4\">\n",
              "      <button class=\"colab-df-quickchart\" onclick=\"quickchart('df-4259759a-6205-4b5a-9aa0-6482576b4ab4')\"\n",
              "                title=\"Suggest charts\"\n",
              "                style=\"display:none;\">\n",
              "\n",
              "<svg xmlns=\"http://www.w3.org/2000/svg\" height=\"24px\"viewBox=\"0 0 24 24\"\n",
              "     width=\"24px\">\n",
              "    <g>\n",
              "        <path d=\"M19 3H5c-1.1 0-2 .9-2 2v14c0 1.1.9 2 2 2h14c1.1 0 2-.9 2-2V5c0-1.1-.9-2-2-2zM9 17H7v-7h2v7zm4 0h-2V7h2v10zm4 0h-2v-4h2v4z\"/>\n",
              "    </g>\n",
              "</svg>\n",
              "      </button>\n",
              "\n",
              "<style>\n",
              "  .colab-df-quickchart {\n",
              "      --bg-color: #E8F0FE;\n",
              "      --fill-color: #1967D2;\n",
              "      --hover-bg-color: #E2EBFA;\n",
              "      --hover-fill-color: #174EA6;\n",
              "      --disabled-fill-color: #AAA;\n",
              "      --disabled-bg-color: #DDD;\n",
              "  }\n",
              "\n",
              "  [theme=dark] .colab-df-quickchart {\n",
              "      --bg-color: #3B4455;\n",
              "      --fill-color: #D2E3FC;\n",
              "      --hover-bg-color: #434B5C;\n",
              "      --hover-fill-color: #FFFFFF;\n",
              "      --disabled-bg-color: #3B4455;\n",
              "      --disabled-fill-color: #666;\n",
              "  }\n",
              "\n",
              "  .colab-df-quickchart {\n",
              "    background-color: var(--bg-color);\n",
              "    border: none;\n",
              "    border-radius: 50%;\n",
              "    cursor: pointer;\n",
              "    display: none;\n",
              "    fill: var(--fill-color);\n",
              "    height: 32px;\n",
              "    padding: 0;\n",
              "    width: 32px;\n",
              "  }\n",
              "\n",
              "  .colab-df-quickchart:hover {\n",
              "    background-color: var(--hover-bg-color);\n",
              "    box-shadow: 0 1px 2px rgba(60, 64, 67, 0.3), 0 1px 3px 1px rgba(60, 64, 67, 0.15);\n",
              "    fill: var(--button-hover-fill-color);\n",
              "  }\n",
              "\n",
              "  .colab-df-quickchart-complete:disabled,\n",
              "  .colab-df-quickchart-complete:disabled:hover {\n",
              "    background-color: var(--disabled-bg-color);\n",
              "    fill: var(--disabled-fill-color);\n",
              "    box-shadow: none;\n",
              "  }\n",
              "\n",
              "  .colab-df-spinner {\n",
              "    border: 2px solid var(--fill-color);\n",
              "    border-color: transparent;\n",
              "    border-bottom-color: var(--fill-color);\n",
              "    animation:\n",
              "      spin 1s steps(1) infinite;\n",
              "  }\n",
              "\n",
              "  @keyframes spin {\n",
              "    0% {\n",
              "      border-color: transparent;\n",
              "      border-bottom-color: var(--fill-color);\n",
              "      border-left-color: var(--fill-color);\n",
              "    }\n",
              "    20% {\n",
              "      border-color: transparent;\n",
              "      border-left-color: var(--fill-color);\n",
              "      border-top-color: var(--fill-color);\n",
              "    }\n",
              "    30% {\n",
              "      border-color: transparent;\n",
              "      border-left-color: var(--fill-color);\n",
              "      border-top-color: var(--fill-color);\n",
              "      border-right-color: var(--fill-color);\n",
              "    }\n",
              "    40% {\n",
              "      border-color: transparent;\n",
              "      border-right-color: var(--fill-color);\n",
              "      border-top-color: var(--fill-color);\n",
              "    }\n",
              "    60% {\n",
              "      border-color: transparent;\n",
              "      border-right-color: var(--fill-color);\n",
              "    }\n",
              "    80% {\n",
              "      border-color: transparent;\n",
              "      border-right-color: var(--fill-color);\n",
              "      border-bottom-color: var(--fill-color);\n",
              "    }\n",
              "    90% {\n",
              "      border-color: transparent;\n",
              "      border-bottom-color: var(--fill-color);\n",
              "    }\n",
              "  }\n",
              "</style>\n",
              "\n",
              "      <script>\n",
              "        async function quickchart(key) {\n",
              "          const quickchartButtonEl =\n",
              "            document.querySelector('#' + key + ' button');\n",
              "          quickchartButtonEl.disabled = true;  // To prevent multiple clicks.\n",
              "          quickchartButtonEl.classList.add('colab-df-spinner');\n",
              "          try {\n",
              "            const charts = await google.colab.kernel.invokeFunction(\n",
              "                'suggestCharts', [key], {});\n",
              "          } catch (error) {\n",
              "            console.error('Error during call to suggestCharts:', error);\n",
              "          }\n",
              "          quickchartButtonEl.classList.remove('colab-df-spinner');\n",
              "          quickchartButtonEl.classList.add('colab-df-quickchart-complete');\n",
              "        }\n",
              "        (() => {\n",
              "          let quickchartButtonEl =\n",
              "            document.querySelector('#df-4259759a-6205-4b5a-9aa0-6482576b4ab4 button');\n",
              "          quickchartButtonEl.style.display =\n",
              "            google.colab.kernel.accessAllowed ? 'block' : 'none';\n",
              "        })();\n",
              "      </script>\n",
              "    </div>\n",
              "    </div>\n",
              "  </div>\n"
            ],
            "application/vnd.google.colaboratory.intrinsic+json": {
              "type": "dataframe",
              "variable_name": "ratings"
            }
          },
          "metadata": {},
          "execution_count": 3
        }
      ],
      "source": [
        "ratings = pd.read_csv('music_dataset.csv')\n",
        "ratings.head()"
      ]
    },
    {
      "cell_type": "code",
      "execution_count": 4,
      "id": "PgGrUf6TSvHC",
      "metadata": {
        "colab": {
          "base_uri": "https://localhost:8080/",
          "height": 206
        },
        "id": "PgGrUf6TSvHC",
        "outputId": "9314f766-a955-483a-de1e-88c7493c77f2"
      },
      "outputs": [
        {
          "output_type": "execute_result",
          "data": {
            "text/plain": [
              "   id                         name              artists\n",
              "0   0                What There Is             ['a-ha']\n",
              "1   1  I'll Play The Blues For You      ['Albert King']\n",
              "2   2  Breaking Up Somebody's Home      ['Albert King']\n",
              "3   3                      Imma Be  ['Black Eyed Peas']\n",
              "4   4                Boom Boom Pow  ['Black Eyed Peas']"
            ],
            "text/html": [
              "\n",
              "  <div id=\"df-a1ef2e40-ee4d-49f4-ad81-fcaef42f48e3\" class=\"colab-df-container\">\n",
              "    <div>\n",
              "<style scoped>\n",
              "    .dataframe tbody tr th:only-of-type {\n",
              "        vertical-align: middle;\n",
              "    }\n",
              "\n",
              "    .dataframe tbody tr th {\n",
              "        vertical-align: top;\n",
              "    }\n",
              "\n",
              "    .dataframe thead th {\n",
              "        text-align: right;\n",
              "    }\n",
              "</style>\n",
              "<table border=\"1\" class=\"dataframe\">\n",
              "  <thead>\n",
              "    <tr style=\"text-align: right;\">\n",
              "      <th></th>\n",
              "      <th>id</th>\n",
              "      <th>name</th>\n",
              "      <th>artists</th>\n",
              "    </tr>\n",
              "  </thead>\n",
              "  <tbody>\n",
              "    <tr>\n",
              "      <th>0</th>\n",
              "      <td>0</td>\n",
              "      <td>What There Is</td>\n",
              "      <td>['a-ha']</td>\n",
              "    </tr>\n",
              "    <tr>\n",
              "      <th>1</th>\n",
              "      <td>1</td>\n",
              "      <td>I'll Play The Blues For You</td>\n",
              "      <td>['Albert King']</td>\n",
              "    </tr>\n",
              "    <tr>\n",
              "      <th>2</th>\n",
              "      <td>2</td>\n",
              "      <td>Breaking Up Somebody's Home</td>\n",
              "      <td>['Albert King']</td>\n",
              "    </tr>\n",
              "    <tr>\n",
              "      <th>3</th>\n",
              "      <td>3</td>\n",
              "      <td>Imma Be</td>\n",
              "      <td>['Black Eyed Peas']</td>\n",
              "    </tr>\n",
              "    <tr>\n",
              "      <th>4</th>\n",
              "      <td>4</td>\n",
              "      <td>Boom Boom Pow</td>\n",
              "      <td>['Black Eyed Peas']</td>\n",
              "    </tr>\n",
              "  </tbody>\n",
              "</table>\n",
              "</div>\n",
              "    <div class=\"colab-df-buttons\">\n",
              "\n",
              "  <div class=\"colab-df-container\">\n",
              "    <button class=\"colab-df-convert\" onclick=\"convertToInteractive('df-a1ef2e40-ee4d-49f4-ad81-fcaef42f48e3')\"\n",
              "            title=\"Convert this dataframe to an interactive table.\"\n",
              "            style=\"display:none;\">\n",
              "\n",
              "  <svg xmlns=\"http://www.w3.org/2000/svg\" height=\"24px\" viewBox=\"0 -960 960 960\">\n",
              "    <path d=\"M120-120v-720h720v720H120Zm60-500h600v-160H180v160Zm220 220h160v-160H400v160Zm0 220h160v-160H400v160ZM180-400h160v-160H180v160Zm440 0h160v-160H620v160ZM180-180h160v-160H180v160Zm440 0h160v-160H620v160Z\"/>\n",
              "  </svg>\n",
              "    </button>\n",
              "\n",
              "  <style>\n",
              "    .colab-df-container {\n",
              "      display:flex;\n",
              "      gap: 12px;\n",
              "    }\n",
              "\n",
              "    .colab-df-convert {\n",
              "      background-color: #E8F0FE;\n",
              "      border: none;\n",
              "      border-radius: 50%;\n",
              "      cursor: pointer;\n",
              "      display: none;\n",
              "      fill: #1967D2;\n",
              "      height: 32px;\n",
              "      padding: 0 0 0 0;\n",
              "      width: 32px;\n",
              "    }\n",
              "\n",
              "    .colab-df-convert:hover {\n",
              "      background-color: #E2EBFA;\n",
              "      box-shadow: 0px 1px 2px rgba(60, 64, 67, 0.3), 0px 1px 3px 1px rgba(60, 64, 67, 0.15);\n",
              "      fill: #174EA6;\n",
              "    }\n",
              "\n",
              "    .colab-df-buttons div {\n",
              "      margin-bottom: 4px;\n",
              "    }\n",
              "\n",
              "    [theme=dark] .colab-df-convert {\n",
              "      background-color: #3B4455;\n",
              "      fill: #D2E3FC;\n",
              "    }\n",
              "\n",
              "    [theme=dark] .colab-df-convert:hover {\n",
              "      background-color: #434B5C;\n",
              "      box-shadow: 0px 1px 3px 1px rgba(0, 0, 0, 0.15);\n",
              "      filter: drop-shadow(0px 1px 2px rgba(0, 0, 0, 0.3));\n",
              "      fill: #FFFFFF;\n",
              "    }\n",
              "  </style>\n",
              "\n",
              "    <script>\n",
              "      const buttonEl =\n",
              "        document.querySelector('#df-a1ef2e40-ee4d-49f4-ad81-fcaef42f48e3 button.colab-df-convert');\n",
              "      buttonEl.style.display =\n",
              "        google.colab.kernel.accessAllowed ? 'block' : 'none';\n",
              "\n",
              "      async function convertToInteractive(key) {\n",
              "        const element = document.querySelector('#df-a1ef2e40-ee4d-49f4-ad81-fcaef42f48e3');\n",
              "        const dataTable =\n",
              "          await google.colab.kernel.invokeFunction('convertToInteractive',\n",
              "                                                    [key], {});\n",
              "        if (!dataTable) return;\n",
              "\n",
              "        const docLinkHtml = 'Like what you see? Visit the ' +\n",
              "          '<a target=\"_blank\" href=https://colab.research.google.com/notebooks/data_table.ipynb>data table notebook</a>'\n",
              "          + ' to learn more about interactive tables.';\n",
              "        element.innerHTML = '';\n",
              "        dataTable['output_type'] = 'display_data';\n",
              "        await google.colab.output.renderOutput(dataTable, element);\n",
              "        const docLink = document.createElement('div');\n",
              "        docLink.innerHTML = docLinkHtml;\n",
              "        element.appendChild(docLink);\n",
              "      }\n",
              "    </script>\n",
              "  </div>\n",
              "\n",
              "\n",
              "    <div id=\"df-d1ffc2a8-187c-4162-98d4-7acf8c987ff1\">\n",
              "      <button class=\"colab-df-quickchart\" onclick=\"quickchart('df-d1ffc2a8-187c-4162-98d4-7acf8c987ff1')\"\n",
              "                title=\"Suggest charts\"\n",
              "                style=\"display:none;\">\n",
              "\n",
              "<svg xmlns=\"http://www.w3.org/2000/svg\" height=\"24px\"viewBox=\"0 0 24 24\"\n",
              "     width=\"24px\">\n",
              "    <g>\n",
              "        <path d=\"M19 3H5c-1.1 0-2 .9-2 2v14c0 1.1.9 2 2 2h14c1.1 0 2-.9 2-2V5c0-1.1-.9-2-2-2zM9 17H7v-7h2v7zm4 0h-2V7h2v10zm4 0h-2v-4h2v4z\"/>\n",
              "    </g>\n",
              "</svg>\n",
              "      </button>\n",
              "\n",
              "<style>\n",
              "  .colab-df-quickchart {\n",
              "      --bg-color: #E8F0FE;\n",
              "      --fill-color: #1967D2;\n",
              "      --hover-bg-color: #E2EBFA;\n",
              "      --hover-fill-color: #174EA6;\n",
              "      --disabled-fill-color: #AAA;\n",
              "      --disabled-bg-color: #DDD;\n",
              "  }\n",
              "\n",
              "  [theme=dark] .colab-df-quickchart {\n",
              "      --bg-color: #3B4455;\n",
              "      --fill-color: #D2E3FC;\n",
              "      --hover-bg-color: #434B5C;\n",
              "      --hover-fill-color: #FFFFFF;\n",
              "      --disabled-bg-color: #3B4455;\n",
              "      --disabled-fill-color: #666;\n",
              "  }\n",
              "\n",
              "  .colab-df-quickchart {\n",
              "    background-color: var(--bg-color);\n",
              "    border: none;\n",
              "    border-radius: 50%;\n",
              "    cursor: pointer;\n",
              "    display: none;\n",
              "    fill: var(--fill-color);\n",
              "    height: 32px;\n",
              "    padding: 0;\n",
              "    width: 32px;\n",
              "  }\n",
              "\n",
              "  .colab-df-quickchart:hover {\n",
              "    background-color: var(--hover-bg-color);\n",
              "    box-shadow: 0 1px 2px rgba(60, 64, 67, 0.3), 0 1px 3px 1px rgba(60, 64, 67, 0.15);\n",
              "    fill: var(--button-hover-fill-color);\n",
              "  }\n",
              "\n",
              "  .colab-df-quickchart-complete:disabled,\n",
              "  .colab-df-quickchart-complete:disabled:hover {\n",
              "    background-color: var(--disabled-bg-color);\n",
              "    fill: var(--disabled-fill-color);\n",
              "    box-shadow: none;\n",
              "  }\n",
              "\n",
              "  .colab-df-spinner {\n",
              "    border: 2px solid var(--fill-color);\n",
              "    border-color: transparent;\n",
              "    border-bottom-color: var(--fill-color);\n",
              "    animation:\n",
              "      spin 1s steps(1) infinite;\n",
              "  }\n",
              "\n",
              "  @keyframes spin {\n",
              "    0% {\n",
              "      border-color: transparent;\n",
              "      border-bottom-color: var(--fill-color);\n",
              "      border-left-color: var(--fill-color);\n",
              "    }\n",
              "    20% {\n",
              "      border-color: transparent;\n",
              "      border-left-color: var(--fill-color);\n",
              "      border-top-color: var(--fill-color);\n",
              "    }\n",
              "    30% {\n",
              "      border-color: transparent;\n",
              "      border-left-color: var(--fill-color);\n",
              "      border-top-color: var(--fill-color);\n",
              "      border-right-color: var(--fill-color);\n",
              "    }\n",
              "    40% {\n",
              "      border-color: transparent;\n",
              "      border-right-color: var(--fill-color);\n",
              "      border-top-color: var(--fill-color);\n",
              "    }\n",
              "    60% {\n",
              "      border-color: transparent;\n",
              "      border-right-color: var(--fill-color);\n",
              "    }\n",
              "    80% {\n",
              "      border-color: transparent;\n",
              "      border-right-color: var(--fill-color);\n",
              "      border-bottom-color: var(--fill-color);\n",
              "    }\n",
              "    90% {\n",
              "      border-color: transparent;\n",
              "      border-bottom-color: var(--fill-color);\n",
              "    }\n",
              "  }\n",
              "</style>\n",
              "\n",
              "      <script>\n",
              "        async function quickchart(key) {\n",
              "          const quickchartButtonEl =\n",
              "            document.querySelector('#' + key + ' button');\n",
              "          quickchartButtonEl.disabled = true;  // To prevent multiple clicks.\n",
              "          quickchartButtonEl.classList.add('colab-df-spinner');\n",
              "          try {\n",
              "            const charts = await google.colab.kernel.invokeFunction(\n",
              "                'suggestCharts', [key], {});\n",
              "          } catch (error) {\n",
              "            console.error('Error during call to suggestCharts:', error);\n",
              "          }\n",
              "          quickchartButtonEl.classList.remove('colab-df-spinner');\n",
              "          quickchartButtonEl.classList.add('colab-df-quickchart-complete');\n",
              "        }\n",
              "        (() => {\n",
              "          let quickchartButtonEl =\n",
              "            document.querySelector('#df-d1ffc2a8-187c-4162-98d4-7acf8c987ff1 button');\n",
              "          quickchartButtonEl.style.display =\n",
              "            google.colab.kernel.accessAllowed ? 'block' : 'none';\n",
              "        })();\n",
              "      </script>\n",
              "    </div>\n",
              "    </div>\n",
              "  </div>\n"
            ],
            "application/vnd.google.colaboratory.intrinsic+json": {
              "type": "dataframe",
              "variable_name": "tracks_info",
              "summary": "{\n  \"name\": \"tracks_info\",\n  \"rows\": 72383,\n  \"fields\": [\n    {\n      \"column\": \"id\",\n      \"properties\": {\n        \"dtype\": \"number\",\n        \"std\": 20895,\n        \"min\": 0,\n        \"max\": 72382,\n        \"num_unique_values\": 72383,\n        \"samples\": [\n          64057,\n          40095,\n          11097\n        ],\n        \"semantic_type\": \"\",\n        \"description\": \"\"\n      }\n    },\n    {\n      \"column\": \"name\",\n      \"properties\": {\n        \"dtype\": \"string\",\n        \"num_unique_values\": 52551,\n        \"samples\": [\n          \"GOLD MERCURY TOK\",\n          \"\\u041c\\u0430\\u0436\\u043e\\u0440\\u0438\\u0449\\u0435\",\n          \"Feelin' Bad Blues\"\n        ],\n        \"semantic_type\": \"\",\n        \"description\": \"\"\n      }\n    },\n    {\n      \"column\": \"artists\",\n      \"properties\": {\n        \"dtype\": \"category\",\n        \"num_unique_values\": 23520,\n        \"samples\": [\n          \"['The Acid']\",\n          \"['RAFF']\",\n          \"['Manudigital', 'Soom T']\"\n        ],\n        \"semantic_type\": \"\",\n        \"description\": \"\"\n      }\n    }\n  ]\n}"
            }
          },
          "metadata": {},
          "execution_count": 4
        }
      ],
      "source": [
        "tracks_info = pd.read_csv('tracks_info.csv')\n",
        "tracks_info.head()"
      ]
    },
    {
      "cell_type": "markdown",
      "id": "SSvgStZZIEdz",
      "metadata": {
        "id": "SSvgStZZIEdz"
      },
      "source": [
        "Для оценки качества рекомендаций мы будем использовать метрику $MAP@k$.\n",
        "\n",
        "$$\n",
        "MAP@k = \\frac{1}{N} \\sum_{u = 1}^N AP_u@k\n",
        "$$\n",
        "$$\n",
        "AP_u@k = \\frac{1}{\\min(k, n_u)} \\sum_{i=1}^k r_u(i) p_u@i\n",
        "$$\n",
        "$$p_u@k = \\dfrac{1}{k}\\sum_{j=1}^k r_u(j)$$\n",
        "\n",
        "\n",
        "*   $N$ - количество пользователей.\n",
        "*   $n_u$ - число релевантных треков пользователя $u$ на тестовом промежутке.\n",
        "*   $r_u(i)$ - бинарная величина: относится ли трек на позиции $i$ к релевантным."
      ]
    },
    {
      "cell_type": "markdown",
      "id": "UDTWQLoKS3nA",
      "metadata": {
        "id": "UDTWQLoKS3nA"
      },
      "source": [
        "**Задание 1 (1 балл).** Реализуйте метрику $MAP@k$."
      ]
    },
    {
      "cell_type": "code",
      "execution_count": 5,
      "id": "8YW8fMfnQY08",
      "metadata": {
        "id": "8YW8fMfnQY08",
        "scrolled": true
      },
      "outputs": [],
      "source": [
        "def ru(relevant: List[int], predicted: List[int], k: int = 20):\n",
        "    return np.isin(predicted[:k], relevant)\n",
        "\n",
        "def puk(relevant: List[int], predicted: List[int], k: int = 20):\n",
        "    return np.cumsum(ru(relevant, predicted, k))/np.arange(1, k+1)\n",
        "\n",
        "def apuk(relevant: List[int], predicted: List[int], k: int = 20):\n",
        "    return np.sum(ru(relevant, predicted, k)*puk(relevant, predicted, k))/min(k, len(relevant))\n",
        "\n",
        "def mapk(relevant: List[List[int]], predicted: List[List[int]], k: int = 20):\n",
        "    sum = 0\n",
        "    for u in range(len(relevant)):\n",
        "        sum += apuk(relevant[u], predicted[u], k)\n",
        "    return sum/len(relevant)"
      ]
    },
    {
      "cell_type": "code",
      "execution_count": 6,
      "id": "JbKyNPk8TaIG",
      "metadata": {
        "id": "JbKyNPk8TaIG"
      },
      "outputs": [],
      "source": [
        "relevant = [\n",
        "    [1, 7, 6, 2, 8],\n",
        "    [1, 5, 4, 8],\n",
        "    [8, 2, 5]\n",
        "]\n",
        "\n",
        "pred = [\n",
        "    [8, 1, 5, 0, 7, 2, 9, 4],\n",
        "    [0, 1, 8, 5, 3, 4, 7, 9],\n",
        "    [9, 2, 0, 6, 8, 5, 3, 7]\n",
        "]\n",
        "\n",
        "assert round(mapk(relevant, pred, k=5), 4) == 0.4331"
      ]
    },
    {
      "cell_type": "markdown",
      "id": "WFYR-X49HlMl",
      "metadata": {
        "id": "WFYR-X49HlMl"
      },
      "source": [
        "Разделим данные на тренировочные и тестовые так, чтобы в теcтовый датасет попали 50 последних треков каждого пользователя."
      ]
    },
    {
      "cell_type": "code",
      "execution_count": 7,
      "id": "TEzz_ym8Go_L",
      "metadata": {
        "id": "TEzz_ym8Go_L"
      },
      "outputs": [],
      "source": [
        "def train_test_split(ratings):\n",
        "    train_ratings, test_ratings = [], []\n",
        "    num_test_samples = 50\n",
        "\n",
        "    # getting train samples\n",
        "    for userId, user_data in tqdm(ratings.groupby('userId')):\n",
        "        train_ratings += [user_data[:-num_test_samples]]\n",
        "\n",
        "    train_ratings = pd.concat(train_ratings).reset_index(drop=True)\n",
        "    all_train_items = train_ratings['trackId'].unique()\n",
        "\n",
        "    # getting train samples\n",
        "    # we drop all tracks that are not presented it the training samples,\n",
        "    # because we won't be able to learn representations for them\n",
        "    for userId, user_data in tqdm(ratings.groupby('userId')):\n",
        "        test_items = user_data[-num_test_samples:]\n",
        "        test_items = test_items[np.isin(test_items['trackId'], all_train_items)]\n",
        "        test_ratings += [test_items]\n",
        "\n",
        "    test_ratings = pd.concat(test_ratings).reset_index(drop=True)\n",
        "\n",
        "    return train_ratings, test_ratings"
      ]
    },
    {
      "cell_type": "code",
      "execution_count": 8,
      "id": "vuyiM1Lk4L-e",
      "metadata": {
        "colab": {
          "base_uri": "https://localhost:8080/",
          "height": 81,
          "referenced_widgets": [
            "43d26e15f88d433188712b53f2deed02",
            "45ef4510a3e0402088ce06ae212bf7e9",
            "a0fecb9f974c4d70854af3f31318f9e0",
            "4d935e3bfe8147f5944e78afd570c190",
            "70e98fb6ac91419cb0b0b0c7a273817b",
            "47f7bfc88cbf4468a94e031279324793",
            "29ea66324ee3482997305dc5d55d239b",
            "5a7cab13626346f1831805286c30d507",
            "1effb35788244579bc13a24342247ac9",
            "e7a7f6041e5d44cdaa3ff7972bd6eec0",
            "4779b4adea434563b9fd9f3934a826f2",
            "fb051f22e504487d9042d1c05e924de7",
            "4c2d4be4e52f4929854b074907b0a249",
            "69e485662d4c498287ebf5d85542d958",
            "7c17a428934e4fa0a6454fbddee5a95a",
            "83c8e8b8d1fe4c80aa0109eb2f8a1b00",
            "0ef793614f86414daff73bfc25dbf029",
            "76e4e124b283414bbde3b8c221724152",
            "adba9a277518458a987fa15dafb537d8",
            "d1991a1f23a44121ab62d0692ad865d0",
            "33f83ec95f524c3fb6d5e0a94d44ffdc",
            "5513f4125af143119e233ab86461b4a9"
          ]
        },
        "id": "vuyiM1Lk4L-e",
        "outputId": "95fd0ed3-8fac-4ba6-d855-8c3e48a7ce50"
      },
      "outputs": [
        {
          "output_type": "display_data",
          "data": {
            "text/plain": [
              "  0%|          | 0/241 [00:00<?, ?it/s]"
            ],
            "application/vnd.jupyter.widget-view+json": {
              "version_major": 2,
              "version_minor": 0,
              "model_id": "43d26e15f88d433188712b53f2deed02"
            }
          },
          "metadata": {}
        },
        {
          "output_type": "display_data",
          "data": {
            "text/plain": [
              "  0%|          | 0/241 [00:00<?, ?it/s]"
            ],
            "application/vnd.jupyter.widget-view+json": {
              "version_major": 2,
              "version_minor": 0,
              "model_id": "fb051f22e504487d9042d1c05e924de7"
            }
          },
          "metadata": {}
        }
      ],
      "source": [
        "train_ratings, test_ratings = train_test_split(ratings)"
      ]
    },
    {
      "cell_type": "markdown",
      "id": "P3ZVqBMjBqfe",
      "metadata": {
        "id": "P3ZVqBMjBqfe"
      },
      "source": [
        "Почистим табличку с информацией о треках и закодируем id треков так, чтобы они соответствовали их порядковому номеру."
      ]
    },
    {
      "cell_type": "code",
      "execution_count": 9,
      "id": "-SCTsxeYwCO-",
      "metadata": {
        "id": "-SCTsxeYwCO-"
      },
      "outputs": [],
      "source": [
        "redundant_rows = np.where(~np.isin(tracks_info['id'], train_ratings['trackId'].unique()))[0]\n",
        "tracks_info.drop(redundant_rows, inplace=True)\n",
        "tracks_info = tracks_info.reset_index(drop=True)"
      ]
    },
    {
      "cell_type": "code",
      "execution_count": 10,
      "id": "cVfC-rfU3J49",
      "metadata": {
        "id": "cVfC-rfU3J49"
      },
      "outputs": [],
      "source": [
        "def ids_encoder(ratings):\n",
        "    users = sorted(ratings['userId'].unique())\n",
        "    items = sorted(ratings['trackId'].unique())\n",
        "\n",
        "    # create users and items encoders\n",
        "    uencoder = LabelEncoder()\n",
        "    iencoder = LabelEncoder()\n",
        "\n",
        "    # fit users and items ids to the corresponding encoder\n",
        "    uencoder.fit(users)\n",
        "    iencoder.fit(items)\n",
        "\n",
        "    return uencoder, iencoder"
      ]
    },
    {
      "cell_type": "code",
      "execution_count": 11,
      "id": "xw2VDBz9v6LT",
      "metadata": {
        "id": "xw2VDBz9v6LT"
      },
      "outputs": [],
      "source": [
        "uencoder, iencoder = ids_encoder(train_ratings)\n",
        "train_ratings['trackId'] = iencoder.transform(train_ratings['trackId'].tolist())\n",
        "test_ratings['trackId'] = iencoder.transform(test_ratings['trackId'].tolist())\n",
        "tracks_info['id'] = iencoder.transform(tracks_info['id'].tolist())"
      ]
    },
    {
      "cell_type": "code",
      "execution_count": 12,
      "id": "GfjwnUWTuhRD",
      "metadata": {
        "colab": {
          "base_uri": "https://localhost:8080/",
          "height": 206
        },
        "id": "GfjwnUWTuhRD",
        "outputId": "161f91e8-7250-45a4-e2ed-ba78333fe7a0"
      },
      "outputs": [
        {
          "output_type": "execute_result",
          "data": {
            "text/plain": [
              "   userId  trackId\n",
              "0       0       14\n",
              "1       0       95\n",
              "2       0      219\n",
              "3       0      220\n",
              "4       0      404"
            ],
            "text/html": [
              "\n",
              "  <div id=\"df-d5ed88ee-e0a2-41ac-8c97-ca23b5f15767\" class=\"colab-df-container\">\n",
              "    <div>\n",
              "<style scoped>\n",
              "    .dataframe tbody tr th:only-of-type {\n",
              "        vertical-align: middle;\n",
              "    }\n",
              "\n",
              "    .dataframe tbody tr th {\n",
              "        vertical-align: top;\n",
              "    }\n",
              "\n",
              "    .dataframe thead th {\n",
              "        text-align: right;\n",
              "    }\n",
              "</style>\n",
              "<table border=\"1\" class=\"dataframe\">\n",
              "  <thead>\n",
              "    <tr style=\"text-align: right;\">\n",
              "      <th></th>\n",
              "      <th>userId</th>\n",
              "      <th>trackId</th>\n",
              "    </tr>\n",
              "  </thead>\n",
              "  <tbody>\n",
              "    <tr>\n",
              "      <th>0</th>\n",
              "      <td>0</td>\n",
              "      <td>14</td>\n",
              "    </tr>\n",
              "    <tr>\n",
              "      <th>1</th>\n",
              "      <td>0</td>\n",
              "      <td>95</td>\n",
              "    </tr>\n",
              "    <tr>\n",
              "      <th>2</th>\n",
              "      <td>0</td>\n",
              "      <td>219</td>\n",
              "    </tr>\n",
              "    <tr>\n",
              "      <th>3</th>\n",
              "      <td>0</td>\n",
              "      <td>220</td>\n",
              "    </tr>\n",
              "    <tr>\n",
              "      <th>4</th>\n",
              "      <td>0</td>\n",
              "      <td>404</td>\n",
              "    </tr>\n",
              "  </tbody>\n",
              "</table>\n",
              "</div>\n",
              "    <div class=\"colab-df-buttons\">\n",
              "\n",
              "  <div class=\"colab-df-container\">\n",
              "    <button class=\"colab-df-convert\" onclick=\"convertToInteractive('df-d5ed88ee-e0a2-41ac-8c97-ca23b5f15767')\"\n",
              "            title=\"Convert this dataframe to an interactive table.\"\n",
              "            style=\"display:none;\">\n",
              "\n",
              "  <svg xmlns=\"http://www.w3.org/2000/svg\" height=\"24px\" viewBox=\"0 -960 960 960\">\n",
              "    <path d=\"M120-120v-720h720v720H120Zm60-500h600v-160H180v160Zm220 220h160v-160H400v160Zm0 220h160v-160H400v160ZM180-400h160v-160H180v160Zm440 0h160v-160H620v160ZM180-180h160v-160H180v160Zm440 0h160v-160H620v160Z\"/>\n",
              "  </svg>\n",
              "    </button>\n",
              "\n",
              "  <style>\n",
              "    .colab-df-container {\n",
              "      display:flex;\n",
              "      gap: 12px;\n",
              "    }\n",
              "\n",
              "    .colab-df-convert {\n",
              "      background-color: #E8F0FE;\n",
              "      border: none;\n",
              "      border-radius: 50%;\n",
              "      cursor: pointer;\n",
              "      display: none;\n",
              "      fill: #1967D2;\n",
              "      height: 32px;\n",
              "      padding: 0 0 0 0;\n",
              "      width: 32px;\n",
              "    }\n",
              "\n",
              "    .colab-df-convert:hover {\n",
              "      background-color: #E2EBFA;\n",
              "      box-shadow: 0px 1px 2px rgba(60, 64, 67, 0.3), 0px 1px 3px 1px rgba(60, 64, 67, 0.15);\n",
              "      fill: #174EA6;\n",
              "    }\n",
              "\n",
              "    .colab-df-buttons div {\n",
              "      margin-bottom: 4px;\n",
              "    }\n",
              "\n",
              "    [theme=dark] .colab-df-convert {\n",
              "      background-color: #3B4455;\n",
              "      fill: #D2E3FC;\n",
              "    }\n",
              "\n",
              "    [theme=dark] .colab-df-convert:hover {\n",
              "      background-color: #434B5C;\n",
              "      box-shadow: 0px 1px 3px 1px rgba(0, 0, 0, 0.15);\n",
              "      filter: drop-shadow(0px 1px 2px rgba(0, 0, 0, 0.3));\n",
              "      fill: #FFFFFF;\n",
              "    }\n",
              "  </style>\n",
              "\n",
              "    <script>\n",
              "      const buttonEl =\n",
              "        document.querySelector('#df-d5ed88ee-e0a2-41ac-8c97-ca23b5f15767 button.colab-df-convert');\n",
              "      buttonEl.style.display =\n",
              "        google.colab.kernel.accessAllowed ? 'block' : 'none';\n",
              "\n",
              "      async function convertToInteractive(key) {\n",
              "        const element = document.querySelector('#df-d5ed88ee-e0a2-41ac-8c97-ca23b5f15767');\n",
              "        const dataTable =\n",
              "          await google.colab.kernel.invokeFunction('convertToInteractive',\n",
              "                                                    [key], {});\n",
              "        if (!dataTable) return;\n",
              "\n",
              "        const docLinkHtml = 'Like what you see? Visit the ' +\n",
              "          '<a target=\"_blank\" href=https://colab.research.google.com/notebooks/data_table.ipynb>data table notebook</a>'\n",
              "          + ' to learn more about interactive tables.';\n",
              "        element.innerHTML = '';\n",
              "        dataTable['output_type'] = 'display_data';\n",
              "        await google.colab.output.renderOutput(dataTable, element);\n",
              "        const docLink = document.createElement('div');\n",
              "        docLink.innerHTML = docLinkHtml;\n",
              "        element.appendChild(docLink);\n",
              "      }\n",
              "    </script>\n",
              "  </div>\n",
              "\n",
              "\n",
              "    <div id=\"df-c5d0046f-09ee-4a71-80d4-75cd4fbc2248\">\n",
              "      <button class=\"colab-df-quickchart\" onclick=\"quickchart('df-c5d0046f-09ee-4a71-80d4-75cd4fbc2248')\"\n",
              "                title=\"Suggest charts\"\n",
              "                style=\"display:none;\">\n",
              "\n",
              "<svg xmlns=\"http://www.w3.org/2000/svg\" height=\"24px\"viewBox=\"0 0 24 24\"\n",
              "     width=\"24px\">\n",
              "    <g>\n",
              "        <path d=\"M19 3H5c-1.1 0-2 .9-2 2v14c0 1.1.9 2 2 2h14c1.1 0 2-.9 2-2V5c0-1.1-.9-2-2-2zM9 17H7v-7h2v7zm4 0h-2V7h2v10zm4 0h-2v-4h2v4z\"/>\n",
              "    </g>\n",
              "</svg>\n",
              "      </button>\n",
              "\n",
              "<style>\n",
              "  .colab-df-quickchart {\n",
              "      --bg-color: #E8F0FE;\n",
              "      --fill-color: #1967D2;\n",
              "      --hover-bg-color: #E2EBFA;\n",
              "      --hover-fill-color: #174EA6;\n",
              "      --disabled-fill-color: #AAA;\n",
              "      --disabled-bg-color: #DDD;\n",
              "  }\n",
              "\n",
              "  [theme=dark] .colab-df-quickchart {\n",
              "      --bg-color: #3B4455;\n",
              "      --fill-color: #D2E3FC;\n",
              "      --hover-bg-color: #434B5C;\n",
              "      --hover-fill-color: #FFFFFF;\n",
              "      --disabled-bg-color: #3B4455;\n",
              "      --disabled-fill-color: #666;\n",
              "  }\n",
              "\n",
              "  .colab-df-quickchart {\n",
              "    background-color: var(--bg-color);\n",
              "    border: none;\n",
              "    border-radius: 50%;\n",
              "    cursor: pointer;\n",
              "    display: none;\n",
              "    fill: var(--fill-color);\n",
              "    height: 32px;\n",
              "    padding: 0;\n",
              "    width: 32px;\n",
              "  }\n",
              "\n",
              "  .colab-df-quickchart:hover {\n",
              "    background-color: var(--hover-bg-color);\n",
              "    box-shadow: 0 1px 2px rgba(60, 64, 67, 0.3), 0 1px 3px 1px rgba(60, 64, 67, 0.15);\n",
              "    fill: var(--button-hover-fill-color);\n",
              "  }\n",
              "\n",
              "  .colab-df-quickchart-complete:disabled,\n",
              "  .colab-df-quickchart-complete:disabled:hover {\n",
              "    background-color: var(--disabled-bg-color);\n",
              "    fill: var(--disabled-fill-color);\n",
              "    box-shadow: none;\n",
              "  }\n",
              "\n",
              "  .colab-df-spinner {\n",
              "    border: 2px solid var(--fill-color);\n",
              "    border-color: transparent;\n",
              "    border-bottom-color: var(--fill-color);\n",
              "    animation:\n",
              "      spin 1s steps(1) infinite;\n",
              "  }\n",
              "\n",
              "  @keyframes spin {\n",
              "    0% {\n",
              "      border-color: transparent;\n",
              "      border-bottom-color: var(--fill-color);\n",
              "      border-left-color: var(--fill-color);\n",
              "    }\n",
              "    20% {\n",
              "      border-color: transparent;\n",
              "      border-left-color: var(--fill-color);\n",
              "      border-top-color: var(--fill-color);\n",
              "    }\n",
              "    30% {\n",
              "      border-color: transparent;\n",
              "      border-left-color: var(--fill-color);\n",
              "      border-top-color: var(--fill-color);\n",
              "      border-right-color: var(--fill-color);\n",
              "    }\n",
              "    40% {\n",
              "      border-color: transparent;\n",
              "      border-right-color: var(--fill-color);\n",
              "      border-top-color: var(--fill-color);\n",
              "    }\n",
              "    60% {\n",
              "      border-color: transparent;\n",
              "      border-right-color: var(--fill-color);\n",
              "    }\n",
              "    80% {\n",
              "      border-color: transparent;\n",
              "      border-right-color: var(--fill-color);\n",
              "      border-bottom-color: var(--fill-color);\n",
              "    }\n",
              "    90% {\n",
              "      border-color: transparent;\n",
              "      border-bottom-color: var(--fill-color);\n",
              "    }\n",
              "  }\n",
              "</style>\n",
              "\n",
              "      <script>\n",
              "        async function quickchart(key) {\n",
              "          const quickchartButtonEl =\n",
              "            document.querySelector('#' + key + ' button');\n",
              "          quickchartButtonEl.disabled = true;  // To prevent multiple clicks.\n",
              "          quickchartButtonEl.classList.add('colab-df-spinner');\n",
              "          try {\n",
              "            const charts = await google.colab.kernel.invokeFunction(\n",
              "                'suggestCharts', [key], {});\n",
              "          } catch (error) {\n",
              "            console.error('Error during call to suggestCharts:', error);\n",
              "          }\n",
              "          quickchartButtonEl.classList.remove('colab-df-spinner');\n",
              "          quickchartButtonEl.classList.add('colab-df-quickchart-complete');\n",
              "        }\n",
              "        (() => {\n",
              "          let quickchartButtonEl =\n",
              "            document.querySelector('#df-c5d0046f-09ee-4a71-80d4-75cd4fbc2248 button');\n",
              "          quickchartButtonEl.style.display =\n",
              "            google.colab.kernel.accessAllowed ? 'block' : 'none';\n",
              "        })();\n",
              "      </script>\n",
              "    </div>\n",
              "    </div>\n",
              "  </div>\n"
            ],
            "application/vnd.google.colaboratory.intrinsic+json": {
              "type": "dataframe",
              "variable_name": "train_ratings"
            }
          },
          "metadata": {},
          "execution_count": 12
        }
      ],
      "source": [
        "train_ratings.head()"
      ]
    },
    {
      "cell_type": "code",
      "execution_count": 13,
      "id": "rtV91NkmuizE",
      "metadata": {
        "colab": {
          "base_uri": "https://localhost:8080/",
          "height": 206
        },
        "id": "rtV91NkmuizE",
        "outputId": "e33943fe-8620-4051-a22c-43cc0a48732c"
      },
      "outputs": [
        {
          "output_type": "execute_result",
          "data": {
            "text/plain": [
              "   userId  trackId\n",
              "0       0    57582\n",
              "1       0    57802\n",
              "2       0    57957\n",
              "3       0    58174\n",
              "4       0    59168"
            ],
            "text/html": [
              "\n",
              "  <div id=\"df-cb97546b-f5e0-4927-afd1-737ba91dccc9\" class=\"colab-df-container\">\n",
              "    <div>\n",
              "<style scoped>\n",
              "    .dataframe tbody tr th:only-of-type {\n",
              "        vertical-align: middle;\n",
              "    }\n",
              "\n",
              "    .dataframe tbody tr th {\n",
              "        vertical-align: top;\n",
              "    }\n",
              "\n",
              "    .dataframe thead th {\n",
              "        text-align: right;\n",
              "    }\n",
              "</style>\n",
              "<table border=\"1\" class=\"dataframe\">\n",
              "  <thead>\n",
              "    <tr style=\"text-align: right;\">\n",
              "      <th></th>\n",
              "      <th>userId</th>\n",
              "      <th>trackId</th>\n",
              "    </tr>\n",
              "  </thead>\n",
              "  <tbody>\n",
              "    <tr>\n",
              "      <th>0</th>\n",
              "      <td>0</td>\n",
              "      <td>57582</td>\n",
              "    </tr>\n",
              "    <tr>\n",
              "      <th>1</th>\n",
              "      <td>0</td>\n",
              "      <td>57802</td>\n",
              "    </tr>\n",
              "    <tr>\n",
              "      <th>2</th>\n",
              "      <td>0</td>\n",
              "      <td>57957</td>\n",
              "    </tr>\n",
              "    <tr>\n",
              "      <th>3</th>\n",
              "      <td>0</td>\n",
              "      <td>58174</td>\n",
              "    </tr>\n",
              "    <tr>\n",
              "      <th>4</th>\n",
              "      <td>0</td>\n",
              "      <td>59168</td>\n",
              "    </tr>\n",
              "  </tbody>\n",
              "</table>\n",
              "</div>\n",
              "    <div class=\"colab-df-buttons\">\n",
              "\n",
              "  <div class=\"colab-df-container\">\n",
              "    <button class=\"colab-df-convert\" onclick=\"convertToInteractive('df-cb97546b-f5e0-4927-afd1-737ba91dccc9')\"\n",
              "            title=\"Convert this dataframe to an interactive table.\"\n",
              "            style=\"display:none;\">\n",
              "\n",
              "  <svg xmlns=\"http://www.w3.org/2000/svg\" height=\"24px\" viewBox=\"0 -960 960 960\">\n",
              "    <path d=\"M120-120v-720h720v720H120Zm60-500h600v-160H180v160Zm220 220h160v-160H400v160Zm0 220h160v-160H400v160ZM180-400h160v-160H180v160Zm440 0h160v-160H620v160ZM180-180h160v-160H180v160Zm440 0h160v-160H620v160Z\"/>\n",
              "  </svg>\n",
              "    </button>\n",
              "\n",
              "  <style>\n",
              "    .colab-df-container {\n",
              "      display:flex;\n",
              "      gap: 12px;\n",
              "    }\n",
              "\n",
              "    .colab-df-convert {\n",
              "      background-color: #E8F0FE;\n",
              "      border: none;\n",
              "      border-radius: 50%;\n",
              "      cursor: pointer;\n",
              "      display: none;\n",
              "      fill: #1967D2;\n",
              "      height: 32px;\n",
              "      padding: 0 0 0 0;\n",
              "      width: 32px;\n",
              "    }\n",
              "\n",
              "    .colab-df-convert:hover {\n",
              "      background-color: #E2EBFA;\n",
              "      box-shadow: 0px 1px 2px rgba(60, 64, 67, 0.3), 0px 1px 3px 1px rgba(60, 64, 67, 0.15);\n",
              "      fill: #174EA6;\n",
              "    }\n",
              "\n",
              "    .colab-df-buttons div {\n",
              "      margin-bottom: 4px;\n",
              "    }\n",
              "\n",
              "    [theme=dark] .colab-df-convert {\n",
              "      background-color: #3B4455;\n",
              "      fill: #D2E3FC;\n",
              "    }\n",
              "\n",
              "    [theme=dark] .colab-df-convert:hover {\n",
              "      background-color: #434B5C;\n",
              "      box-shadow: 0px 1px 3px 1px rgba(0, 0, 0, 0.15);\n",
              "      filter: drop-shadow(0px 1px 2px rgba(0, 0, 0, 0.3));\n",
              "      fill: #FFFFFF;\n",
              "    }\n",
              "  </style>\n",
              "\n",
              "    <script>\n",
              "      const buttonEl =\n",
              "        document.querySelector('#df-cb97546b-f5e0-4927-afd1-737ba91dccc9 button.colab-df-convert');\n",
              "      buttonEl.style.display =\n",
              "        google.colab.kernel.accessAllowed ? 'block' : 'none';\n",
              "\n",
              "      async function convertToInteractive(key) {\n",
              "        const element = document.querySelector('#df-cb97546b-f5e0-4927-afd1-737ba91dccc9');\n",
              "        const dataTable =\n",
              "          await google.colab.kernel.invokeFunction('convertToInteractive',\n",
              "                                                    [key], {});\n",
              "        if (!dataTable) return;\n",
              "\n",
              "        const docLinkHtml = 'Like what you see? Visit the ' +\n",
              "          '<a target=\"_blank\" href=https://colab.research.google.com/notebooks/data_table.ipynb>data table notebook</a>'\n",
              "          + ' to learn more about interactive tables.';\n",
              "        element.innerHTML = '';\n",
              "        dataTable['output_type'] = 'display_data';\n",
              "        await google.colab.output.renderOutput(dataTable, element);\n",
              "        const docLink = document.createElement('div');\n",
              "        docLink.innerHTML = docLinkHtml;\n",
              "        element.appendChild(docLink);\n",
              "      }\n",
              "    </script>\n",
              "  </div>\n",
              "\n",
              "\n",
              "    <div id=\"df-a6e1ad84-7458-4059-b671-6c844129587b\">\n",
              "      <button class=\"colab-df-quickchart\" onclick=\"quickchart('df-a6e1ad84-7458-4059-b671-6c844129587b')\"\n",
              "                title=\"Suggest charts\"\n",
              "                style=\"display:none;\">\n",
              "\n",
              "<svg xmlns=\"http://www.w3.org/2000/svg\" height=\"24px\"viewBox=\"0 0 24 24\"\n",
              "     width=\"24px\">\n",
              "    <g>\n",
              "        <path d=\"M19 3H5c-1.1 0-2 .9-2 2v14c0 1.1.9 2 2 2h14c1.1 0 2-.9 2-2V5c0-1.1-.9-2-2-2zM9 17H7v-7h2v7zm4 0h-2V7h2v10zm4 0h-2v-4h2v4z\"/>\n",
              "    </g>\n",
              "</svg>\n",
              "      </button>\n",
              "\n",
              "<style>\n",
              "  .colab-df-quickchart {\n",
              "      --bg-color: #E8F0FE;\n",
              "      --fill-color: #1967D2;\n",
              "      --hover-bg-color: #E2EBFA;\n",
              "      --hover-fill-color: #174EA6;\n",
              "      --disabled-fill-color: #AAA;\n",
              "      --disabled-bg-color: #DDD;\n",
              "  }\n",
              "\n",
              "  [theme=dark] .colab-df-quickchart {\n",
              "      --bg-color: #3B4455;\n",
              "      --fill-color: #D2E3FC;\n",
              "      --hover-bg-color: #434B5C;\n",
              "      --hover-fill-color: #FFFFFF;\n",
              "      --disabled-bg-color: #3B4455;\n",
              "      --disabled-fill-color: #666;\n",
              "  }\n",
              "\n",
              "  .colab-df-quickchart {\n",
              "    background-color: var(--bg-color);\n",
              "    border: none;\n",
              "    border-radius: 50%;\n",
              "    cursor: pointer;\n",
              "    display: none;\n",
              "    fill: var(--fill-color);\n",
              "    height: 32px;\n",
              "    padding: 0;\n",
              "    width: 32px;\n",
              "  }\n",
              "\n",
              "  .colab-df-quickchart:hover {\n",
              "    background-color: var(--hover-bg-color);\n",
              "    box-shadow: 0 1px 2px rgba(60, 64, 67, 0.3), 0 1px 3px 1px rgba(60, 64, 67, 0.15);\n",
              "    fill: var(--button-hover-fill-color);\n",
              "  }\n",
              "\n",
              "  .colab-df-quickchart-complete:disabled,\n",
              "  .colab-df-quickchart-complete:disabled:hover {\n",
              "    background-color: var(--disabled-bg-color);\n",
              "    fill: var(--disabled-fill-color);\n",
              "    box-shadow: none;\n",
              "  }\n",
              "\n",
              "  .colab-df-spinner {\n",
              "    border: 2px solid var(--fill-color);\n",
              "    border-color: transparent;\n",
              "    border-bottom-color: var(--fill-color);\n",
              "    animation:\n",
              "      spin 1s steps(1) infinite;\n",
              "  }\n",
              "\n",
              "  @keyframes spin {\n",
              "    0% {\n",
              "      border-color: transparent;\n",
              "      border-bottom-color: var(--fill-color);\n",
              "      border-left-color: var(--fill-color);\n",
              "    }\n",
              "    20% {\n",
              "      border-color: transparent;\n",
              "      border-left-color: var(--fill-color);\n",
              "      border-top-color: var(--fill-color);\n",
              "    }\n",
              "    30% {\n",
              "      border-color: transparent;\n",
              "      border-left-color: var(--fill-color);\n",
              "      border-top-color: var(--fill-color);\n",
              "      border-right-color: var(--fill-color);\n",
              "    }\n",
              "    40% {\n",
              "      border-color: transparent;\n",
              "      border-right-color: var(--fill-color);\n",
              "      border-top-color: var(--fill-color);\n",
              "    }\n",
              "    60% {\n",
              "      border-color: transparent;\n",
              "      border-right-color: var(--fill-color);\n",
              "    }\n",
              "    80% {\n",
              "      border-color: transparent;\n",
              "      border-right-color: var(--fill-color);\n",
              "      border-bottom-color: var(--fill-color);\n",
              "    }\n",
              "    90% {\n",
              "      border-color: transparent;\n",
              "      border-bottom-color: var(--fill-color);\n",
              "    }\n",
              "  }\n",
              "</style>\n",
              "\n",
              "      <script>\n",
              "        async function quickchart(key) {\n",
              "          const quickchartButtonEl =\n",
              "            document.querySelector('#' + key + ' button');\n",
              "          quickchartButtonEl.disabled = true;  // To prevent multiple clicks.\n",
              "          quickchartButtonEl.classList.add('colab-df-spinner');\n",
              "          try {\n",
              "            const charts = await google.colab.kernel.invokeFunction(\n",
              "                'suggestCharts', [key], {});\n",
              "          } catch (error) {\n",
              "            console.error('Error during call to suggestCharts:', error);\n",
              "          }\n",
              "          quickchartButtonEl.classList.remove('colab-df-spinner');\n",
              "          quickchartButtonEl.classList.add('colab-df-quickchart-complete');\n",
              "        }\n",
              "        (() => {\n",
              "          let quickchartButtonEl =\n",
              "            document.querySelector('#df-a6e1ad84-7458-4059-b671-6c844129587b button');\n",
              "          quickchartButtonEl.style.display =\n",
              "            google.colab.kernel.accessAllowed ? 'block' : 'none';\n",
              "        })();\n",
              "      </script>\n",
              "    </div>\n",
              "    </div>\n",
              "  </div>\n"
            ],
            "application/vnd.google.colaboratory.intrinsic+json": {
              "type": "dataframe",
              "variable_name": "test_ratings",
              "summary": "{\n  \"name\": \"test_ratings\",\n  \"rows\": 6133,\n  \"fields\": [\n    {\n      \"column\": \"userId\",\n      \"properties\": {\n        \"dtype\": \"number\",\n        \"std\": 69,\n        \"min\": 0,\n        \"max\": 240,\n        \"num_unique_values\": 235,\n        \"samples\": [\n          70,\n          213,\n          185\n        ],\n        \"semantic_type\": \"\",\n        \"description\": \"\"\n      }\n    },\n    {\n      \"column\": \"trackId\",\n      \"properties\": {\n        \"dtype\": \"number\",\n        \"std\": 11103,\n        \"min\": 9922,\n        \"max\": 67312,\n        \"num_unique_values\": 3796,\n        \"samples\": [\n          64916,\n          64647,\n          26130\n        ],\n        \"semantic_type\": \"\",\n        \"description\": \"\"\n      }\n    }\n  ]\n}"
            }
          },
          "metadata": {},
          "execution_count": 13
        }
      ],
      "source": [
        "test_ratings.head()"
      ]
    },
    {
      "cell_type": "markdown",
      "id": "COtKDquLRrVV",
      "metadata": {
        "id": "COtKDquLRrVV"
      },
      "source": [
        "Соберем все релевантные треки для каждого пользователя в список."
      ]
    },
    {
      "cell_type": "code",
      "execution_count": 14,
      "id": "UOCGl5rpPrDn",
      "metadata": {
        "id": "UOCGl5rpPrDn"
      },
      "outputs": [],
      "source": [
        "test_relevant = []\n",
        "test_users = []\n",
        "for user_id, user_data in test_ratings.groupby('userId'):\n",
        "    test_relevant += [user_data['trackId'].tolist()]\n",
        "    test_users.append(user_id)"
      ]
    },
    {
      "cell_type": "markdown",
      "id": "3UyBjs1SULH9",
      "metadata": {
        "id": "3UyBjs1SULH9"
      },
      "source": [
        "**Задание 2 (1 балл).** Реализуйте метод `get_test_recommendations` в классе `BaseModel`. Он принимает на вход параметр `k` и возвращает массив из `k` наиболее подходящих треков для каждого пользователя. Не забывайте удалять уже прослушанные треки из рекомендуемых."
      ]
    },
    {
      "cell_type": "code",
      "execution_count": 15,
      "id": "sXnUGtM3XOp7",
      "metadata": {
        "id": "sXnUGtM3XOp7"
      },
      "outputs": [],
      "source": [
        "class BaseModel:\n",
        "    def __init__(self, ratings: pd.DataFrame):\n",
        "        self.ratings = ratings\n",
        "        self.n_users = len(np.unique(self.ratings['userId']))\n",
        "        self.n_items = len(np.unique(self.ratings['trackId']))\n",
        "\n",
        "        self.R = np.zeros((self.n_users, self.n_items))\n",
        "        self.R[self.ratings['userId'], self.ratings['trackId']] = 1.\n",
        "\n",
        "    def recommend(self, uid: int):\n",
        "        \"\"\"\n",
        "        param uid: int - user's id\n",
        "        return: [n_items] - vector of recommended items sorted by their scores in descending order\n",
        "        \"\"\"\n",
        "        raise NotImplementedError\n",
        "\n",
        "    def remove_train_items(self, preds: List[List[int]], k: int):\n",
        "        \"\"\"\n",
        "        param preds: [n_users, n_items] - recommended items for each user\n",
        "        param k: int\n",
        "        return: np.array [n_users, k] - recommended items without training examples\n",
        "        \"\"\"\n",
        "        new_preds = np.zeros((len(preds), k), dtype=int)\n",
        "        for user_id, user_data in self.ratings.groupby('userId'):\n",
        "            user_preds = preds[user_id]\n",
        "            new_preds[user_id] = user_preds[~np.in1d(user_preds, user_data['trackId'])][:k]\n",
        "\n",
        "        return new_preds\n",
        "\n",
        "    def get_test_recommendations(self, k: int):\n",
        "        test_preds = []\n",
        "        for user in range(self.n_users):\n",
        "            test_preds.append(self.recommend(user))\n",
        "        test_preds = self.remove_train_items(test_preds, k)\n",
        "\n",
        "        return test_preds[test_users]"
      ]
    },
    {
      "cell_type": "markdown",
      "id": "jMdKX1DZ-o4V",
      "metadata": {
        "id": "jMdKX1DZ-o4V"
      },
      "source": [
        "## Часть 1. Коллаборативная фильтрация (User2User)"
      ]
    },
    {
      "cell_type": "markdown",
      "id": "t_ZLzg_0XxVf",
      "metadata": {
        "id": "t_ZLzg_0XxVf"
      },
      "source": [
        "Идея: чтобы выбрать треки, которые понравятся пользователю, можно набрать несколько похожих на него пользователей (соседей) и посмотреть, какие треки они слушают. После этого остается агрегировать треки этих пользователей и выбрать самые популярные. Соответственно, задача состоит из двух частей: выбора функции похожести двух пользователей и способа агрегации.\n",
        "\n",
        "В качестве функции похожести мы будем использовать две метрики:\n",
        "\n",
        "1. Корреляция Пирсона $$s(u, v) = \\frac{\\sum_{i \\in I_u \\cap I_v} r_{ui}r_{vi}}{\\sqrt{\\sum_{i \\in I_u} r_{ui} ^2}\\sqrt{\\sum_{i \\in I_v} r_{vi}^2}} $$\n",
        "\n",
        "2. Мера Жаккара\n",
        "\n",
        "$$ s(u, v) = \\frac{|I_u \\cap I_v|}{|I_u \\cup I_v|} $$\n",
        "\n",
        "\n",
        "Корреляция Пирсона немного видоизменена, чтобы подходить под нашу задачу.\n",
        "\n",
        "\n",
        "Во всех формулах\n",
        "* $I_u$ - множество треков, прослушанных пользователем $u$.\n",
        "* $r_{ui}$ - прослушал ли пользователь $u$ трек $i$ (0 или 1).\n",
        "\n",
        "Множество соседей определим как $$N(u) = \\{ v \\in U \\setminus \\{u\\} \\mid s(u, v) > \\alpha\\},$$ где $\\alpha \\, - $ гиперпараметр.\n",
        "\n",
        "\n",
        "\n",
        "Для агрегации мы будем пользоваться следующей формулой.\n",
        "$$\n",
        "\\hat{r}_{ui} = \\frac{\\sum_{v \\in N(u)} s(u, v) r_{vi}}{\\sum_{v \\in N(u)} |s(u, v)|}\n",
        "$$"
      ]
    },
    {
      "cell_type": "markdown",
      "id": "YJyD1LVTKK9A",
      "metadata": {
        "id": "YJyD1LVTKK9A"
      },
      "source": [
        "**Задание 3.1 (1 балл).** Реализуйте функцию подсчета корреляции Пирсона.\n",
        "\n",
        "**Задание 3.2 (1 балл).** Реализуйте функцию подсчета меры Жаккара.\n",
        "\n",
        "Функции принимают матрицу оценок и вектор оценок пользователя $u$ и возвращают вектор со значениями похожести пользователя $u$ на всех пользователей. Старайтесь писать оптимизированный код, за неэффективную реализацию оценка может быть снижена."
      ]
    },
    {
      "cell_type": "code",
      "execution_count": 24,
      "id": "rRvSRm_aWZMR",
      "metadata": {
        "id": "rRvSRm_aWZMR"
      },
      "outputs": [],
      "source": [
        "def pearson(ratings: np.array, user_vector: np.array) -> np.array:\n",
        "    numerator = ratings @ user_vector\n",
        "    denominator = np.linalg.norm(ratings, axis=1)*np.linalg.norm(user_vector)\n",
        "\n",
        "    similarity = numerator / denominator\n",
        "    similarity[denominator == 0] = 0\n",
        "\n",
        "    return similarity\n",
        "\n",
        "\n",
        "def jaccard(ratings: np.array, user_vector: np.array) -> np.array:\n",
        "    intersection = np.logical_and(user_vector, ratings).sum(axis=1)\n",
        "    union = np.logical_or(user_vector, ratings).sum(axis=1)\n",
        "    similarity = intersection/union\n",
        "    similarity[union == 0] = 0\n",
        "\n",
        "    return similarity"
      ]
    },
    {
      "cell_type": "markdown",
      "id": "WMLtM7ffNWdx",
      "metadata": {
        "id": "WMLtM7ffNWdx"
      },
      "source": [
        "**Задание 4 (1 балл).** Реализуйте методы `similarity` и `recommend` класса `User2User`. `recommend` возвращает индексы треков, отсортированные в порядке убывания предсказанных оценок.\n"
      ]
    },
    {
      "cell_type": "code",
      "execution_count": 17,
      "id": "5ZIz0G1RJbXl",
      "metadata": {
        "id": "5ZIz0G1RJbXl"
      },
      "outputs": [],
      "source": [
        "class User2User(BaseModel):\n",
        "    def __init__(self, ratings, similarity_func):\n",
        "        super().__init__(ratings)\n",
        "\n",
        "        assert similarity_func in [pearson, jaccard]\n",
        "\n",
        "        self.similarity_func = similarity_func\n",
        "        self.alpha = 0.02\n",
        "\n",
        "    def similarity(self, user_vector: np.array):\n",
        "        \"\"\"\n",
        "        user_vector: [n_items]\n",
        "        \"\"\"\n",
        "        return self.similarity_func(self.R, user_vector)\n",
        "\n",
        "    def recommend(self, uid: int):\n",
        "        sim = self.similarity(self.R[uid])\n",
        "        sim[uid] = 0\n",
        "        sim_users_indexes = np.where(sim > self.alpha)[0]\n",
        "\n",
        "        return np.argsort(-sim[sim_users_indexes] @ self.R[sim_users_indexes])"
      ]
    },
    {
      "cell_type": "markdown",
      "id": "kqEwJiFOSs2r",
      "metadata": {
        "id": "kqEwJiFOSs2r"
      },
      "source": [
        "**Задание 5 (1 балл).** Постройте графики зависимости значений $MAP@k$ от разных $k$ для обоих функций похожести, сравните их между собой, а также с предсказаниями случайного алгоритма и сделайте выводы."
      ]
    },
    {
      "cell_type": "code",
      "execution_count": 26,
      "id": "tyswL-dlNpy7",
      "metadata": {
        "id": "tyswL-dlNpy7",
        "colab": {
          "base_uri": "https://localhost:8080/",
          "height": 564
        },
        "outputId": "0cbe5960-3565-4f03-9559-2843e68376d4"
      },
      "outputs": [
        {
          "output_type": "display_data",
          "data": {
            "text/plain": [
              "<Figure size 1000x600 with 1 Axes>"
            ],
            "image/png": "[encoded data removed]"
          },
          "metadata": {}
        }
      ],
      "source": [
        "col_filtr_pearson = User2User(train_ratings, similarity_func=pearson)\n",
        "col_filtr_jaccard = User2User(train_ratings, similarity_func=jaccard)\n",
        "\n",
        "k_max = 30\n",
        "\n",
        "mapk_pearson = []\n",
        "mapk_jaccard = []\n",
        "mapk_random = []\n",
        "\n",
        "for k in range(1, k_max+1):\n",
        "    rec_pearson = col_filtr_pearson.get_test_recommendations(k)\n",
        "    rec_jaccard = col_filtr_jaccard.get_test_recommendations(k)\n",
        "    rec_random = np.random.choice(np.unique(train_ratings['trackId']), size=(len(test_users), k))\n",
        "\n",
        "    mapk_pearson.append(mapk(test_relevant, rec_pearson, k))\n",
        "    mapk_jaccard.append(mapk(test_relevant, rec_jaccard, k))\n",
        "    mapk_random.append(mapk(test_relevant, rec_random, k))\n",
        "\n",
        "plt.figure(figsize=(10, 6))\n",
        "plt.plot(range(1, k_max + 1), mapk_pearson, label='User2User (Pearson)', marker='o')\n",
        "plt.plot(range(1, k_max + 1), mapk_jaccard, label='User2User (Jaccard)', marker='s')\n",
        "plt.plot(range(1, k_max + 1), mapk_random, label='Random tracks', marker='^')\n",
        "plt.xlabel('k')\n",
        "plt.ylabel('MAP@k')\n",
        "plt.title('MAP@k для разных стратегий рекомендаций')\n",
        "plt.legend()\n",
        "plt.grid(True)\n",
        "plt.show()"
      ]
    },
    {
      "cell_type": "markdown",
      "source": [
        "**Вывод:** Лучшим оказался способ рекомендации, основанный на мере Жаккара, он в среднем выдает метрику 0.002, тогда как рандомный подход показывает наихудший результат среди трех методов, в среднем map@k около 0.0001, но иногда бывают более удачные рекомендации (при k=1, 4). Подход основанный на корреляции Пирсона выдает наивысшие результаты только при k=1, 2, а далее находится между результами случайного подхода и подхода, основанного на мере Жаккара, метрика в среднем меньше чуть 0.001."
      ],
      "metadata": {
        "id": "qQFfxn6pRAQO"
      },
      "id": "qQFfxn6pRAQO"
    },
    {
      "cell_type": "markdown",
      "id": "0Fy7v-b-WDQE",
      "metadata": {
        "id": "0Fy7v-b-WDQE"
      },
      "source": [
        "**Задание 6 (1.5 балла).** Как вы могли заметить, матрица оценок получается очень разреженной, но мы работаем с ней как с обычной, это не дело. Перепишите код так, чтобы все методы могли работать с разреженными матрицами и сравните скорость работы такого подхода с оригинальным."
      ]
    },
    {
      "cell_type": "code",
      "execution_count": 27,
      "id": "4jQiwrTbW_DL",
      "metadata": {
        "id": "4jQiwrTbW_DL"
      },
      "outputs": [],
      "source": [
        "from scipy.sparse import csr_matrix"
      ]
    },
    {
      "cell_type": "code",
      "source": [
        "class BaseModel_sparse:\n",
        "    def __init__(self, ratings: pd.DataFrame):\n",
        "        self.ratings = ratings\n",
        "        self.n_users = len(np.unique(self.ratings['userId']))\n",
        "        self.n_items = len(np.unique(self.ratings['trackId']))\n",
        "\n",
        "        self.R = csr_matrix((np.ones(len(ratings)), (ratings['userId'], ratings['trackId'])), shape=(self.n_users, self.n_items))\n",
        "\n",
        "    def recommend(self, uid: int):\n",
        "        \"\"\"\n",
        "        param uid: int - user's id\n",
        "        return: [n_items] - vector of recommended items sorted by their scores in descending order\n",
        "        \"\"\"\n",
        "        raise NotImplementedError\n",
        "\n",
        "    def remove_train_items(self, preds: List[List[int]], k: int):\n",
        "        \"\"\"\n",
        "        param preds: [n_users, n_items] - recommended items for each user\n",
        "        param k: int\n",
        "        return: np.array [n_users, k] - recommended items without training examples\n",
        "        \"\"\"\n",
        "        new_preds = np.zeros((len(preds), k), dtype=int)\n",
        "        for user_id, user_data in self.ratings.groupby('userId'):\n",
        "            user_preds = preds[user_id]\n",
        "            new_preds[user_id] = user_preds[~np.in1d(user_preds, user_data['trackId'])][:k]\n",
        "\n",
        "        return new_preds\n",
        "\n",
        "    def get_test_recommendations(self, k: int):\n",
        "        test_preds = []\n",
        "        for user in range(self.n_users):\n",
        "            test_preds.append(self.recommend(user))\n",
        "        test_preds = self.remove_train_items(test_preds, k)\n",
        "        return test_preds[test_users]"
      ],
      "metadata": {
        "id": "ETPrlxu0C-IS"
      },
      "id": "ETPrlxu0C-IS",
      "execution_count": 28,
      "outputs": []
    },
    {
      "cell_type": "code",
      "source": [
        "def pearson_sparse(ratings: csr_matrix, user_vector: np.array) -> np.array:\n",
        "    numerator = ratings.dot(user_vector.T).toarray().ravel()\n",
        "\n",
        "    ratings_norms = np.sqrt(ratings.multiply(ratings).sum(axis=1)).A1\n",
        "    user_norm = np.sqrt(user_vector.multiply(user_vector).sum())\n",
        "\n",
        "    denominator = ratings_norms*user_norm\n",
        "\n",
        "    similarity = numerator / denominator\n",
        "    similarity[denominator == 0] = 0\n",
        "\n",
        "    return similarity\n",
        "\n",
        "def jaccard_sparse(ratings: csr_matrix, user_vector: csr_matrix) -> np.array:\n",
        "    ratings_bin = ratings.astype(bool)\n",
        "    user_bin = user_vector.astype(bool)\n",
        "\n",
        "    intersection = ratings_bin.multiply(user_bin).sum(axis=1).A1\n",
        "    union = ratings_bin.sum(axis=1).A1 + user_bin.sum() - intersection\n",
        "    similarity = intersection/union\n",
        "    similarity[union == 0] = 0\n",
        "\n",
        "    return similarity"
      ],
      "metadata": {
        "id": "Xbi9nhAlC-wf"
      },
      "id": "Xbi9nhAlC-wf",
      "execution_count": 50,
      "outputs": []
    },
    {
      "cell_type": "code",
      "source": [
        "class User2User_sparse(BaseModel_sparse):\n",
        "    def __init__(self, ratings, similarity_func):\n",
        "        super().__init__(ratings)\n",
        "\n",
        "        assert similarity_func in [pearson_sparse, jaccard_sparse]\n",
        "\n",
        "        self.similarity_func = similarity_func\n",
        "        self.alpha = 0.02\n",
        "\n",
        "    def similarity(self, user_vector: csr_matrix):\n",
        "        \"\"\"\n",
        "        user_vector: [n_items]\n",
        "        \"\"\"\n",
        "        return self.similarity_func(self.R, user_vector)\n",
        "\n",
        "    def recommend(self, uid: int):\n",
        "        sim = self.similarity(self.R[uid])\n",
        "        sim[uid] = 0\n",
        "        sim_users_indexes = np.where(sim > self.alpha)[0]\n",
        "\n",
        "        return np.argsort(-sim[sim_users_indexes] @ self.R[sim_users_indexes])"
      ],
      "metadata": {
        "id": "LmFXMFSvDEO1"
      },
      "id": "LmFXMFSvDEO1",
      "execution_count": 30,
      "outputs": []
    },
    {
      "cell_type": "code",
      "source": [
        "import time\n",
        "\n",
        "start = time.time()\n",
        "model_dense = User2User(train_ratings, similarity_func=pearson)\n",
        "recs_dense = model_dense.get_test_recommendations(15)\n",
        "print(f'Оригинальный подход: {time.time() - start:.2f} сек')\n",
        "\n",
        "start = time.time()\n",
        "model_sparse = User2User_sparse(train_ratings, similarity_func=pearson_sparse)\n",
        "recs_sparse = model_sparse.get_test_recommendations(15)\n",
        "print(f\"Разреженный подход: {time.time() - start:.2f} сек\")\n",
        "\n",
        "assert np.allclose(recs_dense, recs_sparse)"
      ],
      "metadata": {
        "colab": {
          "base_uri": "https://localhost:8080/"
        },
        "id": "ehCW333HDGfp",
        "outputId": "bc6acf36-8aea-4742-fb0e-a0efd68caef6"
      },
      "id": "ehCW333HDGfp",
      "execution_count": 51,
      "outputs": [
        {
          "output_type": "stream",
          "name": "stdout",
          "text": [
            "Оригинальный подход: 39.01 сек\n",
            "Разреженный подход: 1.47 сек\n"
          ]
        }
      ]
    },
    {
      "cell_type": "code",
      "source": [
        "import time\n",
        "\n",
        "start = time.time()\n",
        "model_dense = User2User(train_ratings, similarity_func=jaccard)\n",
        "recs_dense = model_dense.get_test_recommendations(15)\n",
        "print(f'Оригинальный подход: {time.time() - start:.2f} сек')\n",
        "\n",
        "start = time.time()\n",
        "model_sparse = User2User_sparse(train_ratings, similarity_func=jaccard_sparse)\n",
        "recs_sparse = model_sparse.get_test_recommendations(15)\n",
        "print(f\"Разреженный подход: {time.time() - start:.2f} сек\")\n",
        "\n",
        "assert np.allclose(recs_dense, recs_sparse)"
      ],
      "metadata": {
        "colab": {
          "base_uri": "https://localhost:8080/"
        },
        "id": "LkB8vpxqPkTT",
        "outputId": "4580fa19-6d38-4aac-e71d-3e89a5cfe51b"
      },
      "id": "LkB8vpxqPkTT",
      "execution_count": 34,
      "outputs": [
        {
          "output_type": "stream",
          "name": "stdout",
          "text": [
            "Оригинальный подход: 39.76 сек\n",
            "Разреженный подход: 2.24 сек\n"
          ]
        }
      ]
    },
    {
      "cell_type": "markdown",
      "source": [
        "**Вывод:** время работы снизилось в 20 раза для подхода, основанном на мере Жаккара, и в 26.5 раз для метода, основанном на корреляции Пирсона."
      ],
      "metadata": {
        "id": "UZLDcP1USlas"
      },
      "id": "UZLDcP1USlas"
    },
    {
      "cell_type": "markdown",
      "id": "DmuMhWS4CEFe",
      "metadata": {
        "id": "DmuMhWS4CEFe"
      },
      "source": [
        "Мы можем посмотреть глазами, насколько хорошо модель рекомендует треки. Для этого сравним уже прослушанные треки с рекомендованными и релевантными для случайного пользователя. Хорошо ли у вас получилось?"
      ]
    },
    {
      "cell_type": "code",
      "execution_count": 286,
      "id": "QAHDWgHfkCQh",
      "metadata": {
        "id": "QAHDWgHfkCQh"
      },
      "outputs": [],
      "source": [
        "user_id = np.random.randint(0, col_filtr_jaccard.n_users)"
      ]
    },
    {
      "cell_type": "code",
      "execution_count": 287,
      "id": "_d3tafMuko5O",
      "metadata": {
        "colab": {
          "base_uri": "https://localhost:8080/",
          "height": 537
        },
        "id": "_d3tafMuko5O",
        "outputId": "3149fc66-4b82-4116-cbfc-72232877b7ef"
      },
      "outputs": [
        {
          "output_type": "stream",
          "name": "stdout",
          "text": [
            "Already listened tracks:\n"
          ]
        },
        {
          "output_type": "execute_result",
          "data": {
            "text/plain": [
              "                 name                  artists\n",
              "234    Wind Of Change            ['Scorpions']\n",
              "1799     Люблю-прощай     ['Вячеслав Бутусов']\n",
              "1804             Ночь                 ['КИНО']\n",
              "1805             Игра                 ['КИНО']\n",
              "1826      Тёплые коты                ['Flёur']\n",
              "1920          Асфальт                 ['КИНО']\n",
              "1921  Восьмиклассница                 ['КИНО']\n",
              "1922    Солнечные дни                 ['КИНО']\n",
              "1941    Это не любовь                 ['КИНО']\n",
              "1965  Падающая звезда           ['Кукрыниксы']\n",
              "1999         Вахтёрам              ['Бумбокс']\n",
              "2042           Больно  ['Сурганова и Оркестр']\n",
              "2125            Малыш                 ['КИНО']\n",
              "2128          Никогда         ['Агата Кристи']\n",
              "2178       Мои друзья                 ['КИНО']"
            ],
            "text/html": [
              "\n",
              "  <div id=\"df-10d2c6df-7157-462f-b6c8-9b72dbea39a0\" class=\"colab-df-container\">\n",
              "    <div>\n",
              "<style scoped>\n",
              "    .dataframe tbody tr th:only-of-type {\n",
              "        vertical-align: middle;\n",
              "    }\n",
              "\n",
              "    .dataframe tbody tr th {\n",
              "        vertical-align: top;\n",
              "    }\n",
              "\n",
              "    .dataframe thead th {\n",
              "        text-align: right;\n",
              "    }\n",
              "</style>\n",
              "<table border=\"1\" class=\"dataframe\">\n",
              "  <thead>\n",
              "    <tr style=\"text-align: right;\">\n",
              "      <th></th>\n",
              "      <th>name</th>\n",
              "      <th>artists</th>\n",
              "    </tr>\n",
              "  </thead>\n",
              "  <tbody>\n",
              "    <tr>\n",
              "      <th>234</th>\n",
              "      <td>Wind Of Change</td>\n",
              "      <td>['Scorpions']</td>\n",
              "    </tr>\n",
              "    <tr>\n",
              "      <th>1799</th>\n",
              "      <td>Люблю-прощай</td>\n",
              "      <td>['Вячеслав Бутусов']</td>\n",
              "    </tr>\n",
              "    <tr>\n",
              "      <th>1804</th>\n",
              "      <td>Ночь</td>\n",
              "      <td>['КИНО']</td>\n",
              "    </tr>\n",
              "    <tr>\n",
              "      <th>1805</th>\n",
              "      <td>Игра</td>\n",
              "      <td>['КИНО']</td>\n",
              "    </tr>\n",
              "    <tr>\n",
              "      <th>1826</th>\n",
              "      <td>Тёплые коты</td>\n",
              "      <td>['Flёur']</td>\n",
              "    </tr>\n",
              "    <tr>\n",
              "      <th>1920</th>\n",
              "      <td>Асфальт</td>\n",
              "      <td>['КИНО']</td>\n",
              "    </tr>\n",
              "    <tr>\n",
              "      <th>1921</th>\n",
              "      <td>Восьмиклассница</td>\n",
              "      <td>['КИНО']</td>\n",
              "    </tr>\n",
              "    <tr>\n",
              "      <th>1922</th>\n",
              "      <td>Солнечные дни</td>\n",
              "      <td>['КИНО']</td>\n",
              "    </tr>\n",
              "    <tr>\n",
              "      <th>1941</th>\n",
              "      <td>Это не любовь</td>\n",
              "      <td>['КИНО']</td>\n",
              "    </tr>\n",
              "    <tr>\n",
              "      <th>1965</th>\n",
              "      <td>Падающая звезда</td>\n",
              "      <td>['Кукрыниксы']</td>\n",
              "    </tr>\n",
              "    <tr>\n",
              "      <th>1999</th>\n",
              "      <td>Вахтёрам</td>\n",
              "      <td>['Бумбокс']</td>\n",
              "    </tr>\n",
              "    <tr>\n",
              "      <th>2042</th>\n",
              "      <td>Больно</td>\n",
              "      <td>['Сурганова и Оркестр']</td>\n",
              "    </tr>\n",
              "    <tr>\n",
              "      <th>2125</th>\n",
              "      <td>Малыш</td>\n",
              "      <td>['КИНО']</td>\n",
              "    </tr>\n",
              "    <tr>\n",
              "      <th>2128</th>\n",
              "      <td>Никогда</td>\n",
              "      <td>['Агата Кристи']</td>\n",
              "    </tr>\n",
              "    <tr>\n",
              "      <th>2178</th>\n",
              "      <td>Мои друзья</td>\n",
              "      <td>['КИНО']</td>\n",
              "    </tr>\n",
              "  </tbody>\n",
              "</table>\n",
              "</div>\n",
              "    <div class=\"colab-df-buttons\">\n",
              "\n",
              "  <div class=\"colab-df-container\">\n",
              "    <button class=\"colab-df-convert\" onclick=\"convertToInteractive('df-10d2c6df-7157-462f-b6c8-9b72dbea39a0')\"\n",
              "            title=\"Convert this dataframe to an interactive table.\"\n",
              "            style=\"display:none;\">\n",
              "\n",
              "  <svg xmlns=\"http://www.w3.org/2000/svg\" height=\"24px\" viewBox=\"0 -960 960 960\">\n",
              "    <path d=\"M120-120v-720h720v720H120Zm60-500h600v-160H180v160Zm220 220h160v-160H400v160Zm0 220h160v-160H400v160ZM180-400h160v-160H180v160Zm440 0h160v-160H620v160ZM180-180h160v-160H180v160Zm440 0h160v-160H620v160Z\"/>\n",
              "  </svg>\n",
              "    </button>\n",
              "\n",
              "  <style>\n",
              "    .colab-df-container {\n",
              "      display:flex;\n",
              "      gap: 12px;\n",
              "    }\n",
              "\n",
              "    .colab-df-convert {\n",
              "      background-color: #E8F0FE;\n",
              "      border: none;\n",
              "      border-radius: 50%;\n",
              "      cursor: pointer;\n",
              "      display: none;\n",
              "      fill: #1967D2;\n",
              "      height: 32px;\n",
              "      padding: 0 0 0 0;\n",
              "      width: 32px;\n",
              "    }\n",
              "\n",
              "    .colab-df-convert:hover {\n",
              "      background-color: #E2EBFA;\n",
              "      box-shadow: 0px 1px 2px rgba(60, 64, 67, 0.3), 0px 1px 3px 1px rgba(60, 64, 67, 0.15);\n",
              "      fill: #174EA6;\n",
              "    }\n",
              "\n",
              "    .colab-df-buttons div {\n",
              "      margin-bottom: 4px;\n",
              "    }\n",
              "\n",
              "    [theme=dark] .colab-df-convert {\n",
              "      background-color: #3B4455;\n",
              "      fill: #D2E3FC;\n",
              "    }\n",
              "\n",
              "    [theme=dark] .colab-df-convert:hover {\n",
              "      background-color: #434B5C;\n",
              "      box-shadow: 0px 1px 3px 1px rgba(0, 0, 0, 0.15);\n",
              "      filter: drop-shadow(0px 1px 2px rgba(0, 0, 0, 0.3));\n",
              "      fill: #FFFFFF;\n",
              "    }\n",
              "  </style>\n",
              "\n",
              "    <script>\n",
              "      const buttonEl =\n",
              "        document.querySelector('#df-10d2c6df-7157-462f-b6c8-9b72dbea39a0 button.colab-df-convert');\n",
              "      buttonEl.style.display =\n",
              "        google.colab.kernel.accessAllowed ? 'block' : 'none';\n",
              "\n",
              "      async function convertToInteractive(key) {\n",
              "        const element = document.querySelector('#df-10d2c6df-7157-462f-b6c8-9b72dbea39a0');\n",
              "        const dataTable =\n",
              "          await google.colab.kernel.invokeFunction('convertToInteractive',\n",
              "                                                    [key], {});\n",
              "        if (!dataTable) return;\n",
              "\n",
              "        const docLinkHtml = 'Like what you see? Visit the ' +\n",
              "          '<a target=\"_blank\" href=https://colab.research.google.com/notebooks/data_table.ipynb>data table notebook</a>'\n",
              "          + ' to learn more about interactive tables.';\n",
              "        element.innerHTML = '';\n",
              "        dataTable['output_type'] = 'display_data';\n",
              "        await google.colab.output.renderOutput(dataTable, element);\n",
              "        const docLink = document.createElement('div');\n",
              "        docLink.innerHTML = docLinkHtml;\n",
              "        element.appendChild(docLink);\n",
              "      }\n",
              "    </script>\n",
              "  </div>\n",
              "\n",
              "\n",
              "    <div id=\"df-0fd5868f-5921-4a0f-b027-a9672f54ee5d\">\n",
              "      <button class=\"colab-df-quickchart\" onclick=\"quickchart('df-0fd5868f-5921-4a0f-b027-a9672f54ee5d')\"\n",
              "                title=\"Suggest charts\"\n",
              "                style=\"display:none;\">\n",
              "\n",
              "<svg xmlns=\"http://www.w3.org/2000/svg\" height=\"24px\"viewBox=\"0 0 24 24\"\n",
              "     width=\"24px\">\n",
              "    <g>\n",
              "        <path d=\"M19 3H5c-1.1 0-2 .9-2 2v14c0 1.1.9 2 2 2h14c1.1 0 2-.9 2-2V5c0-1.1-.9-2-2-2zM9 17H7v-7h2v7zm4 0h-2V7h2v10zm4 0h-2v-4h2v4z\"/>\n",
              "    </g>\n",
              "</svg>\n",
              "      </button>\n",
              "\n",
              "<style>\n",
              "  .colab-df-quickchart {\n",
              "      --bg-color: #E8F0FE;\n",
              "      --fill-color: #1967D2;\n",
              "      --hover-bg-color: #E2EBFA;\n",
              "      --hover-fill-color: #174EA6;\n",
              "      --disabled-fill-color: #AAA;\n",
              "      --disabled-bg-color: #DDD;\n",
              "  }\n",
              "\n",
              "  [theme=dark] .colab-df-quickchart {\n",
              "      --bg-color: #3B4455;\n",
              "      --fill-color: #D2E3FC;\n",
              "      --hover-bg-color: #434B5C;\n",
              "      --hover-fill-color: #FFFFFF;\n",
              "      --disabled-bg-color: #3B4455;\n",
              "      --disabled-fill-color: #666;\n",
              "  }\n",
              "\n",
              "  .colab-df-quickchart {\n",
              "    background-color: var(--bg-color);\n",
              "    border: none;\n",
              "    border-radius: 50%;\n",
              "    cursor: pointer;\n",
              "    display: none;\n",
              "    fill: var(--fill-color);\n",
              "    height: 32px;\n",
              "    padding: 0;\n",
              "    width: 32px;\n",
              "  }\n",
              "\n",
              "  .colab-df-quickchart:hover {\n",
              "    background-color: var(--hover-bg-color);\n",
              "    box-shadow: 0 1px 2px rgba(60, 64, 67, 0.3), 0 1px 3px 1px rgba(60, 64, 67, 0.15);\n",
              "    fill: var(--button-hover-fill-color);\n",
              "  }\n",
              "\n",
              "  .colab-df-quickchart-complete:disabled,\n",
              "  .colab-df-quickchart-complete:disabled:hover {\n",
              "    background-color: var(--disabled-bg-color);\n",
              "    fill: var(--disabled-fill-color);\n",
              "    box-shadow: none;\n",
              "  }\n",
              "\n",
              "  .colab-df-spinner {\n",
              "    border: 2px solid var(--fill-color);\n",
              "    border-color: transparent;\n",
              "    border-bottom-color: var(--fill-color);\n",
              "    animation:\n",
              "      spin 1s steps(1) infinite;\n",
              "  }\n",
              "\n",
              "  @keyframes spin {\n",
              "    0% {\n",
              "      border-color: transparent;\n",
              "      border-bottom-color: var(--fill-color);\n",
              "      border-left-color: var(--fill-color);\n",
              "    }\n",
              "    20% {\n",
              "      border-color: transparent;\n",
              "      border-left-color: var(--fill-color);\n",
              "      border-top-color: var(--fill-color);\n",
              "    }\n",
              "    30% {\n",
              "      border-color: transparent;\n",
              "      border-left-color: var(--fill-color);\n",
              "      border-top-color: var(--fill-color);\n",
              "      border-right-color: var(--fill-color);\n",
              "    }\n",
              "    40% {\n",
              "      border-color: transparent;\n",
              "      border-right-color: var(--fill-color);\n",
              "      border-top-color: var(--fill-color);\n",
              "    }\n",
              "    60% {\n",
              "      border-color: transparent;\n",
              "      border-right-color: var(--fill-color);\n",
              "    }\n",
              "    80% {\n",
              "      border-color: transparent;\n",
              "      border-right-color: var(--fill-color);\n",
              "      border-bottom-color: var(--fill-color);\n",
              "    }\n",
              "    90% {\n",
              "      border-color: transparent;\n",
              "      border-bottom-color: var(--fill-color);\n",
              "    }\n",
              "  }\n",
              "</style>\n",
              "\n",
              "      <script>\n",
              "        async function quickchart(key) {\n",
              "          const quickchartButtonEl =\n",
              "            document.querySelector('#' + key + ' button');\n",
              "          quickchartButtonEl.disabled = true;  // To prevent multiple clicks.\n",
              "          quickchartButtonEl.classList.add('colab-df-spinner');\n",
              "          try {\n",
              "            const charts = await google.colab.kernel.invokeFunction(\n",
              "                'suggestCharts', [key], {});\n",
              "          } catch (error) {\n",
              "            console.error('Error during call to suggestCharts:', error);\n",
              "          }\n",
              "          quickchartButtonEl.classList.remove('colab-df-spinner');\n",
              "          quickchartButtonEl.classList.add('colab-df-quickchart-complete');\n",
              "        }\n",
              "        (() => {\n",
              "          let quickchartButtonEl =\n",
              "            document.querySelector('#df-0fd5868f-5921-4a0f-b027-a9672f54ee5d button');\n",
              "          quickchartButtonEl.style.display =\n",
              "            google.colab.kernel.accessAllowed ? 'block' : 'none';\n",
              "        })();\n",
              "      </script>\n",
              "    </div>\n",
              "    </div>\n",
              "  </div>\n"
            ],
            "application/vnd.google.colaboratory.intrinsic+json": {
              "type": "dataframe",
              "summary": "{\n  \"name\": \"tracks_info\",\n  \"rows\": 15,\n  \"fields\": [\n    {\n      \"column\": \"name\",\n      \"properties\": {\n        \"dtype\": \"string\",\n        \"num_unique_values\": 15,\n        \"samples\": [\n          \"\\u041f\\u0430\\u0434\\u0430\\u044e\\u0449\\u0430\\u044f \\u0437\\u0432\\u0435\\u0437\\u0434\\u0430\",\n          \"\\u0411\\u043e\\u043b\\u044c\\u043d\\u043e\",\n          \"Wind Of Change\"\n        ],\n        \"semantic_type\": \"\",\n        \"description\": \"\"\n      }\n    },\n    {\n      \"column\": \"artists\",\n      \"properties\": {\n        \"dtype\": \"string\",\n        \"num_unique_values\": 8,\n        \"samples\": [\n          \"['\\u0412\\u044f\\u0447\\u0435\\u0441\\u043b\\u0430\\u0432 \\u0411\\u0443\\u0442\\u0443\\u0441\\u043e\\u0432']\",\n          \"['\\u0411\\u0443\\u043c\\u0431\\u043e\\u043a\\u0441']\",\n          \"['Scorpions']\"\n        ],\n        \"semantic_type\": \"\",\n        \"description\": \"\"\n      }\n    }\n  ]\n}"
            }
          },
          "metadata": {},
          "execution_count": 287
        }
      ],
      "source": [
        "listened_tracks = train_ratings[train_ratings.userId == user_id].trackId[:15]\n",
        "\n",
        "print('Already listened tracks:')\n",
        "\n",
        "tracks_info.loc[listened_tracks][['name', 'artists']]"
      ]
    },
    {
      "cell_type": "code",
      "execution_count": 288,
      "id": "t0jACzw6ko5P",
      "metadata": {
        "colab": {
          "base_uri": "https://localhost:8080/",
          "height": 537
        },
        "id": "t0jACzw6ko5P",
        "outputId": "5fd22a84-59b8-40eb-ae90-b56cd5994617"
      },
      "outputs": [
        {
          "output_type": "stream",
          "name": "stdout",
          "text": [
            "Predicted tracks:\n"
          ]
        },
        {
          "output_type": "execute_result",
          "data": {
            "text/plain": [
              "                             name                    artists\n",
              "2555              Californication  ['Red Hot Chili Peppers']\n",
              "5521    Полковнику никто не пишет                   ['Би-2']\n",
              "1131               The Unforgiven              ['Metallica']\n",
              "10282            Владивосток 2000           ['Мумий Тролль']\n",
              "234                Wind Of Change              ['Scorpions']\n",
              "33436                    Believer        ['Imagine Dragons']\n",
              "6745                   Chop Suey!       ['System of A Down']\n",
              "49577               Кукла колдуна           ['Король и Шут']\n",
              "6841                   Lonely Day       ['System of A Down']\n",
              "4744                         Hero                ['Skillet']\n",
              "1137         Nothing Else Matters              ['Metallica']\n",
              "24859     House of the Rising Sun                ['Animals']\n",
              "9693   Another One Bites The Dust                  ['Queen']\n",
              "846              Send Me An Angel              ['Scorpions']\n",
              "27586            Still Loving You              ['Scorpions']"
            ],
            "text/html": [
              "\n",
              "  <div id=\"df-60d7e6e8-a5bd-45b3-9e21-b9fad2f44b1d\" class=\"colab-df-container\">\n",
              "    <div>\n",
              "<style scoped>\n",
              "    .dataframe tbody tr th:only-of-type {\n",
              "        vertical-align: middle;\n",
              "    }\n",
              "\n",
              "    .dataframe tbody tr th {\n",
              "        vertical-align: top;\n",
              "    }\n",
              "\n",
              "    .dataframe thead th {\n",
              "        text-align: right;\n",
              "    }\n",
              "</style>\n",
              "<table border=\"1\" class=\"dataframe\">\n",
              "  <thead>\n",
              "    <tr style=\"text-align: right;\">\n",
              "      <th></th>\n",
              "      <th>name</th>\n",
              "      <th>artists</th>\n",
              "    </tr>\n",
              "  </thead>\n",
              "  <tbody>\n",
              "    <tr>\n",
              "      <th>2555</th>\n",
              "      <td>Californication</td>\n",
              "      <td>['Red Hot Chili Peppers']</td>\n",
              "    </tr>\n",
              "    <tr>\n",
              "      <th>5521</th>\n",
              "      <td>Полковнику никто не пишет</td>\n",
              "      <td>['Би-2']</td>\n",
              "    </tr>\n",
              "    <tr>\n",
              "      <th>1131</th>\n",
              "      <td>The Unforgiven</td>\n",
              "      <td>['Metallica']</td>\n",
              "    </tr>\n",
              "    <tr>\n",
              "      <th>10282</th>\n",
              "      <td>Владивосток 2000</td>\n",
              "      <td>['Мумий Тролль']</td>\n",
              "    </tr>\n",
              "    <tr>\n",
              "      <th>234</th>\n",
              "      <td>Wind Of Change</td>\n",
              "      <td>['Scorpions']</td>\n",
              "    </tr>\n",
              "    <tr>\n",
              "      <th>33436</th>\n",
              "      <td>Believer</td>\n",
              "      <td>['Imagine Dragons']</td>\n",
              "    </tr>\n",
              "    <tr>\n",
              "      <th>6745</th>\n",
              "      <td>Chop Suey!</td>\n",
              "      <td>['System of A Down']</td>\n",
              "    </tr>\n",
              "    <tr>\n",
              "      <th>49577</th>\n",
              "      <td>Кукла колдуна</td>\n",
              "      <td>['Король и Шут']</td>\n",
              "    </tr>\n",
              "    <tr>\n",
              "      <th>6841</th>\n",
              "      <td>Lonely Day</td>\n",
              "      <td>['System of A Down']</td>\n",
              "    </tr>\n",
              "    <tr>\n",
              "      <th>4744</th>\n",
              "      <td>Hero</td>\n",
              "      <td>['Skillet']</td>\n",
              "    </tr>\n",
              "    <tr>\n",
              "      <th>1137</th>\n",
              "      <td>Nothing Else Matters</td>\n",
              "      <td>['Metallica']</td>\n",
              "    </tr>\n",
              "    <tr>\n",
              "      <th>24859</th>\n",
              "      <td>House of the Rising Sun</td>\n",
              "      <td>['Animals']</td>\n",
              "    </tr>\n",
              "    <tr>\n",
              "      <th>9693</th>\n",
              "      <td>Another One Bites The Dust</td>\n",
              "      <td>['Queen']</td>\n",
              "    </tr>\n",
              "    <tr>\n",
              "      <th>846</th>\n",
              "      <td>Send Me An Angel</td>\n",
              "      <td>['Scorpions']</td>\n",
              "    </tr>\n",
              "    <tr>\n",
              "      <th>27586</th>\n",
              "      <td>Still Loving You</td>\n",
              "      <td>['Scorpions']</td>\n",
              "    </tr>\n",
              "  </tbody>\n",
              "</table>\n",
              "</div>\n",
              "    <div class=\"colab-df-buttons\">\n",
              "\n",
              "  <div class=\"colab-df-container\">\n",
              "    <button class=\"colab-df-convert\" onclick=\"convertToInteractive('df-60d7e6e8-a5bd-45b3-9e21-b9fad2f44b1d')\"\n",
              "            title=\"Convert this dataframe to an interactive table.\"\n",
              "            style=\"display:none;\">\n",
              "\n",
              "  <svg xmlns=\"http://www.w3.org/2000/svg\" height=\"24px\" viewBox=\"0 -960 960 960\">\n",
              "    <path d=\"M120-120v-720h720v720H120Zm60-500h600v-160H180v160Zm220 220h160v-160H400v160Zm0 220h160v-160H400v160ZM180-400h160v-160H180v160Zm440 0h160v-160H620v160ZM180-180h160v-160H180v160Zm440 0h160v-160H620v160Z\"/>\n",
              "  </svg>\n",
              "    </button>\n",
              "\n",
              "  <style>\n",
              "    .colab-df-container {\n",
              "      display:flex;\n",
              "      gap: 12px;\n",
              "    }\n",
              "\n",
              "    .colab-df-convert {\n",
              "      background-color: #E8F0FE;\n",
              "      border: none;\n",
              "      border-radius: 50%;\n",
              "      cursor: pointer;\n",
              "      display: none;\n",
              "      fill: #1967D2;\n",
              "      height: 32px;\n",
              "      padding: 0 0 0 0;\n",
              "      width: 32px;\n",
              "    }\n",
              "\n",
              "    .colab-df-convert:hover {\n",
              "      background-color: #E2EBFA;\n",
              "      box-shadow: 0px 1px 2px rgba(60, 64, 67, 0.3), 0px 1px 3px 1px rgba(60, 64, 67, 0.15);\n",
              "      fill: #174EA6;\n",
              "    }\n",
              "\n",
              "    .colab-df-buttons div {\n",
              "      margin-bottom: 4px;\n",
              "    }\n",
              "\n",
              "    [theme=dark] .colab-df-convert {\n",
              "      background-color: #3B4455;\n",
              "      fill: #D2E3FC;\n",
              "    }\n",
              "\n",
              "    [theme=dark] .colab-df-convert:hover {\n",
              "      background-color: #434B5C;\n",
              "      box-shadow: 0px 1px 3px 1px rgba(0, 0, 0, 0.15);\n",
              "      filter: drop-shadow(0px 1px 2px rgba(0, 0, 0, 0.3));\n",
              "      fill: #FFFFFF;\n",
              "    }\n",
              "  </style>\n",
              "\n",
              "    <script>\n",
              "      const buttonEl =\n",
              "        document.querySelector('#df-60d7e6e8-a5bd-45b3-9e21-b9fad2f44b1d button.colab-df-convert');\n",
              "      buttonEl.style.display =\n",
              "        google.colab.kernel.accessAllowed ? 'block' : 'none';\n",
              "\n",
              "      async function convertToInteractive(key) {\n",
              "        const element = document.querySelector('#df-60d7e6e8-a5bd-45b3-9e21-b9fad2f44b1d');\n",
              "        const dataTable =\n",
              "          await google.colab.kernel.invokeFunction('convertToInteractive',\n",
              "                                                    [key], {});\n",
              "        if (!dataTable) return;\n",
              "\n",
              "        const docLinkHtml = 'Like what you see? Visit the ' +\n",
              "          '<a target=\"_blank\" href=https://colab.research.google.com/notebooks/data_table.ipynb>data table notebook</a>'\n",
              "          + ' to learn more about interactive tables.';\n",
              "        element.innerHTML = '';\n",
              "        dataTable['output_type'] = 'display_data';\n",
              "        await google.colab.output.renderOutput(dataTable, element);\n",
              "        const docLink = document.createElement('div');\n",
              "        docLink.innerHTML = docLinkHtml;\n",
              "        element.appendChild(docLink);\n",
              "      }\n",
              "    </script>\n",
              "  </div>\n",
              "\n",
              "\n",
              "    <div id=\"df-c5e8d8f0-87bf-4c02-b8f8-b410a45d8d6e\">\n",
              "      <button class=\"colab-df-quickchart\" onclick=\"quickchart('df-c5e8d8f0-87bf-4c02-b8f8-b410a45d8d6e')\"\n",
              "                title=\"Suggest charts\"\n",
              "                style=\"display:none;\">\n",
              "\n",
              "<svg xmlns=\"http://www.w3.org/2000/svg\" height=\"24px\"viewBox=\"0 0 24 24\"\n",
              "     width=\"24px\">\n",
              "    <g>\n",
              "        <path d=\"M19 3H5c-1.1 0-2 .9-2 2v14c0 1.1.9 2 2 2h14c1.1 0 2-.9 2-2V5c0-1.1-.9-2-2-2zM9 17H7v-7h2v7zm4 0h-2V7h2v10zm4 0h-2v-4h2v4z\"/>\n",
              "    </g>\n",
              "</svg>\n",
              "      </button>\n",
              "\n",
              "<style>\n",
              "  .colab-df-quickchart {\n",
              "      --bg-color: #E8F0FE;\n",
              "      --fill-color: #1967D2;\n",
              "      --hover-bg-color: #E2EBFA;\n",
              "      --hover-fill-color: #174EA6;\n",
              "      --disabled-fill-color: #AAA;\n",
              "      --disabled-bg-color: #DDD;\n",
              "  }\n",
              "\n",
              "  [theme=dark] .colab-df-quickchart {\n",
              "      --bg-color: #3B4455;\n",
              "      --fill-color: #D2E3FC;\n",
              "      --hover-bg-color: #434B5C;\n",
              "      --hover-fill-color: #FFFFFF;\n",
              "      --disabled-bg-color: #3B4455;\n",
              "      --disabled-fill-color: #666;\n",
              "  }\n",
              "\n",
              "  .colab-df-quickchart {\n",
              "    background-color: var(--bg-color);\n",
              "    border: none;\n",
              "    border-radius: 50%;\n",
              "    cursor: pointer;\n",
              "    display: none;\n",
              "    fill: var(--fill-color);\n",
              "    height: 32px;\n",
              "    padding: 0;\n",
              "    width: 32px;\n",
              "  }\n",
              "\n",
              "  .colab-df-quickchart:hover {\n",
              "    background-color: var(--hover-bg-color);\n",
              "    box-shadow: 0 1px 2px rgba(60, 64, 67, 0.3), 0 1px 3px 1px rgba(60, 64, 67, 0.15);\n",
              "    fill: var(--button-hover-fill-color);\n",
              "  }\n",
              "\n",
              "  .colab-df-quickchart-complete:disabled,\n",
              "  .colab-df-quickchart-complete:disabled:hover {\n",
              "    background-color: var(--disabled-bg-color);\n",
              "    fill: var(--disabled-fill-color);\n",
              "    box-shadow: none;\n",
              "  }\n",
              "\n",
              "  .colab-df-spinner {\n",
              "    border: 2px solid var(--fill-color);\n",
              "    border-color: transparent;\n",
              "    border-bottom-color: var(--fill-color);\n",
              "    animation:\n",
              "      spin 1s steps(1) infinite;\n",
              "  }\n",
              "\n",
              "  @keyframes spin {\n",
              "    0% {\n",
              "      border-color: transparent;\n",
              "      border-bottom-color: var(--fill-color);\n",
              "      border-left-color: var(--fill-color);\n",
              "    }\n",
              "    20% {\n",
              "      border-color: transparent;\n",
              "      border-left-color: var(--fill-color);\n",
              "      border-top-color: var(--fill-color);\n",
              "    }\n",
              "    30% {\n",
              "      border-color: transparent;\n",
              "      border-left-color: var(--fill-color);\n",
              "      border-top-color: var(--fill-color);\n",
              "      border-right-color: var(--fill-color);\n",
              "    }\n",
              "    40% {\n",
              "      border-color: transparent;\n",
              "      border-right-color: var(--fill-color);\n",
              "      border-top-color: var(--fill-color);\n",
              "    }\n",
              "    60% {\n",
              "      border-color: transparent;\n",
              "      border-right-color: var(--fill-color);\n",
              "    }\n",
              "    80% {\n",
              "      border-color: transparent;\n",
              "      border-right-color: var(--fill-color);\n",
              "      border-bottom-color: var(--fill-color);\n",
              "    }\n",
              "    90% {\n",
              "      border-color: transparent;\n",
              "      border-bottom-color: var(--fill-color);\n",
              "    }\n",
              "  }\n",
              "</style>\n",
              "\n",
              "      <script>\n",
              "        async function quickchart(key) {\n",
              "          const quickchartButtonEl =\n",
              "            document.querySelector('#' + key + ' button');\n",
              "          quickchartButtonEl.disabled = true;  // To prevent multiple clicks.\n",
              "          quickchartButtonEl.classList.add('colab-df-spinner');\n",
              "          try {\n",
              "            const charts = await google.colab.kernel.invokeFunction(\n",
              "                'suggestCharts', [key], {});\n",
              "          } catch (error) {\n",
              "            console.error('Error during call to suggestCharts:', error);\n",
              "          }\n",
              "          quickchartButtonEl.classList.remove('colab-df-spinner');\n",
              "          quickchartButtonEl.classList.add('colab-df-quickchart-complete');\n",
              "        }\n",
              "        (() => {\n",
              "          let quickchartButtonEl =\n",
              "            document.querySelector('#df-c5e8d8f0-87bf-4c02-b8f8-b410a45d8d6e button');\n",
              "          quickchartButtonEl.style.display =\n",
              "            google.colab.kernel.accessAllowed ? 'block' : 'none';\n",
              "        })();\n",
              "      </script>\n",
              "    </div>\n",
              "    </div>\n",
              "  </div>\n"
            ],
            "application/vnd.google.colaboratory.intrinsic+json": {
              "type": "dataframe",
              "summary": "{\n  \"name\": \"tracks_info\",\n  \"rows\": 15,\n  \"fields\": [\n    {\n      \"column\": \"name\",\n      \"properties\": {\n        \"dtype\": \"string\",\n        \"num_unique_values\": 15,\n        \"samples\": [\n          \"Hero\",\n          \"House of the Rising Sun\",\n          \"Californication\"\n        ],\n        \"semantic_type\": \"\",\n        \"description\": \"\"\n      }\n    },\n    {\n      \"column\": \"artists\",\n      \"properties\": {\n        \"dtype\": \"string\",\n        \"num_unique_values\": 11,\n        \"samples\": [\n          \"['Imagine Dragons']\",\n          \"['Red Hot Chili Peppers']\",\n          \"['Animals']\"\n        ],\n        \"semantic_type\": \"\",\n        \"description\": \"\"\n      }\n    }\n  ]\n}"
            }
          },
          "metadata": {},
          "execution_count": 288
        }
      ],
      "source": [
        "preds = col_filtr_jaccard.get_test_recommendations(15)\n",
        "\n",
        "print('Predicted tracks:')\n",
        "\n",
        "tracks_info.loc[preds[user_id]][['name', 'artists']]"
      ]
    },
    {
      "cell_type": "code",
      "execution_count": 289,
      "id": "8_UZCIxrko5Q",
      "metadata": {
        "colab": {
          "base_uri": "https://localhost:8080/",
          "height": 537
        },
        "id": "8_UZCIxrko5Q",
        "outputId": "04151768-0dc6-46d6-e455-8358ec1c9c55"
      },
      "outputs": [
        {
          "output_type": "stream",
          "name": "stdout",
          "text": [
            "Test-time tracks:\n"
          ]
        },
        {
          "output_type": "execute_result",
          "data": {
            "text/plain": [
              "                       name                  artists\n",
              "21636                Я верю                ['30.02']\n",
              "22026       Человек хороший         ['Вася Обломов']\n",
              "23573   California Dreamin'                  ['Sia']\n",
              "23690  В облаках у водопада     ['Александр Иванов']\n",
              "23944           Трасса Е-95                ['Алиса']\n",
              "24209              Братишка                ['Пилот']\n",
              "24604   От Кореи до Карелии               ['Пикник']\n",
              "26074                Воздух  ['Сурганова и Оркестр']\n",
              "26130            31-я весна      ['Ночные Снайперы']\n",
              "26177    Ты дарила мне розы      ['Ночные Снайперы']\n",
              "26187           южный полюс      ['Ночные Снайперы']\n",
              "27832              Появись!                   ['7Б']\n",
              "27849                 Берег     ['Вячеслав Бутусов']\n",
              "28561       В Питере — пить            ['Ленинград']\n",
              "29706                  Вера           ['Кукрыниксы']"
            ],
            "text/html": [
              "\n",
              "  <div id=\"df-c7c74eea-d919-42db-a369-60de91007bb1\" class=\"colab-df-container\">\n",
              "    <div>\n",
              "<style scoped>\n",
              "    .dataframe tbody tr th:only-of-type {\n",
              "        vertical-align: middle;\n",
              "    }\n",
              "\n",
              "    .dataframe tbody tr th {\n",
              "        vertical-align: top;\n",
              "    }\n",
              "\n",
              "    .dataframe thead th {\n",
              "        text-align: right;\n",
              "    }\n",
              "</style>\n",
              "<table border=\"1\" class=\"dataframe\">\n",
              "  <thead>\n",
              "    <tr style=\"text-align: right;\">\n",
              "      <th></th>\n",
              "      <th>name</th>\n",
              "      <th>artists</th>\n",
              "    </tr>\n",
              "  </thead>\n",
              "  <tbody>\n",
              "    <tr>\n",
              "      <th>21636</th>\n",
              "      <td>Я верю</td>\n",
              "      <td>['30.02']</td>\n",
              "    </tr>\n",
              "    <tr>\n",
              "      <th>22026</th>\n",
              "      <td>Человек хороший</td>\n",
              "      <td>['Вася Обломов']</td>\n",
              "    </tr>\n",
              "    <tr>\n",
              "      <th>23573</th>\n",
              "      <td>California Dreamin'</td>\n",
              "      <td>['Sia']</td>\n",
              "    </tr>\n",
              "    <tr>\n",
              "      <th>23690</th>\n",
              "      <td>В облаках у водопада</td>\n",
              "      <td>['Александр Иванов']</td>\n",
              "    </tr>\n",
              "    <tr>\n",
              "      <th>23944</th>\n",
              "      <td>Трасса Е-95</td>\n",
              "      <td>['Алиса']</td>\n",
              "    </tr>\n",
              "    <tr>\n",
              "      <th>24209</th>\n",
              "      <td>Братишка</td>\n",
              "      <td>['Пилот']</td>\n",
              "    </tr>\n",
              "    <tr>\n",
              "      <th>24604</th>\n",
              "      <td>От Кореи до Карелии</td>\n",
              "      <td>['Пикник']</td>\n",
              "    </tr>\n",
              "    <tr>\n",
              "      <th>26074</th>\n",
              "      <td>Воздух</td>\n",
              "      <td>['Сурганова и Оркестр']</td>\n",
              "    </tr>\n",
              "    <tr>\n",
              "      <th>26130</th>\n",
              "      <td>31-я весна</td>\n",
              "      <td>['Ночные Снайперы']</td>\n",
              "    </tr>\n",
              "    <tr>\n",
              "      <th>26177</th>\n",
              "      <td>Ты дарила мне розы</td>\n",
              "      <td>['Ночные Снайперы']</td>\n",
              "    </tr>\n",
              "    <tr>\n",
              "      <th>26187</th>\n",
              "      <td>южный полюс</td>\n",
              "      <td>['Ночные Снайперы']</td>\n",
              "    </tr>\n",
              "    <tr>\n",
              "      <th>27832</th>\n",
              "      <td>Появись!</td>\n",
              "      <td>['7Б']</td>\n",
              "    </tr>\n",
              "    <tr>\n",
              "      <th>27849</th>\n",
              "      <td>Берег</td>\n",
              "      <td>['Вячеслав Бутусов']</td>\n",
              "    </tr>\n",
              "    <tr>\n",
              "      <th>28561</th>\n",
              "      <td>В Питере — пить</td>\n",
              "      <td>['Ленинград']</td>\n",
              "    </tr>\n",
              "    <tr>\n",
              "      <th>29706</th>\n",
              "      <td>Вера</td>\n",
              "      <td>['Кукрыниксы']</td>\n",
              "    </tr>\n",
              "  </tbody>\n",
              "</table>\n",
              "</div>\n",
              "    <div class=\"colab-df-buttons\">\n",
              "\n",
              "  <div class=\"colab-df-container\">\n",
              "    <button class=\"colab-df-convert\" onclick=\"convertToInteractive('df-c7c74eea-d919-42db-a369-60de91007bb1')\"\n",
              "            title=\"Convert this dataframe to an interactive table.\"\n",
              "            style=\"display:none;\">\n",
              "\n",
              "  <svg xmlns=\"http://www.w3.org/2000/svg\" height=\"24px\" viewBox=\"0 -960 960 960\">\n",
              "    <path d=\"M120-120v-720h720v720H120Zm60-500h600v-160H180v160Zm220 220h160v-160H400v160Zm0 220h160v-160H400v160ZM180-400h160v-160H180v160Zm440 0h160v-160H620v160ZM180-180h160v-160H180v160Zm440 0h160v-160H620v160Z\"/>\n",
              "  </svg>\n",
              "    </button>\n",
              "\n",
              "  <style>\n",
              "    .colab-df-container {\n",
              "      display:flex;\n",
              "      gap: 12px;\n",
              "    }\n",
              "\n",
              "    .colab-df-convert {\n",
              "      background-color: #E8F0FE;\n",
              "      border: none;\n",
              "      border-radius: 50%;\n",
              "      cursor: pointer;\n",
              "      display: none;\n",
              "      fill: #1967D2;\n",
              "      height: 32px;\n",
              "      padding: 0 0 0 0;\n",
              "      width: 32px;\n",
              "    }\n",
              "\n",
              "    .colab-df-convert:hover {\n",
              "      background-color: #E2EBFA;\n",
              "      box-shadow: 0px 1px 2px rgba(60, 64, 67, 0.3), 0px 1px 3px 1px rgba(60, 64, 67, 0.15);\n",
              "      fill: #174EA6;\n",
              "    }\n",
              "\n",
              "    .colab-df-buttons div {\n",
              "      margin-bottom: 4px;\n",
              "    }\n",
              "\n",
              "    [theme=dark] .colab-df-convert {\n",
              "      background-color: #3B4455;\n",
              "      fill: #D2E3FC;\n",
              "    }\n",
              "\n",
              "    [theme=dark] .colab-df-convert:hover {\n",
              "      background-color: #434B5C;\n",
              "      box-shadow: 0px 1px 3px 1px rgba(0, 0, 0, 0.15);\n",
              "      filter: drop-shadow(0px 1px 2px rgba(0, 0, 0, 0.3));\n",
              "      fill: #FFFFFF;\n",
              "    }\n",
              "  </style>\n",
              "\n",
              "    <script>\n",
              "      const buttonEl =\n",
              "        document.querySelector('#df-c7c74eea-d919-42db-a369-60de91007bb1 button.colab-df-convert');\n",
              "      buttonEl.style.display =\n",
              "        google.colab.kernel.accessAllowed ? 'block' : 'none';\n",
              "\n",
              "      async function convertToInteractive(key) {\n",
              "        const element = document.querySelector('#df-c7c74eea-d919-42db-a369-60de91007bb1');\n",
              "        const dataTable =\n",
              "          await google.colab.kernel.invokeFunction('convertToInteractive',\n",
              "                                                    [key], {});\n",
              "        if (!dataTable) return;\n",
              "\n",
              "        const docLinkHtml = 'Like what you see? Visit the ' +\n",
              "          '<a target=\"_blank\" href=https://colab.research.google.com/notebooks/data_table.ipynb>data table notebook</a>'\n",
              "          + ' to learn more about interactive tables.';\n",
              "        element.innerHTML = '';\n",
              "        dataTable['output_type'] = 'display_data';\n",
              "        await google.colab.output.renderOutput(dataTable, element);\n",
              "        const docLink = document.createElement('div');\n",
              "        docLink.innerHTML = docLinkHtml;\n",
              "        element.appendChild(docLink);\n",
              "      }\n",
              "    </script>\n",
              "  </div>\n",
              "\n",
              "\n",
              "    <div id=\"df-5ae27fb0-45f5-4793-802b-4eeeb15d5545\">\n",
              "      <button class=\"colab-df-quickchart\" onclick=\"quickchart('df-5ae27fb0-45f5-4793-802b-4eeeb15d5545')\"\n",
              "                title=\"Suggest charts\"\n",
              "                style=\"display:none;\">\n",
              "\n",
              "<svg xmlns=\"http://www.w3.org/2000/svg\" height=\"24px\"viewBox=\"0 0 24 24\"\n",
              "     width=\"24px\">\n",
              "    <g>\n",
              "        <path d=\"M19 3H5c-1.1 0-2 .9-2 2v14c0 1.1.9 2 2 2h14c1.1 0 2-.9 2-2V5c0-1.1-.9-2-2-2zM9 17H7v-7h2v7zm4 0h-2V7h2v10zm4 0h-2v-4h2v4z\"/>\n",
              "    </g>\n",
              "</svg>\n",
              "      </button>\n",
              "\n",
              "<style>\n",
              "  .colab-df-quickchart {\n",
              "      --bg-color: #E8F0FE;\n",
              "      --fill-color: #1967D2;\n",
              "      --hover-bg-color: #E2EBFA;\n",
              "      --hover-fill-color: #174EA6;\n",
              "      --disabled-fill-color: #AAA;\n",
              "      --disabled-bg-color: #DDD;\n",
              "  }\n",
              "\n",
              "  [theme=dark] .colab-df-quickchart {\n",
              "      --bg-color: #3B4455;\n",
              "      --fill-color: #D2E3FC;\n",
              "      --hover-bg-color: #434B5C;\n",
              "      --hover-fill-color: #FFFFFF;\n",
              "      --disabled-bg-color: #3B4455;\n",
              "      --disabled-fill-color: #666;\n",
              "  }\n",
              "\n",
              "  .colab-df-quickchart {\n",
              "    background-color: var(--bg-color);\n",
              "    border: none;\n",
              "    border-radius: 50%;\n",
              "    cursor: pointer;\n",
              "    display: none;\n",
              "    fill: var(--fill-color);\n",
              "    height: 32px;\n",
              "    padding: 0;\n",
              "    width: 32px;\n",
              "  }\n",
              "\n",
              "  .colab-df-quickchart:hover {\n",
              "    background-color: var(--hover-bg-color);\n",
              "    box-shadow: 0 1px 2px rgba(60, 64, 67, 0.3), 0 1px 3px 1px rgba(60, 64, 67, 0.15);\n",
              "    fill: var(--button-hover-fill-color);\n",
              "  }\n",
              "\n",
              "  .colab-df-quickchart-complete:disabled,\n",
              "  .colab-df-quickchart-complete:disabled:hover {\n",
              "    background-color: var(--disabled-bg-color);\n",
              "    fill: var(--disabled-fill-color);\n",
              "    box-shadow: none;\n",
              "  }\n",
              "\n",
              "  .colab-df-spinner {\n",
              "    border: 2px solid var(--fill-color);\n",
              "    border-color: transparent;\n",
              "    border-bottom-color: var(--fill-color);\n",
              "    animation:\n",
              "      spin 1s steps(1) infinite;\n",
              "  }\n",
              "\n",
              "  @keyframes spin {\n",
              "    0% {\n",
              "      border-color: transparent;\n",
              "      border-bottom-color: var(--fill-color);\n",
              "      border-left-color: var(--fill-color);\n",
              "    }\n",
              "    20% {\n",
              "      border-color: transparent;\n",
              "      border-left-color: var(--fill-color);\n",
              "      border-top-color: var(--fill-color);\n",
              "    }\n",
              "    30% {\n",
              "      border-color: transparent;\n",
              "      border-left-color: var(--fill-color);\n",
              "      border-top-color: var(--fill-color);\n",
              "      border-right-color: var(--fill-color);\n",
              "    }\n",
              "    40% {\n",
              "      border-color: transparent;\n",
              "      border-right-color: var(--fill-color);\n",
              "      border-top-color: var(--fill-color);\n",
              "    }\n",
              "    60% {\n",
              "      border-color: transparent;\n",
              "      border-right-color: var(--fill-color);\n",
              "    }\n",
              "    80% {\n",
              "      border-color: transparent;\n",
              "      border-right-color: var(--fill-color);\n",
              "      border-bottom-color: var(--fill-color);\n",
              "    }\n",
              "    90% {\n",
              "      border-color: transparent;\n",
              "      border-bottom-color: var(--fill-color);\n",
              "    }\n",
              "  }\n",
              "</style>\n",
              "\n",
              "      <script>\n",
              "        async function quickchart(key) {\n",
              "          const quickchartButtonEl =\n",
              "            document.querySelector('#' + key + ' button');\n",
              "          quickchartButtonEl.disabled = true;  // To prevent multiple clicks.\n",
              "          quickchartButtonEl.classList.add('colab-df-spinner');\n",
              "          try {\n",
              "            const charts = await google.colab.kernel.invokeFunction(\n",
              "                'suggestCharts', [key], {});\n",
              "          } catch (error) {\n",
              "            console.error('Error during call to suggestCharts:', error);\n",
              "          }\n",
              "          quickchartButtonEl.classList.remove('colab-df-spinner');\n",
              "          quickchartButtonEl.classList.add('colab-df-quickchart-complete');\n",
              "        }\n",
              "        (() => {\n",
              "          let quickchartButtonEl =\n",
              "            document.querySelector('#df-5ae27fb0-45f5-4793-802b-4eeeb15d5545 button');\n",
              "          quickchartButtonEl.style.display =\n",
              "            google.colab.kernel.accessAllowed ? 'block' : 'none';\n",
              "        })();\n",
              "      </script>\n",
              "    </div>\n",
              "    </div>\n",
              "  </div>\n"
            ],
            "application/vnd.google.colaboratory.intrinsic+json": {
              "type": "dataframe",
              "summary": "{\n  \"name\": \"tracks_info\",\n  \"rows\": 15,\n  \"fields\": [\n    {\n      \"column\": \"name\",\n      \"properties\": {\n        \"dtype\": \"string\",\n        \"num_unique_values\": 15,\n        \"samples\": [\n          \"\\u0422\\u044b \\u0434\\u0430\\u0440\\u0438\\u043b\\u0430 \\u043c\\u043d\\u0435 \\u0440\\u043e\\u0437\\u044b\",\n          \"\\u041f\\u043e\\u044f\\u0432\\u0438\\u0441\\u044c!\",\n          \"\\u042f \\u0432\\u0435\\u0440\\u044e\"\n        ],\n        \"semantic_type\": \"\",\n        \"description\": \"\"\n      }\n    },\n    {\n      \"column\": \"artists\",\n      \"properties\": {\n        \"dtype\": \"string\",\n        \"num_unique_values\": 13,\n        \"samples\": [\n          \"['\\u041b\\u0435\\u043d\\u0438\\u043d\\u0433\\u0440\\u0430\\u0434']\",\n          \"['7\\u0411']\",\n          \"['30.02']\"\n        ],\n        \"semantic_type\": \"\",\n        \"description\": \"\"\n      }\n    }\n  ]\n}"
            }
          },
          "metadata": {},
          "execution_count": 289
        }
      ],
      "source": [
        "test_tracks = test_ratings[test_ratings.userId == user_id].trackId[:15]\n",
        "\n",
        "print('Test-time tracks:')\n",
        "\n",
        "tracks_info.loc[test_tracks][['name', 'artists']]"
      ]
    },
    {
      "cell_type": "markdown",
      "source": [
        "**Вывод:** Рекомендации получились такими себе, но песни Полковнику никто не пишет ['Би-2'] и Владивосток 2000\t['Мумий Тролль'] соответсвуют жанру рок, который предпочитает слушать данный пользователь."
      ],
      "metadata": {
        "id": "UaAxaxEtWzyC"
      },
      "id": "UaAxaxEtWzyC"
    },
    {
      "cell_type": "markdown",
      "id": "3laWojtltEz1",
      "metadata": {
        "id": "3laWojtltEz1"
      },
      "source": [
        "### Часть 2. Модель со скрытыми переменными"
      ]
    },
    {
      "cell_type": "markdown",
      "id": "W63eIwPEYuYG",
      "metadata": {
        "id": "W63eIwPEYuYG"
      },
      "source": [
        "В этой части мы пощупаем метод рекомендаций со скрытыми переменными.\n",
        "Идея: будем предсказывать оценки по формуле\n",
        "$$\n",
        "\\hat{r}_{ui} = \\langle p_u, q_u \\rangle,\n",
        "$$\n",
        "$p_u \\in \\mathbb{R}^d$ и $q_i \\in \\mathbb{R}^d$ - латентные векторы пользователя $u$ и объекта $i$ соответственно.\n",
        "\n",
        "Оптимизировать мы будем MSE между истинной оценкой пользователя и предсказанной с регуляризацией\n",
        "$$\n",
        "L = \\sum_{(u, i) \\in R} (\\hat{r}_{ui} - r_{ui})^2 + \\lambda \\left(\\sum_{u \\in U} \\|p_u\\|^2 + \\sum_{i \\in I} \\|q_i\\|^2\\right)\n",
        "$$"
      ]
    },
    {
      "cell_type": "markdown",
      "id": "jrZjfGb0iLk6",
      "metadata": {
        "id": "jrZjfGb0iLk6"
      },
      "source": [
        "**Задание 7 (1.5 балла).** На лекции рассматривались два подхода к оптимизации параметров. Можно это делать обычным стохастческим градинтным спуском, а можно по очереди обновлять матрицы $P, Q$, и тогда получится метод Alternating Least Squares (ALS). Вспомните формулы обновления и поясните их:"
      ]
    },
    {
      "cell_type": "markdown",
      "id": "knT2htHnkTPT",
      "metadata": {
        "id": "knT2htHnkTPT"
      },
      "source": [
        "**SGD:**\n",
        "\n",
        "Сэмплируем $(u, i)$ из $R$ так, что $r_{ui} \\neq 0$\n",
        "\n",
        "Градиент по $p_u$:\n",
        "\n",
        "$\\nabla_{p_u} L = 2(p_u^\\top q_i - r_{ui}) q_i + 2\\lambda p_u$\n",
        "\n",
        "Градиент по $q_i$:\n",
        "\n",
        "$\\nabla_{q_i} L = 2(q_i^\\top p_u - r_{ui}) p_u + 2\\lambda q_i$\n",
        "\n",
        "**Ответ:**\n",
        "\n",
        "Обновление $p_u$:\n",
        "\n",
        "$p_u = p_u - \\eta ((p_u^\\top q_i - r_{ui}) q_i + \\lambda p_u)$\n",
        "\n",
        "Обновление $q_i$:\n",
        "\n",
        "$q_i = q_i - \\eta ((q_i^\\top p_u - r_{ui}) p_u + \\lambda q_i)$"
      ]
    },
    {
      "cell_type": "markdown",
      "source": [
        "**ALS:**\n",
        "\n",
        "Для фиксированного $Q$, берём градиент по $p_u$ и приравниваем к нулю:\n",
        "\n",
        "$\\nabla_{p_u} L = 2\\sum_{i} (p_u^\\top q_i - r_{ui}) q_i + 2\\lambda p_u = 0$\n",
        "\n",
        "Не забываем проверить, что $r_{ui} \\neq 0$\n",
        "\n",
        "Воспользовавшись тем, что $a^\\top b c = c b^\\top a$, получим:\n",
        "\n",
        "$\\sum_{i} q_i q_i^\\top p_u + \\lambda p_u = \\sum_{i} r_{ui} q_i$\n",
        "\n",
        "Вынесем $p_u$:\n",
        "\n",
        "$\\left( \\sum_{i} q_i q_i^\\top + \\lambda I \\right) p_u = \\sum_{i} r_{ui} q_i$\n",
        "\n",
        "Ответ:\n",
        "\n",
        "Тогда окончательно каждый столбец матрицы $P$ можно найти по формуле:\n",
        "\n",
        "$p_u = \\left( \\sum_{i} q_i q_i^\\top + \\lambda I \\right)^{-1} \\left( \\sum_{i} r_{ui} q_i \\right) \\quad \\forall u$\n",
        "\n",
        "Аналогично для столбцов матрицы $Q$:\n",
        "\n",
        "$q_i = \\left( \\sum_{u} p_u p_u^\\top + \\lambda I \\right)^{-1} \\left( \\sum_{u} r_{ui} p_u \\right) \\quad \\forall i$"
      ],
      "metadata": {
        "id": "R42n7ixjD9tp"
      },
      "id": "R42n7ixjD9tp"
    },
    {
      "cell_type": "markdown",
      "id": "T5PXIItDkiDc",
      "metadata": {
        "id": "T5PXIItDkiDc"
      },
      "source": [
        "**Задание 8 (2 балла).** А теперь реализуйте методы оптимизации параметров для обоих алгоритмов."
      ]
    },
    {
      "cell_type": "code",
      "execution_count": 290,
      "id": "vTui-yTptFIo",
      "metadata": {
        "id": "vTui-yTptFIo"
      },
      "outputs": [],
      "source": [
        "class HiddenVars(BaseModel):\n",
        "    def __init__(self, ratings, dim=128, mode='sgd'):\n",
        "        super().__init__(ratings)\n",
        "        self.dim = dim\n",
        "\n",
        "        assert mode in ['sgd', 'als']\n",
        "        self.mode = mode\n",
        "\n",
        "        self.P = np.random.normal(size=(self.n_users, dim))\n",
        "        self.Q = np.random.normal(size=(self.n_items, dim))\n",
        "\n",
        "        self.lr = 0.0003\n",
        "        self.lamb = 0.01\n",
        "\n",
        "    def fit(self, num_iters=5):\n",
        "        for epoch in tqdm(range(num_iters)):\n",
        "\n",
        "            if self.mode == 'sgd':\n",
        "                nonzero_indices = np.array(self.R.nonzero()).T\n",
        "\n",
        "                u, i = nonzero_indices[np.random.randint(len(nonzero_indices))]\n",
        "                r_ui = self.R[u, i]\n",
        "\n",
        "                self.P[u] -= self.lr * ((self.P[u] @ self.Q[i] - r_ui) * self.Q[i] + self.lamb * self.P[u])\n",
        "                self.Q[i] -= self.lr * ((self.P[u] @ self.Q[i] - r_ui) * self.P[u] + self.lamb * self.Q[i])\n",
        "\n",
        "            elif self.mode == 'als':\n",
        "                for u in range(self.n_users):\n",
        "                    nonzero_indices = self.R[u, :] > 0\n",
        "                    Q_i = self.Q[nonzero_indices]\n",
        "                    R_u = self.R[u, nonzero_indices]\n",
        "\n",
        "                    if len(R_u) > 0:\n",
        "                        self.P[u] = np.linalg.solve(Q_i.T @ Q_i + self.lamb * np.eye(self.dim), Q_i.T @ R_u)\n",
        "\n",
        "                for i in range(self.n_items):\n",
        "                    nonzero_indices = self.R[:, i] > 0\n",
        "                    P_u = self.P[nonzero_indices]\n",
        "                    R_i = self.R[nonzero_indices, i]\n",
        "\n",
        "                    if len(R_i) > 0:\n",
        "                        self.Q[i] = np.linalg.solve(P_u.T @ P_u + self.lamb * np.eye(self.dim), P_u.T @ R_i)\n",
        "\n",
        "    def recommend(self, uid):\n",
        "        pred_rating = self.P[uid] @ self.Q.T\n",
        "\n",
        "        return np.argsort(pred_rating)[::-1]"
      ]
    },
    {
      "cell_type": "markdown",
      "id": "N0P3-ZcYuY3t",
      "metadata": {
        "id": "N0P3-ZcYuY3t"
      },
      "source": [
        "**Задание 9 (1 балл).** Для обоих алгоритмов подберите оптимальные значения размерности скрытого пространства $d$ и размера предсказания $k$. Как изменяется качество предсказаний с числом итераций обучения? Постройте соответствующие графики, сравните со случайным подхом и User2User, сделайте выводы. Какой алгоритм вам кажется более подходящим для данной задачи и почему?\n",
        "\n",
        "P.S. Хотя бы один из методов обучения должен приводить к лучшим результатам в сравнении с User2User подходом.\n",
        "\n",
        "P.P.S. Методу LFM свойственно переобучаться, поэтому при подборе параметров полезно смотреть на значения ошибки и оптимизируемой метрики на тренировочном датасете. Вы также можете менять начальную инициализацию и прочие параметры, за исключением архитектуры, на ваш вкус."
      ]
    },
    {
      "cell_type": "code",
      "source": [
        "num_iters_range = np.arange(5, 206, 10)\n",
        "dim_values = [32, 64, 96, 128, 192, 256]\n",
        "k_values = np.arange(1, 51)\n",
        "\n",
        "results = []\n",
        "\n",
        "for num_iters in num_iters_range:\n",
        "    print(f\"\\nДля num_iters = {num_iters}\")\n",
        "\n",
        "    best_overall = {\n",
        "        'map@k': -1,\n",
        "        'dim': None,\n",
        "        'k': None\n",
        "    }\n",
        "\n",
        "    for dim in dim_values:\n",
        "        print(f\"\\ndim = {dim}\")\n",
        "\n",
        "        lfm = HiddenVars(train_ratings, dim=dim, mode='sgd')\n",
        "        lfm.fit(num_iters)\n",
        "\n",
        "        predictions = lfm.get_test_recommendations(k=50)\n",
        "\n",
        "        for k in k_values:\n",
        "            score = mapk(test_relevant, predictions, k)\n",
        "\n",
        "            if score > best_overall['map@k']:\n",
        "                best_overall.update({\n",
        "                    'map@k': score,\n",
        "                    'dim': dim,\n",
        "                    'k': k\n",
        "                })\n",
        "\n",
        "    print('\\nНаивысший map@k для данного num_iters:', best_overall['map@k'])\n",
        "\n",
        "    results.append({\n",
        "        'num_iters': num_iters,\n",
        "        'dim': best_overall['dim'],\n",
        "        'k': best_overall['k'],\n",
        "        'map@k': best_overall['map@k']\n",
        "    })\n",
        "\n",
        "results_df = pd.DataFrame(results)\n",
        "\n",
        "best_row = results_df.loc[results_df['map@k'].idxmax()]\n",
        "print(\"\\nBest overall:\")\n",
        "print(best_row)"
      ],
      "metadata": {
        "colab": {
          "base_uri": "https://localhost:8080/",
          "height": 1000,
          "referenced_widgets": [
            "964b69c8f8c4469081cb406d3dbe47d3",
            "4cdefa0ba4d54b01b1d215d43a1f1727",
            "e3e281bf525a491f89d3dab077d302ac",
            "8e26f691d0f54b8f9b8f86a319ddab91",
            "f56951741261430082bd27a8a4f829f9",
            "3667354f71194a44a8b810782a8b8990",
            "b92be40202c64f8fa041e6bb254b4fbb",
            "ec32c8b153fb413bbc01cd29809d4dc9",
            "9df89adfa26d4416a42f6f0f2680baeb",
            "c75681aaba244cc9aea9bbba7fdaf5af",
            "f3d81ccba7bc4b72a1bb7dcbdc7eca3e",
            "203b8350397a42c0b92a78b2e09510bd",
            "afb462b656274f24913df39b72a238eb",
            "ec355dbc0da846aba536cc843f7e4e11",
            "0cd038e6118d4412aac84f37838e11a0",
            "6f6154e5b5d146d8907876461cb56a6b",
            "5cccda8107374aaea207ab06db80f87f",
            "74d402b57c7648889f16dd3ded609c73",
            "a7c9f150810f41a7bc672eb0aea3aeb9",
            "717e3636b4c840a88210c73d5d5487b2",
            "2587fb04d5c34be69248051832c5385a",
            "c4d7b6c7028946fb9f7d9f7e791eca75",
            "22990c9e70784f49a7c322311b8999d7",
            "aa8c8da393b4487e9ddf85d540f32e14",
            "91aae78e658f496b8d60851d37f88d3c",
            "553598bef5fc4e4f899fbd1d6d2e5def",
            "53e60199a71d4d1382fc3a2f9cdf0f1f",
            "a1575e5737834339bb887a24906c4d99",
            "203d94dc73804d6e8cd5636ddd1eaecd",
            "ed31e5ecd5c545378df364896cc6712f",
            "f3ac0142e9dc480f8b1242b88c998229",
            "725928c8a87b415788afce18e2a1ee1c",
            "d233495705f244d5aefec49e965e8d05",
            "0dbe727511aa4dca9164f6aa74e2f6b7",
            "4a70108d72d84084aa47c6593e31436f",
            "4e339dee61a247f1b4f0bfdad50b4024",
            "80af94dd7dbb487eba21e1706a60ea9c",
            "ddb2991ff3e749ee839d58f03f6bbc40",
            "f2c474b94890419e9d4338f34302b968",
            "a157c71580054fe58c5f5562d0a2a73d",
            "71e74ee5d16246c9913334cef8c51c71",
            "b52abfb883c24023bfc78dee3616ae21",
            "8da7b632e3df40e1923b243a18261cf4",
            "84dbe656d8a04f90ae5fc0b066659095",
            "b9905466e5354b04aa773d77ec65fa81",
            "ba42cc46b6c843ba824a05649c7d5785",
            "badc53ed3bd54d11a18c36853403aa64",
            "367562189998457dadf86f1a546d44cc",
            "6623b861c27648e0b5b38e285f15be76",
            "8bbea05bde574247b530dc76b7957676",
            "4a426b1984bb47a1bc894ae6782e6e25",
            "ddbef916dcd84af8af293d419483d003",
            "011eef9d23674e71a5d17c820ecc489c",
            "e7a29bcb43de4c9d982b60133216d8ec",
            "411e7e8a21ab48b49bd7be55eb48af1e",
            "fead193145d04c84a352a0cf811edce9",
            "18ed9f07ee954ba5af96597f50f2d936",
            "c6a4fe6148604e809e89c220b4d0e1d5",
            "e897faf045bf42919e16b18894daa537",
            "036a9b11dc3e4dc7ab9d9d6edb637cef",
            "050aba16787f456eab8ab66c3724b573",
            "9284df26c4084197b07d3e06526806ff",
            "aa5f4986ca9f41f3a952862061b6470a",
            "00132182640f41228d03ca8306d8da6d",
            "ee33b0bad0744f73afaa08d571ee2b3d",
            "7bf917dfc8754161a67b985e364f3a14",
            "2d06361b66de4aa4b59330d3b0196bdf",
            "08e94979760f4ef286f00238985c455f",
            "6bfe65ca1b144acdbf86d20bb0ce795d",
            "e302e21157d546f28fd8bd64c779cf4c",
            "b80cd497b304490a97bd27e2e8a9b8cb",
            "fccdbac0cb5f4d07b6eb8217b904ae51",
            "b8fa09d733e643e6b2fdb73c81a14081",
            "5c0d596699df4891ba25d7efb4505670",
            "72062929dbf04b96995da2d0363a679c",
            "417fdacc69334193b7541695268a3bbf",
            "f15ae7ac4c53444aaa52a9f4eb721642",
            "bec500f61e20416686dd2bc386eec95f",
            "38a2fd7a65024b40984643d2b78baa11",
            "4ecb67424b34401a84abd2e5faeffd98",
            "950cdd9ca1aa48718b81b2d0427db130",
            "b3b6c3a72197445aa55abc9c3d974d88",
            "0a5efa50362d4a82aec3f05e45bfada3",
            "1b376ffd83344b97be67296cbfd8ebc7",
            "5f2b86101a024b71a6823620a510027e",
            "f944a1ab53db4b09a70d0917f5325171",
            "ad4be899155942cf94a7b02b58abd2ca",
            "15a64ef178d84511b8c6412d7b0b1024",
            "eb61494d4a034622b978cc460d15f57f",
            "b6c2fce0cf7d4201bd2daac4a0092511",
            "f19897b9ca8c450d883920babafa61f8",
            "05609703b48c438e9280dfc20447e911",
            "eda6598d206b4635ac9681b1e1a50a47",
            "a48315aeb86c46a9b366bdf0958d60b5",
            "f75afe12bea34fbcba1f3fecb5f42446",
            "efb9dc45ee3c4524aab56520d2107446",
            "fd971d7f4d7447319a745f14e32af7f1",
            "d654844f4cd4441b8bf40551af4ddfc2",
            "fde1981d337542c6a1aed7e3c8d487d6",
            "b25709169bb34f2eb19d7d2bb143e2df",
            "c104c9c137c64e1e854dc84a9a62e24d",
            "d1e8443f5cf84a13b246021a079f9e17",
            "93700cf91983455bb3ed50bcbf675c65",
            "9f8a0c78f89348d5ac09c9e45378390a",
            "d6da87a471754486996f3ce964d8f3e8",
            "094ca330f6c54013bf6f15debd3afd28",
            "5244b77771474eb5b8ca1048bee60d03",
            "f6aed1fc045446f08dcb275a0d7392c3",
            "61990eff218c4ad78da7d0b999c464af",
            "9f176a8705de42fe9b0e019b852239d6",
            "00606bae4a34435bbe8157362db3110a",
            "7039e7c281a447e1a9ec4fbe36bed63d",
            "8330024ced35497e8df8e6bd81ce3ed8",
            "ca581aabfaf74d0ea1fa7a104075f777",
            "2e24c8a357284549a762702c4d89a6d5",
            "25ae1994ed2145aa8f0ab8ae1560542e",
            "3da799f9cfde48ac9331f2e98b272ca1",
            "ee2e7e8b34c74d209fec8d8de80dd453",
            "90dcec865ea64ebf9724599200a8efbf",
            "f7e6c28fdacb4440bb1b16cc325e1434",
            "c1b2ab8c67364f4caa1d1777f2adc20c",
            "0b3c6becaa524afbb1d9e7bfcaa4fa3e",
            "1d18c246e638404ab4a5aeb9260c8b22",
            "995168462c1c4b1da374dcc08b93c2d2",
            "708f48e78cc9461e87e735229d379f5c",
            "2845407728154a5883813cb191653d6f",
            "65666d2fe7fb460a9050522551946cbf",
            "6a8eff72f32549f0a8595434570c5f9c",
            "1f1d39edfeb34add8551b4839ef1e206",
            "af6f10222dcf48e485888ffe545c903d",
            "524cba9c4eca41d08386d9608708bf61",
            "06d2f08a7a9244deb624f2fca2826ffa",
            "72bb78c6b7f447de9ce7e8d014d08076",
            "2cae905220be4c84adab55eaf67be9bf",
            "3174ac00e4f94c2282cacdbe74b4471d",
            "a25d8b5c6b144c22969eafc69b73f06d",
            "cdc78f6dc4904820a13308d22bc9f9fa",
            "dc8c0256da0849e0ad77e3b4f196d242",
            "6d892c4246734122bf86d84497c7b201",
            "f40d0f29a33d4ee9a20eaa826c771b8a",
            "dbbf8f7e1ae14f9ba6e6e9c41566f583",
            "9ca3d557797f4b96b1fecddeccc2de25",
            "7f070d4107184e1c82998ed4cc353e96",
            "29bc9a04b80040beacdbfa729b04cbe1",
            "c1f61cfa383d4712b6176ba6b77ff57d",
            "3f33dcda911b47bb805c24d7f31f9fe1",
            "0f9317314f4b47ceb89b959f96954e31",
            "b3e7a42271f04628a2d791c3b3cfa787",
            "51f3763036e442d796a10e82755a6d3a",
            "11c4259a832b4abeab4ca4a2e2f9c7dc",
            "9d880844b4a744269892e57f2b57e18c",
            "9595fe8374f14745bd34c7a2ccc2cdde",
            "86b68d1cdf874fd39c917471b81d2dc9",
            "048eab90fe4b4cebb945e35a899b4f15",
            "53de89d44cdc4771be31de8005fe3322",
            "cd2cc1825838474b8d738a078a7bca01",
            "853a1834bbf6443792a041b433e13ece",
            "0de5d8a1a175479e94c4d1d47b2e96e9",
            "0e66e183d9f840dcb3623e2b454020db",
            "b7b6676b8a6346e5a4e942fed462a49c",
            "27ded064da714fa29c619c290561ad7b",
            "d4b6e2dd96224a3482314af04e342ed5",
            "c02e94c6bf434c6a912cee32ba1b2028",
            "c139f39ee3a24d1bb594a9e6be59b404",
            "acb4f2da45f7427a956b9a19ed4a36e2",
            "34c552fa734c4eea8b8304d368b7b827",
            "b072bf0d53e647098f1978d6fa558f3b",
            "f152ab4254664e43bca518b651a45a90",
            "bca3cd86c9894269afb457340c0c4c20",
            "ad61a98afa784a3286ba9249863f2f58",
            "f76c932ea13040d7883dbc16f332da0d",
            "8e29f28f04c34dcc8cfbd4a451698986",
            "7e90fe11d28b4686a2888404ad99249e",
            "104d777a34054348a346fcba17ae4b6e",
            "c7978390f383408fa75e8cade628c061",
            "8abe46a31656435d9ea01f0be03668b5",
            "bba761441e5b4761aa7cc0895636caaa",
            "a4dffee789bc4793becf556b3f179ff3",
            "b731218d90a44adf9834cebc01b3d106",
            "0639665c26bf4d29baa54cf21ce98167",
            "aaa142b1c6004817bec4c078a4c1601b",
            "d236521afe9e4889af25e62f232f9109",
            "3fa5cdf73f914b0a9ace9fbd6316ea36",
            "377d687d474d449cb5483b041611e564",
            "367da177ae43467db7fab5dbbdb27476",
            "0f185e19501443bbba031ff975fac206",
            "9af704532f9343f9a5522042cad50771",
            "f0b4f8f246544a2085c94df5f084a552",
            "7b6250accccd43f88210ade953e6037a",
            "412919e85f0e46369cd071c0dfcccdd3",
            "4163e81466c84224bcfe5bcf4fda63b6",
            "376b3fc719474f199875e45ceb90db08",
            "bdf4ef3d994a427cb9394b5e2c11bb85",
            "9d0aa9747d124641ad7535a81b1f2145",
            "623e07cd973840e5a34a6495c848e2ac",
            "3b74dab638b34243bd062781bde98529",
            "315d5b9b4ac34c41b02454143a143c42",
            "acfa43beb2844dd799fd5286dadcf69e",
            "7f9bf7443cc44d8dbb685970a198ef40",
            "2ba5bcda3d04443ea0c37f0259d85def",
            "8c4089d257294a8783e6341f5f4aad3a",
            "c036d67d557d4759b19f58134158adab",
            "cfc5deab201046f9ace84a2546849dfb",
            "b1b1883fd0654332b89d8b73c4a0ef0c",
            "7016bd1bca294f7f9e88df870a66e7f0",
            "8dcd4724cf2440d788a06266fef13dd9",
            "69d0b24783664af6ab1463e6215811a7",
            "a93a8bdae7ce426b9f5d635584bfca84",
            "e98969ab15b34924835baec3acf8e9ff",
            "8a6d560a8dd94ea1bdaa1436553bc592",
            "f0e535049fb544e999100adf98d3597f",
            "75dd1f46b6f24138b4d90d10b13df63c",
            "e40b128c2aa241928c2ae993ab7e67b2",
            "50729c9f482343ce8ab873324fcb9d89",
            "68b3feecf84546ec971c81e299bd60ca",
            "8ece7d14c69a4f05b7580b4b86b6dcc7",
            "1e9674dc75a84644b7d5651df1162126",
            "4a030aee43664a96b6d4126fa8fe861d",
            "82ae400605b04ccb9b126c9b757438de",
            "83d8f763f58d42c5a03d0999949ea2ff",
            "9d03ea69601444e29bfe81fefd9dd130",
            "3b0433a72a0b419fae75ffb765925a1b",
            "89516bc106bc49c3afd534cd476bab3a",
            "516a87f48a2045b88a3ae85e3d30f6db",
            "0e46fce59441402ba6e5256c56a516be",
            "a6626cba81744f8ebfa6958dea3d7e8b",
            "d9cf1d80e4734a29acf2d5935316ac34",
            "170006575bdd493fa329213c6d50ddf7",
            "1fe238e7094841d88497b66813df5db8",
            "bcd7a14dfbeb42e487f290ccaf1dac00",
            "044eab92db1943488dde9228a6de5555",
            "6a6e9e4d8e924ce280b6129520e4b2c4",
            "b4859223e656492598da14b068edc026",
            "62b0185233a44ffc856de6df0947b57a",
            "678cad7d9cd247b4b1f66ad0c3f3fc4e",
            "4f2c5cca31d94e5e99c80a97e27f42b4",
            "adc64c30066f419f9d46a8330223c0c3",
            "8a941ae452a5495eb1496edc43bf2080",
            "d1158ed32da948008bb45aee46ee474a",
            "bca0c83037e7456f9b562a0c3c6490c9",
            "be376652e8a349c18175d080016ef6c6",
            "af13dc84228d45e9b5190edf3917f20b",
            "cc549f0255b74a71a26fedfe2d4c182b",
            "43e5db04c5b84b17a00a3379233368f2",
            "5b1df96cb5824d1ea7d84528936d8d47",
            "989540a45c01484a92e44558301ed29f",
            "e28a98def6c44ebba54befb28c9a90d9",
            "5211de9d32df413b847e52099879e6fe",
            "b308422c5fbd4ba99fe5031c7862aa55",
            "bb721c4e00ec49f48ca27328beb6142a",
            "89b04e4d22044468a398ad35a92636f4",
            "747d6fbf1a2b474fa725e60e666456d2",
            "f54ebd8eb0e54c28a4ac31f2cded2f93",
            "eac88eaaa3134279b9a5a26983e584c6",
            "eb03f3dbc928424bb284ff3aa9246084",
            "d3b4554221fb4c598b2bc3a341e4c316",
            "69bef74f21a34747aeb70b394a0c09d0",
            "558fa05d15af4370a730436b0226eb33",
            "3ba95546302c473ba4034e7c130b6fec",
            "10eafd7b38484909a478b3d425cc9949",
            "0eb35db4c7cc41e9a533c1d000cd570a",
            "a53d5a3dd6e54c6bbd64d1bd4408f272",
            "86be256749314897bd5d42b1e542e795",
            "c242364c9dc04eb69175ca1186741e7e",
            "a7e43b8729f544dca6cbcbbee2b158bf",
            "3e828d5db875475990fb157766f2c0f1",
            "fba2a11a4ace41a1a232659e3b67595e",
            "4b861818fbb34a239049e19751c0e98f",
            "18483c96c55c44d59e8fcc9afd5e9091",
            "2247ecbd6cb440468018fd998f8d29a8",
            "385f59fe9e874be89c47ed737bf70c63",
            "adf0d60b3c834d109000e3f4024cd024",
            "5fe29a13461c4ed0b534c762e452967f",
            "12e4dba2ca094085ad60cfdcd0513d84",
            "22a11d07b507464eb833706b8a1f15f0",
            "0f9b1a84faa5421e9e7372ccb4a8b7d1",
            "7bacc06028e84164ae8d60a5a219a9a6",
            "a20daf887c994b5882693e4815f79638",
            "bfd225c8c9f04109b9ba17b263c3c8d5",
            "557d7f7a1cb94c01b9d26b07159b1e36",
            "c69592292b8e4d3a8eaae3caeb6c6bcc",
            "8a8ebcdd1c664e6eb29873254f03bf7f",
            "3d840043072b4afcba7dc81b37fb1d51",
            "87ac5379c41a4297b91f4a80f6ff22bf",
            "61bf345d31e24a7db57b0783dbc6d1fa",
            "8ecd55936e794737a1c0cf0c004ede6d",
            "5c8541d9d6364ba2bd17eb1ecd8cce9b",
            "3769fee7c6764d11a4e5b41a6b1635f0",
            "e0ab7c8d295a4453a839228192933106",
            "495fb90bc1f44193888c75dc8d53171c",
            "ec9b1e58df2e4c3a9af781fc716ab89f",
            "b04239196d394f6181a339d28a8c4283",
            "77bea6c8915340afbba237ac4cd95fca",
            "06945aba0309490b9b1f198eb5695f6d",
            "f51c01f8f3194cb68d646669a75a7fa6",
            "233503fe79384cb4b505c8390f12a6e7",
            "62851fe1026647f5ac0f4a9c8153b163",
            "bf32eb92173049d7be5348c3b4eda3d2",
            "11cb058365eb4701858159051fbe63b7",
            "cf17ca420ced4e2e9e57c3f76ed1df7e",
            "64fdb599fff4401e9d2df5b83801208e",
            "87f0d5f2d8804c85b4c62d35b97844e7",
            "230428c8f55d4ef695333bdc596c0a62",
            "80e51b5fad0e4092bcd00c1fb7fc2582",
            "44ec1df7738c4666962c2d38496e8313",
            "f003bf0ad67b465ebf10218f5c6a0c37",
            "d1146e9ddb3c45d99ff71418321dcaa6",
            "3883982e80dc4ba4a04c96f6f12ca5ee",
            "d23ac347efb34d0ca298546e44fcdc1d",
            "effbf7c558e246029b0dbb49952d7ccc",
            "c271253125b54b5d93cb3523c58e3e33",
            "ad1b10c7650a44b88749da6ffbfb5ea7",
            "b71d165609964b358c5d884857aa4c0b",
            "f33c408f21d64892809322a2674500e7",
            "4f8c7f5166064995b40f25460a11ab51",
            "484aa88d04d7462da8f52351b1df5c8d",
            "f160dcfb85b54707aacd14f1e10b9e89",
            "1c820ca01716438ca2af159ecb8ff164",
            "827a4900fbf946cca14718f33f927065",
            "31f93504fbcf43f38b893253c673919f",
            "850566c3fd2d467e9c5a3967d4baa227",
            "2ac3e13df4764acd91d4ff0b7c91c85b",
            "4a77a977fcf84dfe80503c619aaf8ffa",
            "b03490b70f70461e8effa23b23a6b7a4",
            "4fb7a53d59fa44d4b38044bf2e646fd8",
            "d908dd04ef384fa78c73608c78899c90",
            "b0beed0f667748bc9439c1e55494f9e5",
            "8bdae2168b884a6080ced70d2c828ff4",
            "cf272263ee2345bf927310a1fa7bb930",
            "7b576feb83714a21863ce749cc94bfec",
            "5dcf350c6cb94a6ba375ae5e24b39618",
            "80768f67a7b04412a0ea7bdfc995182d",
            "161cd3b16c254cf693da3022feb7abfb",
            "ff7fad47894e4277a59adcd4685fe585",
            "548271c1bd514987b77b9007fe4bd954",
            "48749aa913b941399927634e0efab531",
            "d6049491fb5a47ab94cb18169391bee6",
            "492f405c19dd41149221922f49d2ab2e",
            "b0f3a04c2cf84d87941b6e604695bd12",
            "52a6a2f51cc44982934e267285436156",
            "022de02f3dbc4b42abbf34b532bad6dd",
            "672e0a48198240f0bdfcd365a2566b62",
            "baad007503f14592aaa106a67a870d29",
            "544e6042bb9940319d62f3f44d73759e",
            "a7b17251f5a7441d8597f3dcbf5361a7",
            "ac161d74751c40e59320aae6976d0e56",
            "150995143e734224aea99401bb2e34d6",
            "02bc50f211e44bb6964b8a4a20f7ae8d",
            "6b9f465e546649dca8a5951d143736b4",
            "d7eb963b7bb142cca922ac870ea12c17",
            "904c4e70471940b285af75872504ea3c",
            "45a9acfb4a6c4d53a1f9a5df7a867ee2",
            "435ea7620bd34ff38349df849e8b1e14",
            "ca3b1e5f7cb84265af889fd4c878bbf9",
            "956803122ce64433a811e5adbc884f20",
            "0bbede94ecff4af4895b0c1645508409",
            "6687628a0fd14ff49514d30ddac10dee",
            "a126748440794147a8db5892780525b8",
            "e56aa318036144d8988732a25e4345f5",
            "922d41ab675e432583c4b9d6ba3d4de5",
            "a5f36ab1c69a4b698a6efaaa890d89f4",
            "fd09bf0dae6344f69dfbc55d624e2a38",
            "bdfa2fd86da14f128cb8dd109280aecb",
            "afca4d8543724efe90a24aee569b6d91",
            "8830f49a95644a84b7242617438ff0a5",
            "4e26e2733eee450bbf5782ab68c79092",
            "2548a16e13dd4c9e8af20c4ad49f255a",
            "89388a9e189747f181d919ee25fb3a35",
            "6042cc91b97141ad9aa7e374215d61a7",
            "ae9503f07a0d4d5ca52223442f8ad577",
            "2547e1d8bb0d4c97b0dd6e15d7d3cecd",
            "0fb059c64a764bbb972e4b888fcefa4a",
            "44caf938703c4829b82374b4aa6878ba",
            "0004a612791c431e8c55f15a5a9985ba",
            "2ad02565f7b148fc965386ffdbe005a4",
            "9ad0cf6e18154ceaace85a8edeeb5cd4",
            "7be813f116ef42b98db92594ae2151de",
            "11be771c4b54440f920a73df6c77bbfa",
            "0edcb2679f2348a28a3b0730c1406d51",
            "a5658a998c514f31b052cf1b640ef3bb",
            "eb6382a9c85d47efa028051acc3e0801",
            "26ef61181dcd4baa84bf9e55649c7ab0",
            "8bc7152b983f4ee0853462d23ebbd2c2",
            "a97bacdcfdac4f8480d9c9ca6381b2d6",
            "45067ab63a4746ae8c95cf2708615bca",
            "abbd94c82ec3444796ba9d6722cdf937",
            "6fb7d743402940e091d5b45a2b5690c6",
            "5045e4d2ea5041c486d9f715e302d5fb",
            "5974e44f68074c909803902892854a34",
            "861c3f1295c24d5191de513cba7dabcc",
            "45a9d92aee14496fb403e78c25a48aa6",
            "01c5a0f664cd45008954e048ebd5c35d",
            "1305099e753c4b738c2a8b877dcf08f4",
            "4a972af2fdac40a9ba62c639706c2cd1",
            "5d7de9ce11574f1082d4c15c03b19d38",
            "3a0273fb3f9c4b168ed59014f1aeff63",
            "f3af547aae56425b9a86cc9f2479ccf0",
            "4aa6fcca0d6442a58fce3af62b9be10c",
            "84d22618f4014cd381eb2d45def58ac5",
            "9aaee9efbfb642968683451e04d77ce3",
            "ac142effd8c546d396c359287c7e0863",
            "fe78ba2e3e0d4508ba91642c19409f14",
            "e8ff825aab74465a8fbc4f6b26cee084",
            "91100b7b1752480e84100f22a00ac999",
            "1c1d70d3c36c4b21b71c4d7342b86946",
            "38539ec3abdc40119a94941875c2c995",
            "dcbc6f7c99ad432bab35d25ae66a468b",
            "c26353fe4825426f8cfeeae475e412e3",
            "7a8873379a4c4e8fb078cfc12e8d6a98",
            "592d2f4c099d4ab482b2c4898f45ff60",
            "c9539e51d73744029730b06a9d6e4ab7",
            "320cf5ed1141428cbc6b0e53f889b1cd",
            "9661c577e534454194d315fcfa0cc478",
            "11e8ba664c0b43f2b0fb542eba51b776",
            "3a5fca7b86fc4a13a1ecbd73c12d18ce",
            "bb802a0860914673b2865ec7fcea44df",
            "ec634dcd4cf14cf294e4d979ac623c32",
            "06ba2cb5e1994da082f8bb169f7f964c",
            "510bc56487814eb1a1610d8f4fe5ec98",
            "ad827167c4bc45d6a30d68083b886c42",
            "22a51fc1bf414519a6baf0e8fe91d1c7",
            "2100fc3e1aa64fae98cbd993ac86a132",
            "aa76741eb75b44a69bffae73b74667b8",
            "412f42250ba1403ea27642973501fc0b",
            "6504f9aa5e3e47f8b50d58af456a219e",
            "d84e995a50da4f0785adfef9050310d9",
            "f1213bbaa24d494abf850208d1736c87",
            "ca96271859b34998ac75292148db40b6",
            "25c120cfeff0471680bc4f6932db4877",
            "f074441bc7b643dfb6124c8e6f9b1907",
            "b79f5a01f95d48bab65745debaa452aa",
            "37634037936b4abb9ac006c2d2e88e03",
            "6654259952c342919bfd9cb15aa77ffd",
            "2d743df8b02444989971ecf8b5b42a3b",
            "fd24287ab5334d199ac66e2a63c247ec",
            "6813095698544d40b6b5cc2fd471b99e",
            "063e72f1200443f7b468a6e1d33d8947",
            "9ea9c176585f402fbfe42c294a713528",
            "e74a80005e3f49fba59b16f209a2efde",
            "2fc92e970f8f4c529ea1da4acb413426",
            "bcd3fcf419294e2bb3c4424b31c11f8a",
            "04f70a22e85b42688d73fc71fcdfe7bf",
            "f8887a96703d4e38b4805b0e9672b1c9",
            "44cfb029ffe24d9d8447334893aaaeb5",
            "7684b4a6faf64a1497aabdfdef4268ac",
            "d6492caadbe14c8e84b4dd16582f8d42",
            "9aaa6acb897749e7b53224a52257d074",
            "c6dba54762da4bcf88f3da729dd84250",
            "328bc16b12ad41e2be20121ca8ddb87d",
            "051cd0baf2264f7496a9592cf1322916",
            "f841b332de5e4fe1a5b0f99ce5f99b3d",
            "1cff584ecbae4014a845b7a8af32be01",
            "04b764e386b04c6dbc8ef5c78fcf5043",
            "40b38ea81a7c46018969d450590827cb",
            "442e324803324a67bd469342260b51d4",
            "cbd06e832a5640cb84a0699c8b26082e",
            "1890fe91b8cf41658d0dbdf27c1dbbe1",
            "39d57c657b5f452d9abd28787a103ade",
            "5f3f9bf03ad84bc58f12d46b6e381c34",
            "7d4e40d9b7c4478f87da11300ce2a219",
            "df1823e1ca55457ea8437844e82dd68f",
            "7f4536ab62c149849390f0ca9bb18c0c",
            "4ba6dcf3dc8d40258886069381e92cb3",
            "9cebb4e4af47493884a714005b9c2eb5",
            "9c01de33d5264a1d8d1af87ff039a6bb",
            "ffa9cb4371d041c98f30df91bfd07b01",
            "b696daffdb5942a281ca09d5b8a757e0",
            "fc1bff95dc774851b3e0c14a81f277ec",
            "b868e02cb406410b9760136cae458238",
            "cd8dc92e67294f8e80146ef0125a651d",
            "b449d914de8f418cb7f053590cfea283",
            "a99bd2fd53f64b77bb6b60ca043326b5",
            "2dc03376b20e40dfa7d62824a161e264",
            "0c7fc989e72345a8b8bfc75e62018eb0",
            "e4792ac97b1f4d9896c213658ea4df32",
            "2b8d6769f1834955ae4f6916f0303b86",
            "9a726e226a20463ea9c2863b2b06788c",
            "14ca80418cf948648f43a89a6e96ffaa",
            "069b4f3d90e3421abc3ef1d3cb4f6eaa",
            "a7d6bae3c8604519a9ab3c7dbaab18a8",
            "24a92851a1f149a9b595c8f28759a228",
            "80f204fcd4ef41b3892ddd2cd0f9e5da",
            "9b71e75faf9d4e99916f49b9abd80b0d",
            "79e71f03807d433b9fa6181b77bb081d",
            "ce0d79a557d24a15926214667ef34854",
            "0b7acd10595c4ce9a6fda8cb7db82354",
            "e3388b4656084769b3685ef46a397861",
            "73602867a3374922a2897e74752df2aa",
            "4462d89c5e2e4be599d5ec0d271c1483",
            "1446c4d831634bbc880f06f5eaad2e30",
            "0797cf16d25f45deb45ae14d9cb69970",
            "ef5f495f2c9040bdbc611849c280e3e9",
            "1dc16c53d45e48a7b97225261682da67",
            "d4466ccc07c241c9ab1b7166779885b9",
            "47bbe1c671cb4b8889155726a39629e6",
            "935ddccc86a84cb28361b5750bc60caa",
            "3d81d5f14de541a5982077cffae9d1a0",
            "6d36487126854e688c7c1930985a49cb",
            "3ddaf1cb8afc4538b17a7a7dfa4abc35",
            "02051757ba464901b43411e7b711d216",
            "1182147d753b47d88be1fdbbdf0bc072",
            "16baeeaa73134e5e827e2802bc9f4b76",
            "7f5b78be86c740f2bd3cced12291e215",
            "31f5830666b542b1895acf720563c1c8",
            "e1096f99546349a4a35b1e67388ef5a6",
            "c11e4e79dfbc4b32a8e17246b2c87d82",
            "a9abc51f32bf4a29b1c2f3720b205b62",
            "44ba3904cb5c4fd2a83184c69afa5997",
            "3c4c17f92f844787b943be68b7b7e58d",
            "95f82a50162748aaa06c02ebe42e655d",
            "19004b4408e24b009686f38062eb9e5c",
            "9222810a40a5435a8cf6d0bd66524245",
            "28de714208e4457c96ae182a505537f6",
            "796ad5ca97c04f9caba00af8bb511cfa",
            "d9c57333255f49c4a4f72eb8db887ca0",
            "1abc12ee55d34af79d95d7f1de31a905",
            "c88d86b2325e48c693b4099d5655a5f7",
            "c8186c7b907e48d5918a312d8e3bb772",
            "7e670ff9ce9c44f0982322abbacb6c79",
            "9f86b061b4274c55b5fedd7511497e3d",
            "361c401e85cc4a3c9f6040c75f8f62b9",
            "e6dfa697768e44a3b5bb98c13ea02c67",
            "17696daadb4741469f0b6c52e46c5420",
            "13fcfa0e067c49e7bd5fa4121416c28a",
            "4f8342f8e0d149119b7723d434644e5a",
            "ecae5baa92524cebb9603fa7bc152544",
            "ffe5234356754acd94c9de8a1f4b3aa2",
            "d4097efb17e648bc9ce4ce082fe9cda4",
            "b9bbfd4f79764dae82b09b9d5e82c21a",
            "5162f66a53504418bd0ac57167a65396",
            "07634f23f64e4500bf2d00bded62e0f7",
            "3a82b3f1079b45bca8fa4798ff04eb5d",
            "6d227effb15744d48165c4b7d81d8612",
            "6c41d0daf5f14112bf321106cb138ff5",
            "025759a9c72a45eb87e1dbf259e8b4bf",
            "36092c32c5f645cabafd7c56526b6635",
            "e32f32d2570f4935a2673f9d72adcb0b",
            "cddd23e0b9594778bafa09cd59a0b92d",
            "00f56af75f214447bec3f8ef73386c13",
            "3add2203067047978914976199fbb560",
            "84c0d74874724210ad06a870749e7975",
            "facd2fbac261479f9a7689bcaf9533b7",
            "628aa4d9957e4628bc8a51b72e16b19d",
            "792a121e71d04722a58f0510d81ce7bc",
            "87e53c1e62164fc3aba407d4f193c342",
            "3a95c5fdd22f444b9aa30e8b59ac2ee5",
            "5fdc532a081b4aed976d588c7b2e8bf7",
            "116aa3a9526b475c84544b57f7dd41fd",
            "f529181bf0714d43baedd7e1b7db4877",
            "78fa2c4278cf481a9b91635215906592",
            "efe5e4207adb43e38392132eef58c90c",
            "fc4e6039a80c420d9a84b9960f30f55c",
            "18b065d6a5b1498b8d36696b93c4ff9c",
            "c593282df25e41b29915bedb19156866",
            "6aa87ecc487343dd8154504c90ee58fa",
            "a5f5150e625e48529317b9657aefe112",
            "9fdbdf24c99246ce8df9487937ac683b",
            "b47f754e475448709ba267191d177620",
            "dee2cccaec7e4e7d9ed22f5adff711e0",
            "cda74b5c55cf445089668eedc71f5c84",
            "60ab2ad553f04cfda0716f8cb258391b",
            "d63754d6022f4d94a62d379febee7efd",
            "24596a8d092940a78a3a4bbf29d40f9d",
            "ded7b149f5f540fdbe8a1f0aafa96437",
            "1618dd56877f4ff1ab537f8bb535fafc",
            "b8f8a4838ba74f86baafe2b6731d652d",
            "1773b00178d94dbeb23f5dfb61894d00",
            "ec6198c67def4bdb9870d81e3a2c306d",
            "168f637c41714a479ffd7cc256c1cc32",
            "73278ede90ab4bb8bcd52b846b83c16a",
            "9a15c0bc7db2455aa10ab79ee1f4b31a",
            "f4449492cac94f918de048943d801107",
            "26245244260542b685fa255c7a49b3b3",
            "1e77b7dec1d84306b7b656d29a8c8470",
            "5aa9233864314e478d89059676416982",
            "e60462944e7f46df8081a464f00463d2",
            "2f3d4d96596b4daa895e7be3f198000a",
            "69b5ce1ec34f4b38bec1f1a5b440989e",
            "e1c66c3145f94446bccfb0147fe88f23",
            "d5741282dc50499dabdcb63fa677f4f1",
            "ec2a4a247eae435580deba22fcf1d60a",
            "09a8ade9391749e6ad33ca6a58853fc3",
            "3010bf61a94b4454bddf0557fe21b1fe",
            "6f11993f4dcb4aa0bdcdc89d174110c4",
            "f0664d2c094742aeba074bf500e457ed",
            "b2994a1174e24ac5aa29bb67dd55a066",
            "b8a2dc36308444aab6bc2a886b4bd787",
            "628ad0eed9a54c69a095f613095ea13f",
            "50f6bf8d07ef4d66898f9c236f384673",
            "91a6beab2cef4bbc89f3fe85b00644c1",
            "1ff87ef4c3954444810b59c39594ed80",
            "e89b0af3771d4cfbb45b3d7053ea0c77",
            "69f7d604ce5648889323c6d7518de4a6",
            "68fc318493424224abff01dc5877edb9",
            "4cdc3a0d67ba4c43a699d64fd7ed18c6",
            "a0505bc463054f07af5103dc023ae6bf",
            "cbb67e2a1af548adb9e84feacdedade7",
            "226e71de149c43cdbba7d5c50761f058",
            "3b065077ccd443f082298f30aaa072b6",
            "81f2b67981e54952ad663523b3905e3f",
            "728ff3e1e56442c4b2a9c2c0bc1409ee",
            "444635423186489797e5e47a05fb27af",
            "4c248bae1b0543c9996229de354813a0",
            "92fc4d5501d0482188753e48bbbcbd33",
            "2f4574470b4547e09a093019b25836e0",
            "805d752fb5294c639f77dd371e4afa1a",
            "debe01a39d704eec841dadb4fd4ec5a2",
            "d4675120b9564bc8a9ad35feef52a741",
            "ce5ab250283348d49c347851ae50cb8c",
            "5da5a29ee46441a799c35b60a75ff506",
            "d5e3221c4d414eb585a573b96bc47cae",
            "19a3af69a40044acad4e2c3e37cd1c2f",
            "35c1f1fccf87404bbf91dedc85148684",
            "40d1d21b341040cdb3b99ed62a6d94d6",
            "de5ea0e24ef2471a845063e73a7613ec",
            "2fa1c8ad44354036a317105477d7c6ab",
            "f8fb0d8d7f114aca921eef91e879e839",
            "767021d19fae4591923a8b7527823f69",
            "e54dbda036bf43f2a53e57e6119e6dac",
            "18925380d92948a1a416a772aa1d005a",
            "c0747df7e4e9475c9a8a24fc1606fc8d",
            "79e7a199fbf743949b3179f717aba9d4",
            "523281e9c66e481e9f9aee26b001ee17",
            "4904429c27cf48a299a017a58ec64d97",
            "49679237da944de89beefaa0054e9493",
            "2e4608c65e5e40f8becfd21cc62a9c2e",
            "168935f10565403592e07bfdacf5ee34",
            "d4b03835ecfc42d6bd0ddfff6b31986f",
            "b1acd9cc48784de5bc44680b5412c973",
            "520d20b193bf4050b9d0c350f1297d72",
            "9b844d79b355408eb2d16a0e7445e6c6",
            "9053bcdfbb034de3bf4d91347a804e84",
            "52921e0ee4784dd085e8b3d839024f30",
            "5123417a121e49d292d0b091f5e3b981",
            "cce9ac145e6e46e3ba42099e226c6c88",
            "185eee38e8414db2b7d302a500a2cba8",
            "649c19cd836c498a835fc4d8cdcb5057",
            "4293242d459b41caa397390190759bbf",
            "740504853b4a4f608db5e68aa04fb581",
            "9692b8cff8b34bdca5b4a238be1653d6",
            "c4b4b460c6a74367bb7c8a77afef3eb4",
            "b987322080be460883f38022b8f91f6e",
            "d68677d56a2e40c1ac0a202b676d4f6a",
            "28aefbeed1434be28f27d0d0de6ad339",
            "b0dcf3c247474e57a860c02bfb841cf6",
            "f59f47e35c0c4916bf59750469a2629f",
            "e0a3444a24194adcb0eac6e0fdcba598",
            "a57bd4eff185423698d92ac54201b63e",
            "7b8c63942e0f4ad5b736713b5f6acdbf",
            "4dfb7b30c65d4a6f8dfbe1e1646416ba",
            "b77a64434cd84f2c846fe4fc8222d7ee",
            "a72e6f3ad9ba400e8cc49d1372349e85",
            "103b28c6c37f4d1da9559a800495d464",
            "0239475948a344829d18ab4083c0e5d4",
            "40c3b72c308b40ecbfbc27c6a2627360",
            "37aef51bb788490183621262c672fb0f",
            "db78049adb464fb0b3f05be040d58aa5",
            "029018eb948e44beb9853dd10e48fe29",
            "0bb382f6f11247719642f391c41d9e25",
            "9f878d88c44e42d6b185f57a3f18fb61",
            "5eb20514eb694915b9bf6072801c1c57",
            "2025ab724d1d4733bc1b4588d8ce8daf",
            "353233e8d5e24d98a1186332c23b1ebd",
            "f82fcbf5ea7d40ca8ef93d5121197993",
            "90768c96ffac4523b180a33773707657",
            "faeeb44375d1422db1e7df18ea633da0",
            "f02148c6f6814956a89826030c69c441",
            "34666b81736142ce91e047270a3f766f",
            "b095a1ce2a9b4b93b7ad9b43b6ce5996",
            "b9f299e0158f44b6817d71397951427d",
            "a1d0e026397441d1828d944932b1ab3d",
            "52eeb4d79fd6476397b2098d6ca9fb59",
            "d1787f9f3a9c4b4c9cc36156b485179b",
            "c72bd9e7a0224d009168508f85c86015",
            "acd3ee9175a94394bbb66999a488d483",
            "3b45f2904b084d17987228ab9c4714f3",
            "c499207f98ac41a5ac8b79cabae2886d",
            "f8cb459d373d4772aaceb7ffa1c1000d",
            "ebeadd6d08cd4b9baa26df5832d11162",
            "4f9d9af8c3a641bf8034d9fffa02c7a5",
            "050faf815c8b4ba6ac7c3e6383d73b3a",
            "3424d2de09474d8f8fd049c9783f8bf9",
            "73085b732f314bd89799cac89fec2a33",
            "19111632aded4017838c8aea5457fd86",
            "9a6d6bf09c1f4976aa2b9757713a43c7",
            "829e4a15d80e4d859efd4d57ebcfce42",
            "16968b6aef9f40a2adedefaae3e3f956",
            "8145df8fcc174891ba05478f0b2ff2c7",
            "2bbb27e5199f412490c2e9f741a8bb2b",
            "f5119112839f4eb5b5447808fbd1087f",
            "3c3707c7502e4d65860d75f3647f51be",
            "68279d748bfe4899a80ac9e768190b8d",
            "5bdbf8023a234355a91d8052bc60ef76",
            "49feff55eba34021a0209c0e44c0fcaf",
            "dd604e5cd3d14032849760f20b3bc6a6",
            "6ebd63c57c6b4d6f99e999281fea2dfc",
            "7aa1c7e6c52549de94f2171b86cfde53",
            "cac16d54608a438692826f28050f97fa",
            "8b733b141264488f8ea61ae8c6e54a7c",
            "fe63c265293042c6ad8b3a8147a1b82a",
            "f9b480fd2d5f420d838c9122c1298097",
            "19a3c9af9139477588520d60eced36fe",
            "f294560a7911420083002115ea2ae51f",
            "99fc37239d0c4784bdcc48f1ce1acc22",
            "5464c653909145239a342c785b7664e4",
            "e403299da92a486e9c522478045d93f1",
            "85c77e48bf4643e8be05435c1fe46b5f",
            "d88e6717389d4d9e9899f12bf1667464",
            "393d55db9054413b93605db174bb02fb",
            "c218ac8701804346ab74ae8805081194",
            "0980223239074025a8857858e1ce2f06",
            "75ccf13716c54debbf9e10396f0c10e7",
            "7113a9dd0a1c455dbc82238cfd6cf75f",
            "58e8a1f57fd24e7a88e9adccdcefe3bb",
            "98a47504e3784a9d9a8c54fcf31d1b4e",
            "7070d11767144e908c0aded44a9dc191",
            "ea22a15c8d7a44c59b3fbb82ec7455ce",
            "583adbe5e82143de8db822c81762b508",
            "33e0d6b384d045f5a3dc9b2ac0780ac4",
            "90439f4bdccb4201b4670c64c5405867",
            "0d2c335a71c74ac18a2c3b287c3dcdda",
            "c3be4ed5499a40d09f78d24023b26c2a",
            "d8bd5491e1684b4ba2523308b3044463",
            "1e9f1003ef294eef92f8d008d3bf2f7b",
            "75078f4f270348899a987e5b27ba3430",
            "38e51a0e86a549bc933ed57c32594ade",
            "4996788a416a471f9deb81e9ceb93a41",
            "0f551e6ded4047f98366f2127e7ce64b",
            "fa22e9d53ee6416290cb85a883d611a6",
            "075bd8851ca8477a88f483139f20b00f",
            "04a92149595646168f441cec5891e87b",
            "98bdb467bca2439bb821703df8a46ca9",
            "fe792b59e50b42bfbb4ab850ddfee200",
            "2cc89bccdf96411aa50b6704954490b8",
            "b12d91be8b3d4e50a9b991c916e1b0c9",
            "f0715d8a1edd4c61a52a35def3a37543",
            "f9975d62610d45478566efb8b80cffaf",
            "8b8186edbd2345ccbfcfff99bb6b619c",
            "a09f5cf147664190a32752aa876794a4",
            "9bcede7a837e44f6bf2c869a5c914b02",
            "c40397a70b314e55b2185a7531357bdb",
            "9ad7c59a5f504de18512bca9d2f0f6ae",
            "53961144167f4a179c7d82411f72da8b",
            "17ffc9fdeb4f4bdf9a9c8770ad1c52f9",
            "06a3a4b0c0ab485c80c395f5666507e5",
            "0a661f9b23484d549c3f0cccfdc5ec95",
            "1375a7a2db0a47018c3aa26e30a1f7df",
            "21341f54ae4d4881a6a50bbf0c59c578",
            "81fe55321ad24bd8b5fa957bd9653c6f",
            "05b2eadd62fc4b56bf91276fd05ad7e4",
            "211423a5b7b949109f93e8dfcfcb5688",
            "05381640b6cf4e97beb7f44a25d9e28b",
            "b11bf1164ac842d8affd69a7f6625edd",
            "c291f96a70844ae0bae08d468e49d001",
            "465ea9f78dd24a68b349be83891f5375",
            "c15e9f5ab6884b558f63cc084540b143",
            "0f66daa9a92a4c0f842477f664d54f88",
            "3d27ec9904064b538fc73dd801a09e18",
            "37e7d5906f8b4274ba06ffbc6c04c6b5",
            "315ecad5248449acba581ad2d54f8e19",
            "6b042bdea9a046d0a2837ff642733533",
            "a377cfa899f14c3fae6ee51bd5c39352",
            "5ed1c1c76b054f869229ec3b97626953",
            "67457645727f4b259fc7ad8e5a99fab0",
            "666b47811ebc42f49b0463f61600c4a2",
            "4dbd949071cb416cb2c75d1c3c18785a",
            "976b909a1ff2436a98cec9e23bc4ee9b",
            "baf48b7529c34b9d86662f8cc9eb7969",
            "ff6a540113734c5ab38ff583db099430",
            "888fca4de3b1479eb081d1c274a5a9d8",
            "b82c43c0b104483185b281bef165bc13",
            "854d953ffad445698664a344a6625b73",
            "9240acb52b5a475285fd019ef429a680",
            "197e51a4c7be430ca6bf379e3da13888",
            "58cbec99558e4e508279f0d71be1f43f",
            "76f9248f7da34c2386c36b99bb2c2c41",
            "bb89d92e0c4c4c768459c113112d336d",
            "90c2ac19eedf476c858cc2a34c66b9c0",
            "8a68caa0a2ac4be79199e622a0e1244f",
            "0a125a6268e94a379b8506d57bc19a77",
            "c0fb2f4fe3c4446cb35f61de1cb70bb9",
            "695b4d1450c44844af3e5a75b9ae855c",
            "19e739d293ea4f53911fa9289a9b757f",
            "d2144a504aff48b59cbf282c0596d61f",
            "f4ab0007a8ea4ec0944c4ffcf31bb41a",
            "d45cb6754b7c4704898d15835f101a66",
            "edf432989be349ef8cf6e6d2fea7cf76",
            "600539e7e72849948b5c046056c6c47b",
            "e551020d87b74410ab3999f962941b58",
            "c178ddc3b831499ca9fa52fe1c2dede6",
            "f5610e57c06542c3afc49da6ee4fccb8",
            "21429f0b9ddd46c3aa923e4263e117a2",
            "08630d678f9f4daea7c442e70d6a2424",
            "1bc423abaefc44d5b9db5e3376c568ac",
            "d8fe13d22eb040a28714ace8f1b8ff82",
            "1d313b3ca8ca4280a516dbbad2264eaa",
            "73feddd265964fb7ba909a5c55d399e0",
            "6d57c43187fc47c4aa917db60add6fad",
            "7913e0e3bb8241658c5143eb5e3493be",
            "cf8ce15f43cc47b688f5c49b12add208",
            "89b32ed0553e4b56986056df7d95330d",
            "a88d8d87881b41db9f6b159fc65a2c71",
            "22643ddb979b42b6909d3bfde1353802",
            "667fd7b4a74d4f06a37b03a046068b23",
            "0229588a621646cda156e099a5d8d6c7",
            "1c8f7629dc4942c7b00df5cc75732d8d",
            "ee70b63cf01b42dd96fe0b75e37e2dcf",
            "be04d642d5b44270becc62e1a0906568",
            "165239be3c6848f19732e8650cf421ce",
            "0eef3156486b465c916217a691f404df",
            "e42c23db06da4bb2a35cb03a445aebf3",
            "64e4fc9e6cc04e27bb41a527c93ba4de",
            "2b04768dfa314f62bcb2b4ce6248ba99",
            "5ea154d4b59d4f59b79e7ba10e766b85",
            "5648452a43e84bb9bc8f58a479ecaa67",
            "250740cd7623430ab72e3e5f1b5ca232",
            "66d7a84836ca4124b3cb4a48c8b71262",
            "68ec2f7d67934742802593d5dfcd84b4",
            "e256ef526f0942e2858d655722be62df",
            "0dcf9149658345a6a152e78fb0355ccb",
            "ac2cedd9522243dd98b9c28f395f3e13",
            "f5b0e9ffc57248d6a64badc145b7a1c4",
            "52b349e171b747a3ab1c77c20a5c66db",
            "f1c0253e831f41fca3bacf1f41699d91",
            "91c1791cc11c45309aefba0c4893d321",
            "5979b761286e422ba922c6137df98d97",
            "a0871141c5234d0ca56a3fa861c24b63",
            "68c4f50cae9a4325a6e2863060edeac4",
            "3ebdfa73319946aa8e1b96af9aacf5ca",
            "d2ccb49b25604a54b29092213ec6e40d",
            "86c8b7e77f30480f8a0ce3e126c6b4ad",
            "3a23d8aaccb54edabb07ed21bb16a064",
            "d9b23e7c5d8a4e5a93a496ebe2a1ab49",
            "fa196b4ad4d64ed6ac2ea4b7f4e262f6",
            "1f5840fe761c40cd96c65ec410391f99",
            "1acc6adbdb5d41e69dc4ef4ef84caeb3",
            "b69e14f2d1ac467babfab2677d1479be",
            "85bcc0855f9548179bad4f8aac47510d",
            "370e82ab5c75413b8f68b7694bba09db",
            "9f2bb7c953ad45018ec42a0b986af1b3",
            "70ca646fc7b542e18bd318c62eb657dd",
            "1088b620540742a49f7a40be82ea4b3d",
            "0849af7c6c764761b7947371a2d32c2d",
            "e740449d42e14888a7f96e5944fa5688",
            "c8d531ca066a4aef8a90460b265bf066",
            "2f6b3e9e980b4e7abc7b5fbe380462ef",
            "b07870fc9c0845d3b370f1354d66b271",
            "002e479cc4914342bd87a9da525ff007",
            "a9bafc2884044fb9a95434e54c08b5b4",
            "153a2c1e2a254860affb97b4109b27ff",
            "f0d1ffd12e5d4d60bf3d59ad1bec0915",
            "d73b2351a01c4b1cb892e09e4a1aa2bd",
            "d16ef3de13664605a48cf2a236230207",
            "f74b6d496a49481aa88d005e3eb784be",
            "9bc5c7b529f54f0cb540d3fd70ef0ff5",
            "76dfa3ce745d46f88f7ba52776219b30",
            "17a0931597a3425296476d4b28ed21dc",
            "3de3e5a505dc49bfbcaef801c3abebd5",
            "298a26eaaa0d468fa35d6413295aeab5",
            "0da5739ecbf2414a8107288084fe1f68",
            "350df87aef93417c95e8a0137bd14a1a",
            "890692e7c87946719612d278077d58b7",
            "971e43855851422fa6c3ef2d80c1902d",
            "4d18c8df64fa4b57a8645ae8b53ccfb3",
            "89c1c639a01f4b0e887f624b33970a65",
            "9392d3f81f8145959a5e9119008630e1",
            "20263fdd930243da92fbdbbf2b2676d8",
            "c5812a9a093e45af917c9094db09e6cc",
            "b09d19c763bf4c5e8e2840dcac349e96",
            "6eb315f5adde45ab969788ee4e015be4",
            "cba0b68553f04b3b8255a67f9c77657f",
            "2996b752ed1e49cd846a42bad59461a6",
            "2cc55859a9414455b5580d97cbf8afdd",
            "cb712c88868c4aaa854c2580c0d31bf0",
            "d7279c3b42b74065adc53fdd9721f84b",
            "4d9b8bb6527a46a494f2f3fc8d957861",
            "d55d98acd53842a0a348ef8be5d16e35",
            "9f0f0cc02cf4495b9912ff7c9ddd79ed",
            "e1f483d807164fe0b6a27116f3b2c43b",
            "da2de901b3de4a57933960512913a7bc",
            "944642c8fb79492ba55eabf942358b8d",
            "56f305c005ef4cdaacd6465c575dea80",
            "47ef7b6da468407eb4ad51eff75a8846",
            "43f95abe85aa483e9801ff8d1e74e7fa",
            "73644355653a4aafbf1b3465f2fe6600",
            "cb3c2d53ead34cb6a1b3fd6a2dab3c14",
            "8e62f0db636f466da068cd2171f37db3",
            "c6b68151e9324ecc94268b19206c6b1e",
            "d6f0227a9dbc4d97a811881cef0fea65",
            "f75692421368429eb8e6bde25567f3a1",
            "a92ef83375cd49619f5d513111dfdad7",
            "97c8c2c0015c4d748559dba7ef9777c2",
            "01e20b3b695d4361ade39715c1ec66af",
            "9a7f7c29f8d44134bb3a413e0d63cef6",
            "32afcfcf9d194ec788a3a9cf032aec37",
            "daa3ecafdc354e7eaec2741fc23f0b6b",
            "24af943b983343d3a1bfed0a964dabbe",
            "a2ae797aa94248f7abd1f3abfff2b03c",
            "a1dbe9b5437040dc982c97e8bd1d76cb",
            "e7c6ddbe8ffc44f9b24d9e90d033d0d5",
            "ddfad21bd5ac4fbfbd64e990a1b21ac7",
            "4b218fc75a604e7099371b785ea2e4f6",
            "b73df40b83f344de988e78a12c89b7fb",
            "5b44bcac9da246a3b44b841751791357",
            "f654967eb1034822a70b52972d1e498a",
            "2106bc2d05394159b765fe5ca488ccfc",
            "534eae16c4274d54989ea1a563865205",
            "c921c06eb6d54e97b1554961c5e62f56",
            "67f467a92b0444e18de19f800342b3b4",
            "a8c7444444b04fef91057f966550333d",
            "17ca0ec5164747cca659cddbddb80d7c",
            "c3f5c34d12b442dda0a01afc0e56a29a",
            "5db3945e46f34808ab8a15c51b3bce50",
            "263ad0ba3cf345ff812e81edc0a893a2",
            "9fdba745d8654c908bd1a5464a7a2c12",
            "cd12d0e349a2447da54b4da0fb0ab4cc",
            "2f66269a18c74a9dbfad402989e633c1",
            "7f6e6ba0a68f46a3b4e23725c67bbfda",
            "0e2a3547723e41ca8bf5d8e509f7d7aa",
            "7125b97c93b64c39bf1c12d4982755c1",
            "08d4926d65804d7f83a8634e8e2e4bd1",
            "e1d71840871a4a15b86a6552bfdeca83",
            "c2c9ce9b15d6460c8191956f56dde166",
            "6297ea99da1649a4a9c9509b0e801e39",
            "ce20dca833ef4cbb8d21cdd48871ade5",
            "f2b8340be68f4bdca6cd93e90e8c1c70",
            "26073650f607477e9de82140140ded76",
            "c4a3cc69f697434bbe281aa6ef8acd0b",
            "10287c6bf8c947deb28fcea1bc2559b2",
            "031d032fa54f4d47a7c1685c68138880",
            "f671a78b230b4d528bc0c85bcd766f80",
            "6b7b2a5cb46441a28656f875968ad579",
            "e7266c77d47f4c29bffbf88a7678003f",
            "a9451bc35d2a483e9740f100eeb11c46",
            "daec1433d3f44c018c48a9d27adc7bb0",
            "cf1c7612080e4ef18b4f3a04ceb03988",
            "cc61012881dd46d9bd02358812c40252",
            "5a498c62418044e1b0b2b0a20cb6bb11",
            "7b50a27052a641f485b25abd59b2c848",
            "75df6acbd6ad4eb186381f1f40f6bd7e",
            "8d1bad24d9b24781b41577f429f77328",
            "b6d0878e4cc749b494ba6851e86e4576",
            "4e89888d81994bb09356bd9a122083a6",
            "7c0396a0196844179f9f1038c3b39a51",
            "019a178f78424eaeb3ff4f36628eac3f",
            "819b403768a241cb94923010b2e21986",
            "76113237380d4b17bcf9551c1c114726",
            "e619156befe74d38af3395057edc628f",
            "56b3c42cf6de4612aa11c6d4e41e8e01",
            "bb8744d49f71456f91c693326775c4c8",
            "7236b4dc03b14427bfc7c4743b5217d0",
            "567b502eb81e4e2db1c5971b4d2efc3d",
            "b1170308c41148e08ecd5cb41fa38c23",
            "6b2ca44e7634412699113014f3fe4059",
            "736d7f224b514146a607ea7cf6e5dfa6",
            "08ad019810fd41c993fb138dcc81debd",
            "f529aa2d173c45dcb3ac465acbcea7e4",
            "79554fdffc0548bc94e1f2250a47a30b",
            "18e34f8109c741a3a5ba41428a617285",
            "28bc695dd07943d8a4d68b25fbf1cfb7",
            "001f6ebd47f74b37aa1ef3ba07074e06",
            "e985add7e6894a5cb0154851fa94012b",
            "232369106d7f4fbcb545009b49681a54",
            "15e7680aaa88424b9446465d5a63f2ae",
            "34b62753801d44c38ac93a9e4adc70f2",
            "68dbda8130e84432bbeceb87af386fb9",
            "9a3ef71f4c4d4ae8b91ea90b36000823",
            "b995d9ac94a14e0ea79b9ac428e0401f",
            "4241392de751461a9a2265b8b95a1c7f",
            "733ec00ae32648a18c2137075d0c4b42",
            "1e2c7e05c3b540ee98c77fd4931f913b",
            "d4782cf7a9304c5eb3a848f5f81e5cc5",
            "0d6840ef847c433786d3e335586a4496",
            "3c8d214ecba24a4fb61a4b66dafa91f5",
            "8fabb64c279947d7892004e981a76671",
            "6f8010c0814143b9bf69127b9c24a44a",
            "a096cb643d76406babe1b72342043afa",
            "d5234b8139a14830a0b73b94a6ec21ea",
            "151e5ac313834c28be48da4e3fff6061",
            "3b8592b6c4a2400e8c281317e5f8ed21",
            "65c7b59da577422691a1d808d6d3f9b9",
            "b763673ee4474ec891f087a1757693e7",
            "55dcb4002b944ab293a17440d1ceb291",
            "85dd8364d87142678e56f4be3a2062cf",
            "03ec014b270842259764189cafb82293",
            "070136466e9a492f9845f87996d236f3",
            "1631fcb048554d89beddc90c4cfe767e",
            "8aad311d12a84410a40252c74fb4e58a",
            "06ce8603536844ba8a6198ada976ee5b",
            "c88c47211b0745e69bbcd0e785009b78",
            "70d8e89f6fa145b5a7a222a5a3b4e668",
            "5e0db8d469c3462d938b2526fafd8399",
            "0b753004bbcd47439e569ac1bd6a6dfd",
            "99295029eeb64c1092fe389e8b76bc80",
            "4357437d9b434df8ab5d913e447c4410",
            "dc089d8f4e214e9c881dd3c490eca0b6",
            "4c5d75ef01cb4c5fa2d84deb3c5b8414",
            "35bdabb0577a4178be683632f53dd5b2",
            "1d6632f6d676412f92559e7c0debde51",
            "46a98f2e00284d958f383fcf7cf8a634",
            "8f046714397b4dbbb9783da58952465d",
            "3d38f6354e364097afb04a5aef101483",
            "bc900390a28d47a99ebc1c3367039e2c",
            "6d6d0d78158b41298734c407ae1eeeb5",
            "e367a4c50ec24af88acc74b72d4dd639",
            "522d989374054d2ab973a704f9dadb0a",
            "727c531481994055a56266fbadfdd6cb",
            "ecd91e5eaa91440e92f49e99a1c7d1f4",
            "e5b84ad91b1e45439b8723923a2b2a6e",
            "23c14732afde40b096d428fb7887f5a1",
            "db747985f1194eafba90947c28c805d7",
            "b5d2bc4ba2c44ae79c89378fdce251d1",
            "83d3479eec1c4896b9d366930e672231",
            "a19ef9ed30104346ae840ab69c92f0f3",
            "259bc4ea15d546e6b7258cda61f9c8f4",
            "aa6d9dc86cf34f8f9a9ac6caf9fcb648",
            "4fdadf5cb07a41829d9527ea8b71a937",
            "25a1beede56d4163b887e74c14854085",
            "f1373afaddc4462e9a7aae58ea6300f9",
            "a01c35e43b8c49deb5ce2e6bb5cd1c83",
            "18f514d4b33248fa8841c579ce4011d0",
            "0aa6a783205e4054aeb7df19f8e08d39",
            "e9598d7803554df183a8b84f9dbee7fa",
            "2f402c5cac71415fb6d32c1808613773",
            "deb5afd1ea9444db89dbda118cdbf92d",
            "eb84b71b7f2a46949af769cab966eeec",
            "a9e62204ac824ea1b2a4e63125a7f9d4",
            "c5b19166ad274f6f8b33bd7d4c829b22",
            "e688e6fe9fee40c7957137e8515527a6",
            "fc1577e8342643fb85a07d74e0bd56ed",
            "4094327d4c8e42b5bb7edc2fb4b3a8cb",
            "a888be95f1e94cb2a19316d9b3fb09dc",
            "d7de47d81a22467f9ebc85184e56aa1d",
            "27645998318941d794afa415beb9cf9c",
            "6ccb394aad3c4ecab3702dbac94d45b1",
            "cbc912b7a3da447092d9694ccbb893d4",
            "04310248d1de4da58183119f7738d825",
            "11f61e94e90042499d0a429d5ae4d16a",
            "310cadedcd544ab7be7867631dbbc607",
            "98178d4ed2914d88b4f5fc66d66ce93e",
            "0f6439a42fbc4d0bb4da0447e108db6d",
            "4f1aa60763ee4c949cfc8ba1183384d2",
            "932367e8a1084c99b20fdda759942c80",
            "109abf3b3d23409cad30150d678df41a",
            "7a7f27ceae19448584ad1259c878b2ce",
            "f08e1119100947839e6f4599e218a328",
            "f0df906035764a75aaa4ff3087addbe1",
            "e5d6794af29644b4a6368cf69ac6f7f7",
            "e5da762ce3264f76b5781efd45b76cb7",
            "560c939db2c9493b8b3c2dc7e00865ad",
            "0c9bebb088354d43b45a695852215729",
            "1aa43519007540f6b39294cabaffd9f1",
            "77e8859a07f44404aeebc452ef9dc1cc",
            "4d845a61893244f3b67d480c9d3d7b97",
            "45c5e5e830e24f1f93e0973555f22bb7",
            "274ce57d784e49798d5c14193f062108",
            "063ede79099243fda52f7cc8f5fb1796",
            "8c1f6e498fbf42709422f0dce065befb",
            "e0d65c314e764f18a16167d54920a4c8",
            "e416382a47624ad686c92eb8b40016cc",
            "f95b719585d9427883d18eeeb16abea8",
            "bab2debe6df44e52aebcf888c97071b1",
            "921bc9ed031e4446979c0e1e4f8e41c6",
            "ab21472cff2647369d790170f0db394c",
            "20bc03b0a4bc463b8f8bc3d2f98bc64f",
            "ece06817961248768d99b2f79c2c13f7",
            "60db715ccdab485e9d0195087ca19cd2",
            "755ac7eb4d9749099e144e9872e66294",
            "0935637af9ea45988efacefec6e70da1",
            "ca7d68bda3cc41c28b55cd46abad62c9",
            "5fb7219f034849ab8333e06b46ca276e",
            "43b86065bab44495bf7c4ff3ed55bbd1",
            "3b0de61c6a27401a9c0eaafc9328ef11",
            "8fe7dab1b8174c41b9c999af807e3be3",
            "f02170f9604548f28734aada27409047",
            "2a359efa4ad3413a9f821b4465b4b5be",
            "2cdaaf280f824f958ac6803595f92118",
            "80590dfebff54105b7420453d0df16a2",
            "740d9c836d814b90be47117e8a22fe85",
            "f04a00a83f39425896a4bf7e0c5907ed",
            "a3d88ebf468e4beea0e2b3c60a86354c",
            "259b0b0e25e04e20924e852610fe08f4",
            "42c1ff012aa7449d9d71914cfb6aae73",
            "98fda675b4e6492a8bdfac29d699d6cb",
            "7613cc2bb91e473289bb4226e5a4d372",
            "febab104e680482a86aa5c956c44363f",
            "b7f3d965f2af4440b388a40bca94f7cd",
            "bf172d9e69ad479297e76bfe6563e484",
            "2e39fd5328c64e57ae876d5276c3da74",
            "e16830cef5d14c7f9b125fd952b971a4",
            "a8ed9f48701a4a86a86bf9046457754a",
            "12843aceaed9463582ae3e43546939fc",
            "89fb0e207c47471aa903c35366969f2e",
            "189489c556b34a1d8dfacd8c2654a175",
            "4109e213d305473c871ac77d8a3cd1c8",
            "88aff46ae65e468aa40fce1828f2ed3a",
            "638fd9662b5843aa9d05fdd480941707",
            "55471c0d3b55481da33456eb69948593",
            "4b4f72a768f04b0eae750e006c607463",
            "1fa2eed3da934852804af860e217547b",
            "f00e8c7339d347b5bbf5c5a54094a546",
            "e9bb171c5b004609a5f07bb64bb803cd",
            "d1b72b716b8f4675b4d3cf4d166198a2",
            "bfa493afc9884c679b22c916034d979a",
            "92b3679ff04b465d8d557c8ebca87f9a",
            "4daeb0b1b32a455f9415e42e3ca45d70",
            "d5ae005c27454e0282dfaf845aebaf5d",
            "032e304155e34d31b6500e66b12a6edf",
            "7e4a5d7bb4874469920cc7558bbb80dd",
            "1c8dc1b3c74b4249bd6e20ed2aab67f1",
            "5f0bbf17ebea47788031e7d248f5cc50",
            "7c658a72f10c41e5beb5d9108ffbafaf",
            "007e5f82f3fc4f0d8fb3d1e01d34a06d",
            "44f0bf653f1e425592cac49c48eae6fc",
            "5692535a15c34b078c653a4d81323114",
            "8a5166492ee04bd180d2125eafaa20ae",
            "ffb792b714a643c29e2adbee883d5482",
            "ad77571752974f708048b90706f68582",
            "3362a77119ef4995be181f05324b7f4f",
            "21cc916bc6ab49d0a992d541566c260b",
            "b2e2d5786a7b4d3f857aaac4aed5053f",
            "d89f5ad185e6452e8f92da15bb3513c7",
            "2e54460911cf482d81088c7bca50ee6e",
            "94fac6e9c5c5463381838ec82b7855b2",
            "a21ef8daf8c34e5f91aa4e170ca607d0",
            "4c146273199a4a18b29381adae692da5",
            "ee65cb2ce5a240fab64814aed27f8bd0",
            "562bfdf5492d40f29bf4ea6eccbfd1f4",
            "b02d9cd0380348edaeeb7fdcfbd651b4",
            "4cd5444c0af44133ba4720bc67a017fa",
            "5dfc1eca9c6d4a3a865269537485fad4",
            "362efd9cbc0b48668406ee1f3c93c16e",
            "b18022be6a664a6c9da79283c040f3ea",
            "cc8f2572918c4ebcbc918c26ed041809",
            "22a765b8fcd54d9ea838f4204587ee65",
            "ef237d103e7e4d44ad05fdf00675d6ff",
            "a4d533af4ce14c5998fb5f3774b0c83e",
            "1b8e614630a14d66bcff24ccdab0ae3f",
            "34bea1c57b5343429ddb0013790df8df",
            "4c7acf4ef4de403c99b31527412b98ce",
            "8bedc4e028174bafa8ffa96f1085d3c0",
            "4c5c40c87cc645f5a26f8b3f59508dbc",
            "98c8c07ae7cf4c1aad5ecca7d2d9e62f",
            "a20df5c94232418fa45579ee7c0f71ee",
            "2f1cb8dc96fd49df9cff94d4af8fb5a7",
            "31557493daf44ba397cce99faca0123e",
            "26422aced3ad42e59e5174677b35cfac",
            "a9a4412dcc7e4113a6a47bca3db39a58",
            "23a2a7e63d5e4597b8f98045fedc1abd",
            "9ebe518b4c364ce6b3ffa7e37bd82259",
            "daf24c26e7ac44b6954d5f5a07723794",
            "6a9f6c267da94a998986b14df4de7b74",
            "6d49339978dc4a808da3a49faea348fc",
            "9c4700a171da43c69f797417f20cef29",
            "4158cd8fbf704bbea740446a8525240a",
            "05bfb381b69043279de67c78a541454c",
            "cbb80767ba7942ecb12ddbce8382a10d",
            "2a614124b97a419d8a89e02e1ebed169",
            "1a96fcdb6ad04d8ebb3a0cb1abcfdd14",
            "ab8f07f41e9648378b4e4a68296249bb",
            "8842b4b442eb454788435e21229bd1da",
            "81a83b171e4c44c2b169d4355a236c51",
            "ffadda830b7640e0a4caa56351119335",
            "3adbb14f96cc45c4a05dc7bb93e76a90",
            "11cdedd2cd5e44debe98d6ea1e0deb08",
            "ae37db69c79848b7880f626a64cb682a",
            "12f3ffc2b5614ce9a69ea2f9497e570d",
            "0e113ec44e3a46b4b7949e53d8593b1f",
            "32d82a32168546389f5cfa20643bdad3",
            "708b84a09eac40deb0da435c59ae8770",
            "c392a6fed5844aca96675749c609f978",
            "739cfe4dfdb3492dada42c80cdf2a43c",
            "b1382616bfac40ffb3b3f8f747d1a8ea",
            "d404cec349194493a1f57c5feee8d16e",
            "ad36a13c8e474fe693ee2885f96fc8b9",
            "b1c9a9fd7cfe411abd53e074626a1692",
            "74e811bca0044b7db5f29cf8620b29cd",
            "326924ef863a49baa1e4063e98eb6b90",
            "be9d73b05eb141e9a7bc361ee4af5eb7",
            "32cd21fbb6284933b5061a6807f37998",
            "7ee645561a544f858dff42cd3623112e",
            "1cd24092ab8f416b8f0b47505519a32f",
            "b8590530cd944477bf0b41b59ff189e7",
            "b0886612e1324055979b5feeabbe58d3",
            "67bbcf34900e4f05bae21e24c388651c",
            "aac9743d953049d8a0a47f8a9b16e0f6",
            "4ff97713a0f243889305ffc5feb8f614",
            "183ea9761e0243dcb2741b8591359c6c",
            "6726b7a8d39e428f82a5eb3d67c444d4",
            "9a2ea11d16bc46e7ac77de84e0d838e6",
            "2ba1045c46f5422f94a28be8840914f8",
            "17ffef2e1b8641ca99ab89ee1d784801",
            "0ee179d0c1014b24982d210781dc6dd5",
            "b676a8a65ab94569a2a049d27e262654",
            "d49344f6651f4300b229cd96a1561f66",
            "18415d897ee14fa89a813ed8a3f20296",
            "e841ba727a844239b442289f1c87c97d",
            "fb927a5b7374499ea7ccf1e80789ebf8",
            "54e3f06b24144a25a59704f232df7dde",
            "82352b3d98a142daafe742db92d45739",
            "550d92c1f0ee4cb39534c16230582b02",
            "e2789c03b68e447fa4bb0936f15b8ae1",
            "38ce1aa7a2694580b3325a456014d10d",
            "5a06624dfb16427484b7c133554f4912",
            "a5d34a79cd924119a803f83086e9c80e",
            "9656628c27554ce2877fbde10feb4b09",
            "7f74454b03604dde900b1b676e125899",
            "c8e8ac3271e7431e8278bdc1777743cf",
            "fcdf8b2352d04fd6aef9f12a367f957e",
            "5ad70835ca004e04a3414fb60f379821",
            "d5d49aff757a4898b259d9ea94b7ecd6",
            "cac031f24c2440aaaecb8d392dbb0d35",
            "149ed08694e248d9bbc5e4e64af4ed5f",
            "3c95a742cfe64a8e914345dc8dac42d8",
            "cf57851822aa496abe4627cba4693d0b",
            "adada6fbfc774040b3d93ffbc9df3acd",
            "4b7e62ac1767481e9801bb1cd49ca28f",
            "92b1151e044a4fc68b144fd142b8ac13",
            "44066f8c953c4af79df9aa68868286b5",
            "b395dced266f4df8b450f6036717f1f7",
            "4a13a2eb412344488623d890f07c431d",
            "944336f787df4ccf8c9920741ba158f9",
            "84528cc1c7664522a3a8503f209c0f67",
            "5be72d4fdde048abb72fb44bf8a961bb",
            "b13fd6fb8fc94a81bcbe9520bc94dfcc",
            "0fbcc994ee9b4702b79ffec358a22810",
            "971ec2a6ebcf41c18cf8aed92d34064d",
            "72d854747b5843b0bafccdd7a3c4f8d9",
            "58b141d6336e4291a04420f7cc3dcfa0",
            "64d461ab7f7840039c548cb16dacc231",
            "208b39de1a2b451c803d01e412c9e194",
            "e7a11c13f73d49f88b1a18c644b74969",
            "2fe8c50590cf427b80c2c1f2d5825eff",
            "8a62a64c06ab49f59ca3947189988ac1",
            "5206d3d53102409b8c3d3d3b47aeac70",
            "bd6987a760914c549dec9839e01eb1df",
            "4c392ef0e0f04a2da9f91b504f7bec99",
            "4ddb5bf135a145cbb0bf1685f2670944",
            "f29e7ef3224a49e39c790345e61adb0c",
            "4c2f454c9b984d45b120eba906eae0b9",
            "d4bfb28b259e4599b1f3ed07d1c08533",
            "474c00725bc0469eb2105933d03277fd",
            "3411224019a44a12bae5cf50596dd8bf",
            "f4b0c86139f24573b353ad5f7dfb0311",
            "ae52c595ae624392a94cd5a10ced6ee7",
            "527fe470f3e2455987586ac500984580",
            "f9f4f2eff72048ce9734e09902c6c8d7",
            "001dbc9c8404420eb4c297ca1b130d73",
            "975fc278e02b431d870e7eb0de55d6ae",
            "2aa6d77553b2421dba3dbe494f39bf7f",
            "40196f5644f14535bc47d5af84a4103e",
            "f9c2de55d0ba483bb9dfde0166a76e56",
            "d147604ca0b04e71b4fab58e8f3c460c",
            "835747616bce487fb329bc3258f4c8cf",
            "fe08ef155db144d696350b5bcbc61f44",
            "3a7dcf354366447d8f07907cecaf8777",
            "507ecbf3d7ad42ae9726f7076802db5e",
            "371ddc2ec28145bc9643fecb79b5a5d6",
            "d0f06a28cf6143f7b754253ad869c6a6",
            "16ddd54f7b624c1bb547bcf2577a077a",
            "53ebcc80ec224527ab5c3b05edf0b08f",
            "fdcb8b20c78d4026b893f29ac011bc13",
            "2121243a80e24eb385c52c15f6e83ae4",
            "b38ef7b3041d4462a15b48eb8ea27b17",
            "1c315db41d134ebaa41ada80dc938e2c",
            "cd7ab725c21a415480e04d395309b0dc",
            "88401c5353ea421aac32e25142ab3942",
            "c8c5811d5df64015954dba9007a338ec",
            "301ff877d92b405abeef3b790c84280a",
            "f93f32191cf54c6ba54b140ba779c872",
            "85b3cef486f343e68c69d54ef7cc45f8",
            "9c64f6e7025a4566b8761615f3ffdee2",
            "4eb57fcdf53648739043a7545f852529",
            "7474f659b83c4345a4558017c38d9ebe",
            "a23bdca3ae77477c96e447a900112d5b",
            "4c8e42043be84266bafe395a3af8c587",
            "35b5ef32dd91409e8d15bf1dcabd1b61",
            "8e751d6de21c4436a9c63d88fe718103",
            "df79476c35c7429995506704800ab8ae",
            "52c42a7b70dc4f249e3b8dda55e5a6ce",
            "a7b4a6fc9573418da4796e694540764f",
            "2b2dc8f538b64fa6bbdcfdd64722d984",
            "556621ef1765465b9f02fe0f0a450f14",
            "57ca9d9809bd4143ad2c212161d4f798",
            "603c6730477d449a925a2e534ad71a0f",
            "4d573e649d194084afb8e8900cea248d",
            "1bb57f412e224ed0a46a92e66466cf6a",
            "be23b9d966734d24812025eaef41c1fc",
            "da8d015227404f06a809522d228e3ffc",
            "ffe07a7e048c4213a6886f2b8e01e188",
            "c320392fc07b457a85ea6aa53672808f",
            "645a18d9ee11492ea64be706b6f7cbf0",
            "70aa98b86d5a405fb9d7fffc6787b55e",
            "269af3e44aab4772807d6ab5dc04015e",
            "4ae23d09508c4f08a396e1b2aa736f5e",
            "70ac144b6f1d478cba9a145cc3d86f11",
            "35bb1afb9e3c4b07a208182f105313e2",
            "a365d1823a56478c8b1c8a2e9b9782a9",
            "8b8d4c75246d47338d90059649f60303",
            "74acda74970c4dda980393c675aac4cc",
            "d6f607e9364f4893aa3f64b68e79b92d",
            "8b8d3d4b18304c6da1d8990afe51ca0e",
            "859fbea53bc54d22b5356adeb7419a40",
            "755f07c3d9ac4e548d3b0567284b2c87",
            "65c0421ad2094a16886be9d2ca533d98",
            "ed8f221108c4430a9d61fdc2edc95fd9",
            "2dccdffc711f473d81d83a9309a679d2",
            "5daef6dd73814620b3970926fab4de03",
            "d6e4af1829b54733b018ae6155b155df",
            "dd1fc11ded334ac386b9316be0814cf8",
            "6f06e7d5a5cb468699b1c8915459103c",
            "43521468a73e4fa7bb37f12d1216aaff",
            "9e5be23115844624b0007adec5133e5d",
            "061ad943a8974ffabc3ee04a2213a030",
            "ccd8d961c99c4ac8b9379da49d629c38",
            "601f95bb6a5e42b2a82b1af1336cb02d",
            "f64b8b0230224bd1b8d04e37c205076d",
            "8738ecebcbe842139b89f46bc658f4ea",
            "601d0919bd91412bb1b25c72aebcd459",
            "b3dfefdaf49744e999e288059406b2af",
            "627036655e38439e892c44db4371b508",
            "ce597eb8db4e4ab6aa5b6154780ffd94",
            "2edf702e69fa44ceb58b1957bd8913cb",
            "edbcad1d0f11495ab7ee0193af6f9d5b",
            "c945aec72b2541e88c08564c4364d8ff",
            "db42b5a3f02f4ff48cf59e8c06613886",
            "afddfb4454fe412f954ec922c804b706",
            "0d257d469bac4671a9614cc1c4049091",
            "73af828bdc7a4007987ea79a12a04bc0",
            "f5e7fe3b42ca410bb957afd355223f15",
            "0e1f411e7dff45d2904cabcc459d5b01",
            "bdf7e6ab09e343f8934a25b798d59ac3",
            "7ba895a5f6c240cf9876dc52566dbd39",
            "9774fe3ecca74d2bab93ce651b6e8a3e",
            "0e04cbd7c86344dead1dcd3ebe807cb2",
            "7a0c672bccaa4f94b3f6270d4e64ddbe",
            "08ccbfff2f2448a1bd8c39b19447ab75",
            "e7322554fdbf427dbfc435d333e98078",
            "bcf7e8e1df2441519c5beb90b14e19ea",
            "2e9e930fd90f4b3497f21040426bd8c7",
            "a3522c2378e94961bbf52997498fc89e",
            "1af87034452a4658a9e266d30c593b88",
            "b284df9ff9b9438c9bd295451cd05abe",
            "c446963d5e42441fb51a34980db3ba73",
            "15bc1174b10f40928fd18a53b4feb006",
            "f0a7a243008146ca8ad715615fc12cf3",
            "5eb6680f58d2432b9a6ef7db10fdc8c4",
            "48667c37174745aca5dcb148bfd61d02",
            "02f1d852db2542dfa2f1452681c6ad0a",
            "0650f200ed4b42e0962fa54199b9eecc",
            "1608722c4e1143a4a22bf50da975e8a2",
            "041ca61f710b4a0ab303cc2102b30efb",
            "2ec00898afc34b578a5c2fee71450c60",
            "62764fc98aa545cc9121a6a54a1ce6d9",
            "55d2ca59e3ae47bc88f74fae59e699a3",
            "529fbd53f3534a0d808d8e0f960859b9",
            "7a2945ce77d847fe9300bbcd6d85c3ab",
            "fac98aa66aa849dfb1af5131e7569cca",
            "2db0e9a9522546e4b548fd735d06fc1e",
            "99a7ea88a7d34652a82f7705c9feccc1",
            "6731fef49542447f8ebaadcd0930819d",
            "1f8956fcc0d14ea688a4402442d14abf",
            "ef7faa1a35b341c6862090927cb7091e",
            "d05f4c7626834423936bb5afab9210a1",
            "e8203dbe78b8481d9252247a7b5edd39",
            "130252abf37b4eea8958a223fcb03112",
            "4bb34c33f250419bb99238075c24b4cf",
            "db47b009f28e41328a5d822a8f64f9e2",
            "6933244a053649b3bf7b4ba9fe142881",
            "bbdec8db0d024ac59a2e6b8bda3ec574",
            "59ee1cb0b07440089c3c8a451e275623",
            "95da6543f5864eb2b64b05bfd4b6252b",
            "ff4974f6cdd94a39a93a14462fee06ad",
            "e463ad25d64f488fae9acabb991212c0",
            "cc425fa47fbd44e291edd313d9716e5e",
            "399a01c872cb427283fdaf5c488f6110",
            "2c76295548904e0aafcffa5178cf6a51",
            "4b1df7ea1bbe469fba35118ca2e02111",
            "76cb3b3f5e424665b54dcb4446312dd7",
            "9d4e278a243c4ef481eda45d82ab22f8",
            "fb447e3ea33c4724ad602c6f565e3968",
            "2d2e8c6da25b4dceac8e4d217fe4bf19",
            "b564027135dc4d8a8fecde270a1dbbc1",
            "11a5fad12d2a42879c9be7ed53e29d55",
            "d31c295a59e94b588f1f5225d7d7d28d",
            "8705cc301f274beebe70d1203bfbe4c2"
          ]
        },
        "id": "Tznw8S1ozHYF",
        "outputId": "2debdf4c-758e-411b-f0c3-d073db9dd310"
      },
      "execution_count": null,
      "outputs": [
        {
          "output_type": "stream",
          "name": "stdout",
          "text": [
            "\n",
            "Для num_iters = 5\n",
            "\n",
            "dim = 32\n"
          ]
        },
        {
          "output_type": "display_data",
          "data": {
            "text/plain": [
              "  0%|          | 0/5 [00:00<?, ?it/s]"
            ],
            "application/vnd.jupyter.widget-view+json": {
              "version_major": 2,
              "version_minor": 0,
              "model_id": "964b69c8f8c4469081cb406d3dbe47d3"
            }
          },
          "metadata": {}
        },
        {
          "output_type": "stream",
          "name": "stdout",
          "text": [
            "\n",
            "dim = 64\n"
          ]
        },
        {
          "output_type": "display_data",
          "data": {
            "text/plain": [
              "  0%|          | 0/5 [00:00<?, ?it/s]"
            ],
            "application/vnd.jupyter.widget-view+json": {
              "version_major": 2,
              "version_minor": 0,
              "model_id": "203b8350397a42c0b92a78b2e09510bd"
            }
          },
          "metadata": {}
        },
        {
          "output_type": "stream",
          "name": "stdout",
          "text": [
            "\n",
            "dim = 96\n"
          ]
        },
        {
          "output_type": "display_data",
          "data": {
            "text/plain": [
              "  0%|          | 0/5 [00:00<?, ?it/s]"
            ],
            "application/vnd.jupyter.widget-view+json": {
              "version_major": 2,
              "version_minor": 0,
              "model_id": "22990c9e70784f49a7c322311b8999d7"
            }
          },
          "metadata": {}
        },
        {
          "output_type": "stream",
          "name": "stdout",
          "text": [
            "\n",
            "dim = 128\n"
          ]
        },
        {
          "output_type": "display_data",
          "data": {
            "text/plain": [
              "  0%|          | 0/5 [00:00<?, ?it/s]"
            ],
            "application/vnd.jupyter.widget-view+json": {
              "version_major": 2,
              "version_minor": 0,
              "model_id": "0dbe727511aa4dca9164f6aa74e2f6b7"
            }
          },
          "metadata": {}
        },
        {
          "output_type": "stream",
          "name": "stdout",
          "text": [
            "\n",
            "dim = 192\n"
          ]
        },
        {
          "output_type": "display_data",
          "data": {
            "text/plain": [
              "  0%|          | 0/5 [00:00<?, ?it/s]"
            ],
            "application/vnd.jupyter.widget-view+json": {
              "version_major": 2,
              "version_minor": 0,
              "model_id": "b9905466e5354b04aa773d77ec65fa81"
            }
          },
          "metadata": {}
        },
        {
          "output_type": "stream",
          "name": "stdout",
          "text": [
            "\n",
            "dim = 256\n"
          ]
        },
        {
          "output_type": "display_data",
          "data": {
            "text/plain": [
              "  0%|          | 0/5 [00:00<?, ?it/s]"
            ],
            "application/vnd.jupyter.widget-view+json": {
              "version_major": 2,
              "version_minor": 0,
              "model_id": "fead193145d04c84a352a0cf811edce9"
            }
          },
          "metadata": {}
        },
        {
          "output_type": "stream",
          "name": "stdout",
          "text": [
            "\n",
            "Наивысший map@k для данного num_iters: 0.0010638297872340426\n",
            "\n",
            "Для num_iters = 15\n",
            "\n",
            "dim = 32\n"
          ]
        },
        {
          "output_type": "display_data",
          "data": {
            "text/plain": [
              "  0%|          | 0/15 [00:00<?, ?it/s]"
            ],
            "application/vnd.jupyter.widget-view+json": {
              "version_major": 2,
              "version_minor": 0,
              "model_id": "2d06361b66de4aa4b59330d3b0196bdf"
            }
          },
          "metadata": {}
        },
        {
          "output_type": "stream",
          "name": "stdout",
          "text": [
            "\n",
            "dim = 64\n"
          ]
        },
        {
          "output_type": "display_data",
          "data": {
            "text/plain": [
              "  0%|          | 0/15 [00:00<?, ?it/s]"
            ],
            "application/vnd.jupyter.widget-view+json": {
              "version_major": 2,
              "version_minor": 0,
              "model_id": "bec500f61e20416686dd2bc386eec95f"
            }
          },
          "metadata": {}
        },
        {
          "output_type": "stream",
          "name": "stdout",
          "text": [
            "\n",
            "dim = 96\n"
          ]
        },
        {
          "output_type": "display_data",
          "data": {
            "text/plain": [
              "  0%|          | 0/15 [00:00<?, ?it/s]"
            ],
            "application/vnd.jupyter.widget-view+json": {
              "version_major": 2,
              "version_minor": 0,
              "model_id": "eb61494d4a034622b978cc460d15f57f"
            }
          },
          "metadata": {}
        },
        {
          "output_type": "stream",
          "name": "stdout",
          "text": [
            "\n",
            "dim = 128\n"
          ]
        },
        {
          "output_type": "display_data",
          "data": {
            "text/plain": [
              "  0%|          | 0/15 [00:00<?, ?it/s]"
            ],
            "application/vnd.jupyter.widget-view+json": {
              "version_major": 2,
              "version_minor": 0,
              "model_id": "b25709169bb34f2eb19d7d2bb143e2df"
            }
          },
          "metadata": {}
        },
        {
          "output_type": "stream",
          "name": "stdout",
          "text": [
            "\n",
            "dim = 192\n"
          ]
        },
        {
          "output_type": "display_data",
          "data": {
            "text/plain": [
              "  0%|          | 0/15 [00:00<?, ?it/s]"
            ],
            "application/vnd.jupyter.widget-view+json": {
              "version_major": 2,
              "version_minor": 0,
              "model_id": "00606bae4a34435bbe8157362db3110a"
            }
          },
          "metadata": {}
        },
        {
          "output_type": "stream",
          "name": "stdout",
          "text": [
            "\n",
            "dim = 256\n"
          ]
        },
        {
          "output_type": "display_data",
          "data": {
            "text/plain": [
              "  0%|          | 0/15 [00:00<?, ?it/s]"
            ],
            "application/vnd.jupyter.widget-view+json": {
              "version_major": 2,
              "version_minor": 0,
              "model_id": "0b3c6becaa524afbb1d9e7bfcaa4fa3e"
            }
          },
          "metadata": {}
        },
        {
          "output_type": "stream",
          "name": "stdout",
          "text": [
            "\n",
            "Наивысший map@k для данного num_iters: 0.0010638297872340426\n",
            "\n",
            "Для num_iters = 25\n",
            "\n",
            "dim = 32\n"
          ]
        },
        {
          "output_type": "display_data",
          "data": {
            "text/plain": [
              "  0%|          | 0/25 [00:00<?, ?it/s]"
            ],
            "application/vnd.jupyter.widget-view+json": {
              "version_major": 2,
              "version_minor": 0,
              "model_id": "72bb78c6b7f447de9ce7e8d014d08076"
            }
          },
          "metadata": {}
        },
        {
          "output_type": "stream",
          "name": "stdout",
          "text": [
            "\n",
            "dim = 64\n"
          ]
        },
        {
          "output_type": "display_data",
          "data": {
            "text/plain": [
              "  0%|          | 0/25 [00:00<?, ?it/s]"
            ],
            "application/vnd.jupyter.widget-view+json": {
              "version_major": 2,
              "version_minor": 0,
              "model_id": "29bc9a04b80040beacdbfa729b04cbe1"
            }
          },
          "metadata": {}
        },
        {
          "output_type": "stream",
          "name": "stdout",
          "text": [
            "\n",
            "dim = 96\n"
          ]
        },
        {
          "output_type": "display_data",
          "data": {
            "text/plain": [
              "  0%|          | 0/25 [00:00<?, ?it/s]"
            ],
            "application/vnd.jupyter.widget-view+json": {
              "version_major": 2,
              "version_minor": 0,
              "model_id": "53de89d44cdc4771be31de8005fe3322"
            }
          },
          "metadata": {}
        },
        {
          "output_type": "stream",
          "name": "stdout",
          "text": [
            "\n",
            "dim = 128\n"
          ]
        },
        {
          "output_type": "display_data",
          "data": {
            "text/plain": [
              "  0%|          | 0/25 [00:00<?, ?it/s]"
            ],
            "application/vnd.jupyter.widget-view+json": {
              "version_major": 2,
              "version_minor": 0,
              "model_id": "34c552fa734c4eea8b8304d368b7b827"
            }
          },
          "metadata": {}
        },
        {
          "output_type": "stream",
          "name": "stdout",
          "text": [
            "\n",
            "dim = 192\n"
          ]
        },
        {
          "output_type": "display_data",
          "data": {
            "text/plain": [
              "  0%|          | 0/25 [00:00<?, ?it/s]"
            ],
            "application/vnd.jupyter.widget-view+json": {
              "version_major": 2,
              "version_minor": 0,
              "model_id": "bba761441e5b4761aa7cc0895636caaa"
            }
          },
          "metadata": {}
        },
        {
          "output_type": "stream",
          "name": "stdout",
          "text": [
            "\n",
            "dim = 256\n"
          ]
        },
        {
          "output_type": "display_data",
          "data": {
            "text/plain": [
              "  0%|          | 0/25 [00:00<?, ?it/s]"
            ],
            "application/vnd.jupyter.widget-view+json": {
              "version_major": 2,
              "version_minor": 0,
              "model_id": "f0b4f8f246544a2085c94df5f084a552"
            }
          },
          "metadata": {}
        },
        {
          "output_type": "stream",
          "name": "stdout",
          "text": [
            "\n",
            "Наивысший map@k для данного num_iters: 0.00047281323877068556\n",
            "\n",
            "Для num_iters = 35\n",
            "\n",
            "dim = 32\n"
          ]
        },
        {
          "output_type": "display_data",
          "data": {
            "text/plain": [
              "  0%|          | 0/35 [00:00<?, ?it/s]"
            ],
            "application/vnd.jupyter.widget-view+json": {
              "version_major": 2,
              "version_minor": 0,
              "model_id": "7f9bf7443cc44d8dbb685970a198ef40"
            }
          },
          "metadata": {}
        },
        {
          "output_type": "stream",
          "name": "stdout",
          "text": [
            "\n",
            "dim = 64\n"
          ]
        },
        {
          "output_type": "display_data",
          "data": {
            "text/plain": [
              "  0%|          | 0/35 [00:00<?, ?it/s]"
            ],
            "application/vnd.jupyter.widget-view+json": {
              "version_major": 2,
              "version_minor": 0,
              "model_id": "8a6d560a8dd94ea1bdaa1436553bc592"
            }
          },
          "metadata": {}
        },
        {
          "output_type": "stream",
          "name": "stdout",
          "text": [
            "\n",
            "dim = 96\n"
          ]
        },
        {
          "output_type": "display_data",
          "data": {
            "text/plain": [
              "  0%|          | 0/35 [00:00<?, ?it/s]"
            ],
            "application/vnd.jupyter.widget-view+json": {
              "version_major": 2,
              "version_minor": 0,
              "model_id": "9d03ea69601444e29bfe81fefd9dd130"
            }
          },
          "metadata": {}
        },
        {
          "output_type": "stream",
          "name": "stdout",
          "text": [
            "\n",
            "dim = 128\n"
          ]
        },
        {
          "output_type": "display_data",
          "data": {
            "text/plain": [
              "  0%|          | 0/35 [00:00<?, ?it/s]"
            ],
            "application/vnd.jupyter.widget-view+json": {
              "version_major": 2,
              "version_minor": 0,
              "model_id": "6a6e9e4d8e924ce280b6129520e4b2c4"
            }
          },
          "metadata": {}
        },
        {
          "output_type": "stream",
          "name": "stdout",
          "text": [
            "\n",
            "dim = 192\n"
          ]
        },
        {
          "output_type": "display_data",
          "data": {
            "text/plain": [
              "  0%|          | 0/35 [00:00<?, ?it/s]"
            ],
            "application/vnd.jupyter.widget-view+json": {
              "version_major": 2,
              "version_minor": 0,
              "model_id": "cc549f0255b74a71a26fedfe2d4c182b"
            }
          },
          "metadata": {}
        },
        {
          "output_type": "stream",
          "name": "stdout",
          "text": [
            "\n",
            "dim = 256\n"
          ]
        },
        {
          "output_type": "display_data",
          "data": {
            "text/plain": [
              "  0%|          | 0/35 [00:00<?, ?it/s]"
            ],
            "application/vnd.jupyter.widget-view+json": {
              "version_major": 2,
              "version_minor": 0,
              "model_id": "eac88eaaa3134279b9a5a26983e584c6"
            }
          },
          "metadata": {}
        },
        {
          "output_type": "stream",
          "name": "stdout",
          "text": [
            "\n",
            "Наивысший map@k для данного num_iters: 0.0003375126646403242\n",
            "\n",
            "Для num_iters = 45\n",
            "\n",
            "dim = 32\n"
          ]
        },
        {
          "output_type": "display_data",
          "data": {
            "text/plain": [
              "  0%|          | 0/45 [00:00<?, ?it/s]"
            ],
            "application/vnd.jupyter.widget-view+json": {
              "version_major": 2,
              "version_minor": 0,
              "model_id": "a7e43b8729f544dca6cbcbbee2b158bf"
            }
          },
          "metadata": {}
        },
        {
          "output_type": "stream",
          "name": "stdout",
          "text": [
            "\n",
            "dim = 64\n"
          ]
        },
        {
          "output_type": "display_data",
          "data": {
            "text/plain": [
              "  0%|          | 0/45 [00:00<?, ?it/s]"
            ],
            "application/vnd.jupyter.widget-view+json": {
              "version_major": 2,
              "version_minor": 0,
              "model_id": "0f9b1a84faa5421e9e7372ccb4a8b7d1"
            }
          },
          "metadata": {}
        },
        {
          "output_type": "stream",
          "name": "stdout",
          "text": [
            "\n",
            "dim = 96\n"
          ]
        },
        {
          "output_type": "display_data",
          "data": {
            "text/plain": [
              "  0%|          | 0/45 [00:00<?, ?it/s]"
            ],
            "application/vnd.jupyter.widget-view+json": {
              "version_major": 2,
              "version_minor": 0,
              "model_id": "5c8541d9d6364ba2bd17eb1ecd8cce9b"
            }
          },
          "metadata": {}
        },
        {
          "output_type": "stream",
          "name": "stdout",
          "text": [
            "\n",
            "dim = 128\n"
          ]
        },
        {
          "output_type": "display_data",
          "data": {
            "text/plain": [
              "  0%|          | 0/45 [00:00<?, ?it/s]"
            ],
            "application/vnd.jupyter.widget-view+json": {
              "version_major": 2,
              "version_minor": 0,
              "model_id": "bf32eb92173049d7be5348c3b4eda3d2"
            }
          },
          "metadata": {}
        },
        {
          "output_type": "stream",
          "name": "stdout",
          "text": [
            "\n",
            "dim = 192\n"
          ]
        },
        {
          "output_type": "display_data",
          "data": {
            "text/plain": [
              "  0%|          | 0/45 [00:00<?, ?it/s]"
            ],
            "application/vnd.jupyter.widget-view+json": {
              "version_major": 2,
              "version_minor": 0,
              "model_id": "d23ac347efb34d0ca298546e44fcdc1d"
            }
          },
          "metadata": {}
        },
        {
          "output_type": "stream",
          "name": "stdout",
          "text": [
            "\n",
            "dim = 256\n"
          ]
        },
        {
          "output_type": "display_data",
          "data": {
            "text/plain": [
              "  0%|          | 0/45 [00:00<?, ?it/s]"
            ],
            "application/vnd.jupyter.widget-view+json": {
              "version_major": 2,
              "version_minor": 0,
              "model_id": "31f93504fbcf43f38b893253c673919f"
            }
          },
          "metadata": {}
        },
        {
          "output_type": "stream",
          "name": "stdout",
          "text": [
            "\n",
            "Наивысший map@k для данного num_iters: 0.00047281323877068556\n",
            "\n",
            "Для num_iters = 55\n",
            "\n",
            "dim = 32\n"
          ]
        },
        {
          "output_type": "display_data",
          "data": {
            "text/plain": [
              "  0%|          | 0/55 [00:00<?, ?it/s]"
            ],
            "application/vnd.jupyter.widget-view+json": {
              "version_major": 2,
              "version_minor": 0,
              "model_id": "5dcf350c6cb94a6ba375ae5e24b39618"
            }
          },
          "metadata": {}
        },
        {
          "output_type": "stream",
          "name": "stdout",
          "text": [
            "\n",
            "dim = 64\n"
          ]
        },
        {
          "output_type": "display_data",
          "data": {
            "text/plain": [
              "  0%|          | 0/55 [00:00<?, ?it/s]"
            ],
            "application/vnd.jupyter.widget-view+json": {
              "version_major": 2,
              "version_minor": 0,
              "model_id": "672e0a48198240f0bdfcd365a2566b62"
            }
          },
          "metadata": {}
        },
        {
          "output_type": "stream",
          "name": "stdout",
          "text": [
            "\n",
            "dim = 96\n"
          ]
        },
        {
          "output_type": "display_data",
          "data": {
            "text/plain": [
              "  0%|          | 0/55 [00:00<?, ?it/s]"
            ],
            "application/vnd.jupyter.widget-view+json": {
              "version_major": 2,
              "version_minor": 0,
              "model_id": "435ea7620bd34ff38349df849e8b1e14"
            }
          },
          "metadata": {}
        },
        {
          "output_type": "stream",
          "name": "stdout",
          "text": [
            "\n",
            "dim = 128\n"
          ]
        },
        {
          "output_type": "display_data",
          "data": {
            "text/plain": [
              "  0%|          | 0/55 [00:00<?, ?it/s]"
            ],
            "application/vnd.jupyter.widget-view+json": {
              "version_major": 2,
              "version_minor": 0,
              "model_id": "afca4d8543724efe90a24aee569b6d91"
            }
          },
          "metadata": {}
        },
        {
          "output_type": "stream",
          "name": "stdout",
          "text": [
            "\n",
            "dim = 192\n"
          ]
        },
        {
          "output_type": "display_data",
          "data": {
            "text/plain": [
              "  0%|          | 0/55 [00:00<?, ?it/s]"
            ],
            "application/vnd.jupyter.widget-view+json": {
              "version_major": 2,
              "version_minor": 0,
              "model_id": "2ad02565f7b148fc965386ffdbe005a4"
            }
          },
          "metadata": {}
        },
        {
          "output_type": "stream",
          "name": "stdout",
          "text": [
            "\n",
            "dim = 256\n"
          ]
        },
        {
          "output_type": "display_data",
          "data": {
            "text/plain": [
              "  0%|          | 0/55 [00:00<?, ?it/s]"
            ],
            "application/vnd.jupyter.widget-view+json": {
              "version_major": 2,
              "version_minor": 0,
              "model_id": "abbd94c82ec3444796ba9d6722cdf937"
            }
          },
          "metadata": {}
        },
        {
          "output_type": "stream",
          "name": "stdout",
          "text": [
            "\n",
            "Наивысший map@k для данного num_iters: 0.00047281323877068556\n",
            "\n",
            "Для num_iters = 65\n",
            "\n",
            "dim = 32\n"
          ]
        },
        {
          "output_type": "display_data",
          "data": {
            "text/plain": [
              "  0%|          | 0/65 [00:00<?, ?it/s]"
            ],
            "application/vnd.jupyter.widget-view+json": {
              "version_major": 2,
              "version_minor": 0,
              "model_id": "f3af547aae56425b9a86cc9f2479ccf0"
            }
          },
          "metadata": {}
        },
        {
          "output_type": "stream",
          "name": "stdout",
          "text": [
            "\n",
            "dim = 64\n"
          ]
        },
        {
          "output_type": "display_data",
          "data": {
            "text/plain": [
              "  0%|          | 0/65 [00:00<?, ?it/s]"
            ],
            "application/vnd.jupyter.widget-view+json": {
              "version_major": 2,
              "version_minor": 0,
              "model_id": "c26353fe4825426f8cfeeae475e412e3"
            }
          },
          "metadata": {}
        },
        {
          "output_type": "stream",
          "name": "stdout",
          "text": [
            "\n",
            "dim = 96\n"
          ]
        },
        {
          "output_type": "display_data",
          "data": {
            "text/plain": [
              "  0%|          | 0/65 [00:00<?, ?it/s]"
            ],
            "application/vnd.jupyter.widget-view+json": {
              "version_major": 2,
              "version_minor": 0,
              "model_id": "510bc56487814eb1a1610d8f4fe5ec98"
            }
          },
          "metadata": {}
        },
        {
          "output_type": "stream",
          "name": "stdout",
          "text": [
            "\n",
            "dim = 128\n"
          ]
        },
        {
          "output_type": "display_data",
          "data": {
            "text/plain": [
              "  0%|          | 0/65 [00:00<?, ?it/s]"
            ],
            "application/vnd.jupyter.widget-view+json": {
              "version_major": 2,
              "version_minor": 0,
              "model_id": "f074441bc7b643dfb6124c8e6f9b1907"
            }
          },
          "metadata": {}
        },
        {
          "output_type": "stream",
          "name": "stdout",
          "text": [
            "\n",
            "dim = 192\n"
          ]
        },
        {
          "output_type": "display_data",
          "data": {
            "text/plain": [
              "  0%|          | 0/65 [00:00<?, ?it/s]"
            ],
            "application/vnd.jupyter.widget-view+json": {
              "version_major": 2,
              "version_minor": 0,
              "model_id": "bcd3fcf419294e2bb3c4424b31c11f8a"
            }
          },
          "metadata": {}
        },
        {
          "output_type": "stream",
          "name": "stdout",
          "text": [
            "\n",
            "dim = 256\n"
          ]
        },
        {
          "output_type": "display_data",
          "data": {
            "text/plain": [
              "  0%|          | 0/65 [00:00<?, ?it/s]"
            ],
            "application/vnd.jupyter.widget-view+json": {
              "version_major": 2,
              "version_minor": 0,
              "model_id": "1cff584ecbae4014a845b7a8af32be01"
            }
          },
          "metadata": {}
        },
        {
          "output_type": "stream",
          "name": "stdout",
          "text": [
            "\n",
            "Наивысший map@k для данного num_iters: 0.00017021276595744682\n",
            "\n",
            "Для num_iters = 75\n",
            "\n",
            "dim = 32\n"
          ]
        },
        {
          "output_type": "display_data",
          "data": {
            "text/plain": [
              "  0%|          | 0/75 [00:00<?, ?it/s]"
            ],
            "application/vnd.jupyter.widget-view+json": {
              "version_major": 2,
              "version_minor": 0,
              "model_id": "4ba6dcf3dc8d40258886069381e92cb3"
            }
          },
          "metadata": {}
        },
        {
          "output_type": "stream",
          "name": "stdout",
          "text": [
            "\n",
            "dim = 64\n"
          ]
        },
        {
          "output_type": "display_data",
          "data": {
            "text/plain": [
              "  0%|          | 0/75 [00:00<?, ?it/s]"
            ],
            "application/vnd.jupyter.widget-view+json": {
              "version_major": 2,
              "version_minor": 0,
              "model_id": "0c7fc989e72345a8b8bfc75e62018eb0"
            }
          },
          "metadata": {}
        },
        {
          "output_type": "stream",
          "name": "stdout",
          "text": [
            "\n",
            "dim = 96\n"
          ]
        },
        {
          "output_type": "display_data",
          "data": {
            "text/plain": [
              "  0%|          | 0/75 [00:00<?, ?it/s]"
            ],
            "application/vnd.jupyter.widget-view+json": {
              "version_major": 2,
              "version_minor": 0,
              "model_id": "ce0d79a557d24a15926214667ef34854"
            }
          },
          "metadata": {}
        },
        {
          "output_type": "stream",
          "name": "stdout",
          "text": [
            "\n",
            "dim = 128\n"
          ]
        },
        {
          "output_type": "display_data",
          "data": {
            "text/plain": [
              "  0%|          | 0/75 [00:00<?, ?it/s]"
            ],
            "application/vnd.jupyter.widget-view+json": {
              "version_major": 2,
              "version_minor": 0,
              "model_id": "935ddccc86a84cb28361b5750bc60caa"
            }
          },
          "metadata": {}
        },
        {
          "output_type": "stream",
          "name": "stdout",
          "text": [
            "\n",
            "dim = 192\n"
          ]
        },
        {
          "output_type": "display_data",
          "data": {
            "text/plain": [
              "  0%|          | 0/75 [00:00<?, ?it/s]"
            ],
            "application/vnd.jupyter.widget-view+json": {
              "version_major": 2,
              "version_minor": 0,
              "model_id": "a9abc51f32bf4a29b1c2f3720b205b62"
            }
          },
          "metadata": {}
        },
        {
          "output_type": "stream",
          "name": "stdout",
          "text": [
            "\n",
            "dim = 256\n"
          ]
        },
        {
          "output_type": "display_data",
          "data": {
            "text/plain": [
              "  0%|          | 0/75 [00:00<?, ?it/s]"
            ],
            "application/vnd.jupyter.widget-view+json": {
              "version_major": 2,
              "version_minor": 0,
              "model_id": "c8186c7b907e48d5918a312d8e3bb772"
            }
          },
          "metadata": {}
        },
        {
          "output_type": "stream",
          "name": "stdout",
          "text": [
            "\n",
            "Наивысший map@k для данного num_iters: 0.00047281323877068556\n",
            "\n",
            "Для num_iters = 85\n",
            "\n",
            "dim = 32\n"
          ]
        },
        {
          "output_type": "display_data",
          "data": {
            "text/plain": [
              "  0%|          | 0/85 [00:00<?, ?it/s]"
            ],
            "application/vnd.jupyter.widget-view+json": {
              "version_major": 2,
              "version_minor": 0,
              "model_id": "b9bbfd4f79764dae82b09b9d5e82c21a"
            }
          },
          "metadata": {}
        },
        {
          "output_type": "stream",
          "name": "stdout",
          "text": [
            "\n",
            "dim = 64\n"
          ]
        },
        {
          "output_type": "display_data",
          "data": {
            "text/plain": [
              "  0%|          | 0/85 [00:00<?, ?it/s]"
            ],
            "application/vnd.jupyter.widget-view+json": {
              "version_major": 2,
              "version_minor": 0,
              "model_id": "3add2203067047978914976199fbb560"
            }
          },
          "metadata": {}
        },
        {
          "output_type": "stream",
          "name": "stdout",
          "text": [
            "\n",
            "dim = 96\n"
          ]
        },
        {
          "output_type": "display_data",
          "data": {
            "text/plain": [
              "  0%|          | 0/85 [00:00<?, ?it/s]"
            ],
            "application/vnd.jupyter.widget-view+json": {
              "version_major": 2,
              "version_minor": 0,
              "model_id": "efe5e4207adb43e38392132eef58c90c"
            }
          },
          "metadata": {}
        },
        {
          "output_type": "stream",
          "name": "stdout",
          "text": [
            "\n",
            "dim = 128\n"
          ]
        },
        {
          "output_type": "display_data",
          "data": {
            "text/plain": [
              "  0%|          | 0/85 [00:00<?, ?it/s]"
            ],
            "application/vnd.jupyter.widget-view+json": {
              "version_major": 2,
              "version_minor": 0,
              "model_id": "d63754d6022f4d94a62d379febee7efd"
            }
          },
          "metadata": {}
        },
        {
          "output_type": "stream",
          "name": "stdout",
          "text": [
            "\n",
            "dim = 192\n"
          ]
        },
        {
          "output_type": "display_data",
          "data": {
            "text/plain": [
              "  0%|          | 0/85 [00:00<?, ?it/s]"
            ],
            "application/vnd.jupyter.widget-view+json": {
              "version_major": 2,
              "version_minor": 0,
              "model_id": "26245244260542b685fa255c7a49b3b3"
            }
          },
          "metadata": {}
        },
        {
          "output_type": "stream",
          "name": "stdout",
          "text": [
            "\n",
            "dim = 256\n"
          ]
        },
        {
          "output_type": "display_data",
          "data": {
            "text/plain": [
              "  0%|          | 0/85 [00:00<?, ?it/s]"
            ],
            "application/vnd.jupyter.widget-view+json": {
              "version_major": 2,
              "version_minor": 0,
              "model_id": "6f11993f4dcb4aa0bdcdc89d174110c4"
            }
          },
          "metadata": {}
        },
        {
          "output_type": "stream",
          "name": "stdout",
          "text": [
            "\n",
            "Наивысший map@k для данного num_iters: 0.00017021276595744682\n",
            "\n",
            "Для num_iters = 95\n",
            "\n",
            "dim = 32\n"
          ]
        },
        {
          "output_type": "display_data",
          "data": {
            "text/plain": [
              "  0%|          | 0/95 [00:00<?, ?it/s]"
            ],
            "application/vnd.jupyter.widget-view+json": {
              "version_major": 2,
              "version_minor": 0,
              "model_id": "4cdc3a0d67ba4c43a699d64fd7ed18c6"
            }
          },
          "metadata": {}
        },
        {
          "output_type": "stream",
          "name": "stdout",
          "text": [
            "\n",
            "dim = 64\n"
          ]
        },
        {
          "output_type": "display_data",
          "data": {
            "text/plain": [
              "  0%|          | 0/95 [00:00<?, ?it/s]"
            ],
            "application/vnd.jupyter.widget-view+json": {
              "version_major": 2,
              "version_minor": 0,
              "model_id": "805d752fb5294c639f77dd371e4afa1a"
            }
          },
          "metadata": {}
        },
        {
          "output_type": "stream",
          "name": "stdout",
          "text": [
            "\n",
            "dim = 96\n"
          ]
        },
        {
          "output_type": "display_data",
          "data": {
            "text/plain": [
              "  0%|          | 0/95 [00:00<?, ?it/s]"
            ],
            "application/vnd.jupyter.widget-view+json": {
              "version_major": 2,
              "version_minor": 0,
              "model_id": "f8fb0d8d7f114aca921eef91e879e839"
            }
          },
          "metadata": {}
        },
        {
          "output_type": "stream",
          "name": "stdout",
          "text": [
            "\n",
            "dim = 128\n"
          ]
        },
        {
          "output_type": "display_data",
          "data": {
            "text/plain": [
              "  0%|          | 0/95 [00:00<?, ?it/s]"
            ],
            "application/vnd.jupyter.widget-view+json": {
              "version_major": 2,
              "version_minor": 0,
              "model_id": "d4b03835ecfc42d6bd0ddfff6b31986f"
            }
          },
          "metadata": {}
        },
        {
          "output_type": "stream",
          "name": "stdout",
          "text": [
            "\n",
            "dim = 192\n"
          ]
        },
        {
          "output_type": "display_data",
          "data": {
            "text/plain": [
              "  0%|          | 0/95 [00:00<?, ?it/s]"
            ],
            "application/vnd.jupyter.widget-view+json": {
              "version_major": 2,
              "version_minor": 0,
              "model_id": "740504853b4a4f608db5e68aa04fb581"
            }
          },
          "metadata": {}
        },
        {
          "output_type": "stream",
          "name": "stdout",
          "text": [
            "\n",
            "dim = 256\n"
          ]
        },
        {
          "output_type": "display_data",
          "data": {
            "text/plain": [
              "  0%|          | 0/95 [00:00<?, ?it/s]"
            ],
            "application/vnd.jupyter.widget-view+json": {
              "version_major": 2,
              "version_minor": 0,
              "model_id": "4dfb7b30c65d4a6f8dfbe1e1646416ba"
            }
          },
          "metadata": {}
        },
        {
          "output_type": "stream",
          "name": "stdout",
          "text": [
            "\n",
            "Наивысший map@k для данного num_iters: 0.00047281323877068556\n",
            "\n",
            "Для num_iters = 105\n",
            "\n",
            "dim = 32\n"
          ]
        },
        {
          "output_type": "display_data",
          "data": {
            "text/plain": [
              "  0%|          | 0/105 [00:00<?, ?it/s]"
            ],
            "application/vnd.jupyter.widget-view+json": {
              "version_major": 2,
              "version_minor": 0,
              "model_id": "5eb20514eb694915b9bf6072801c1c57"
            }
          },
          "metadata": {}
        },
        {
          "output_type": "stream",
          "name": "stdout",
          "text": [
            "\n",
            "dim = 64\n"
          ]
        },
        {
          "output_type": "display_data",
          "data": {
            "text/plain": [
              "  0%|          | 0/105 [00:00<?, ?it/s]"
            ],
            "application/vnd.jupyter.widget-view+json": {
              "version_major": 2,
              "version_minor": 0,
              "model_id": "52eeb4d79fd6476397b2098d6ca9fb59"
            }
          },
          "metadata": {}
        },
        {
          "output_type": "stream",
          "name": "stdout",
          "text": [
            "\n",
            "dim = 96\n"
          ]
        },
        {
          "output_type": "display_data",
          "data": {
            "text/plain": [
              "  0%|          | 0/105 [00:00<?, ?it/s]"
            ],
            "application/vnd.jupyter.widget-view+json": {
              "version_major": 2,
              "version_minor": 0,
              "model_id": "73085b732f314bd89799cac89fec2a33"
            }
          },
          "metadata": {}
        },
        {
          "output_type": "stream",
          "name": "stdout",
          "text": [
            "\n",
            "dim = 128\n"
          ]
        },
        {
          "output_type": "display_data",
          "data": {
            "text/plain": [
              "  0%|          | 0/105 [00:00<?, ?it/s]"
            ],
            "application/vnd.jupyter.widget-view+json": {
              "version_major": 2,
              "version_minor": 0,
              "model_id": "49feff55eba34021a0209c0e44c0fcaf"
            }
          },
          "metadata": {}
        },
        {
          "output_type": "stream",
          "name": "stdout",
          "text": [
            "\n",
            "dim = 192\n"
          ]
        },
        {
          "output_type": "display_data",
          "data": {
            "text/plain": [
              "  0%|          | 0/105 [00:00<?, ?it/s]"
            ],
            "application/vnd.jupyter.widget-view+json": {
              "version_major": 2,
              "version_minor": 0,
              "model_id": "5464c653909145239a342c785b7664e4"
            }
          },
          "metadata": {}
        },
        {
          "output_type": "stream",
          "name": "stdout",
          "text": [
            "\n",
            "dim = 256\n"
          ]
        },
        {
          "output_type": "display_data",
          "data": {
            "text/plain": [
              "  0%|          | 0/105 [00:00<?, ?it/s]"
            ],
            "application/vnd.jupyter.widget-view+json": {
              "version_major": 2,
              "version_minor": 0,
              "model_id": "7070d11767144e908c0aded44a9dc191"
            }
          },
          "metadata": {}
        },
        {
          "output_type": "stream",
          "name": "stdout",
          "text": [
            "\n",
            "Наивысший map@k для данного num_iters: 0.00425531914893617\n",
            "\n",
            "Для num_iters = 115\n",
            "\n",
            "dim = 32\n"
          ]
        },
        {
          "output_type": "display_data",
          "data": {
            "text/plain": [
              "  0%|          | 0/115 [00:00<?, ?it/s]"
            ],
            "application/vnd.jupyter.widget-view+json": {
              "version_major": 2,
              "version_minor": 0,
              "model_id": "4996788a416a471f9deb81e9ceb93a41"
            }
          },
          "metadata": {}
        },
        {
          "output_type": "stream",
          "name": "stdout",
          "text": [
            "\n",
            "dim = 64\n"
          ]
        },
        {
          "output_type": "display_data",
          "data": {
            "text/plain": [
              "  0%|          | 0/115 [00:00<?, ?it/s]"
            ],
            "application/vnd.jupyter.widget-view+json": {
              "version_major": 2,
              "version_minor": 0,
              "model_id": "8b8186edbd2345ccbfcfff99bb6b619c"
            }
          },
          "metadata": {}
        },
        {
          "output_type": "stream",
          "name": "stdout",
          "text": [
            "\n",
            "dim = 96\n"
          ]
        },
        {
          "output_type": "display_data",
          "data": {
            "text/plain": [
              "  0%|          | 0/115 [00:00<?, ?it/s]"
            ],
            "application/vnd.jupyter.widget-view+json": {
              "version_major": 2,
              "version_minor": 0,
              "model_id": "81fe55321ad24bd8b5fa957bd9653c6f"
            }
          },
          "metadata": {}
        },
        {
          "output_type": "stream",
          "name": "stdout",
          "text": [
            "\n",
            "dim = 128\n"
          ]
        },
        {
          "output_type": "display_data",
          "data": {
            "text/plain": [
              "  0%|          | 0/115 [00:00<?, ?it/s]"
            ],
            "application/vnd.jupyter.widget-view+json": {
              "version_major": 2,
              "version_minor": 0,
              "model_id": "315ecad5248449acba581ad2d54f8e19"
            }
          },
          "metadata": {}
        },
        {
          "output_type": "stream",
          "name": "stdout",
          "text": [
            "\n",
            "dim = 192\n"
          ]
        },
        {
          "output_type": "display_data",
          "data": {
            "text/plain": [
              "  0%|          | 0/115 [00:00<?, ?it/s]"
            ],
            "application/vnd.jupyter.widget-view+json": {
              "version_major": 2,
              "version_minor": 0,
              "model_id": "b82c43c0b104483185b281bef165bc13"
            }
          },
          "metadata": {}
        },
        {
          "output_type": "stream",
          "name": "stdout",
          "text": [
            "\n",
            "dim = 256\n"
          ]
        },
        {
          "output_type": "display_data",
          "data": {
            "text/plain": [
              "  0%|          | 0/115 [00:00<?, ?it/s]"
            ],
            "application/vnd.jupyter.widget-view+json": {
              "version_major": 2,
              "version_minor": 0,
              "model_id": "695b4d1450c44844af3e5a75b9ae855c"
            }
          },
          "metadata": {}
        },
        {
          "output_type": "stream",
          "name": "stdout",
          "text": [
            "\n",
            "Наивысший map@k для данного num_iters: 0.00047281323877068556\n",
            "\n",
            "Для num_iters = 125\n",
            "\n",
            "dim = 32\n"
          ]
        },
        {
          "output_type": "display_data",
          "data": {
            "text/plain": [
              "  0%|          | 0/125 [00:00<?, ?it/s]"
            ],
            "application/vnd.jupyter.widget-view+json": {
              "version_major": 2,
              "version_minor": 0,
              "model_id": "08630d678f9f4daea7c442e70d6a2424"
            }
          },
          "metadata": {}
        },
        {
          "output_type": "stream",
          "name": "stdout",
          "text": [
            "\n",
            "dim = 64\n"
          ]
        },
        {
          "output_type": "display_data",
          "data": {
            "text/plain": [
              "  0%|          | 0/125 [00:00<?, ?it/s]"
            ],
            "application/vnd.jupyter.widget-view+json": {
              "version_major": 2,
              "version_minor": 0,
              "model_id": "667fd7b4a74d4f06a37b03a046068b23"
            }
          },
          "metadata": {}
        },
        {
          "output_type": "stream",
          "name": "stdout",
          "text": [
            "\n",
            "dim = 96\n"
          ]
        },
        {
          "output_type": "display_data",
          "data": {
            "text/plain": [
              "  0%|          | 0/125 [00:00<?, ?it/s]"
            ],
            "application/vnd.jupyter.widget-view+json": {
              "version_major": 2,
              "version_minor": 0,
              "model_id": "5648452a43e84bb9bc8f58a479ecaa67"
            }
          },
          "metadata": {}
        },
        {
          "output_type": "stream",
          "name": "stdout",
          "text": [
            "\n",
            "dim = 128\n"
          ]
        },
        {
          "output_type": "display_data",
          "data": {
            "text/plain": [
              "  0%|          | 0/125 [00:00<?, ?it/s]"
            ],
            "application/vnd.jupyter.widget-view+json": {
              "version_major": 2,
              "version_minor": 0,
              "model_id": "5979b761286e422ba922c6137df98d97"
            }
          },
          "metadata": {}
        },
        {
          "output_type": "stream",
          "name": "stdout",
          "text": [
            "\n",
            "dim = 192\n"
          ]
        },
        {
          "output_type": "display_data",
          "data": {
            "text/plain": [
              "  0%|          | 0/125 [00:00<?, ?it/s]"
            ],
            "application/vnd.jupyter.widget-view+json": {
              "version_major": 2,
              "version_minor": 0,
              "model_id": "b69e14f2d1ac467babfab2677d1479be"
            }
          },
          "metadata": {}
        },
        {
          "output_type": "stream",
          "name": "stdout",
          "text": [
            "\n",
            "dim = 256\n"
          ]
        },
        {
          "output_type": "display_data",
          "data": {
            "text/plain": [
              "  0%|          | 0/125 [00:00<?, ?it/s]"
            ],
            "application/vnd.jupyter.widget-view+json": {
              "version_major": 2,
              "version_minor": 0,
              "model_id": "002e479cc4914342bd87a9da525ff007"
            }
          },
          "metadata": {}
        },
        {
          "output_type": "stream",
          "name": "stdout",
          "text": [
            "\n",
            "Наивысший map@k для данного num_iters: 0.0010638297872340426\n",
            "\n",
            "Для num_iters = 135\n",
            "\n",
            "dim = 32\n"
          ]
        },
        {
          "output_type": "display_data",
          "data": {
            "text/plain": [
              "  0%|          | 0/135 [00:00<?, ?it/s]"
            ],
            "application/vnd.jupyter.widget-view+json": {
              "version_major": 2,
              "version_minor": 0,
              "model_id": "298a26eaaa0d468fa35d6413295aeab5"
            }
          },
          "metadata": {}
        },
        {
          "output_type": "stream",
          "name": "stdout",
          "text": [
            "\n",
            "dim = 64\n"
          ]
        },
        {
          "output_type": "display_data",
          "data": {
            "text/plain": [
              "  0%|          | 0/135 [00:00<?, ?it/s]"
            ],
            "application/vnd.jupyter.widget-view+json": {
              "version_major": 2,
              "version_minor": 0,
              "model_id": "6eb315f5adde45ab969788ee4e015be4"
            }
          },
          "metadata": {}
        },
        {
          "output_type": "stream",
          "name": "stdout",
          "text": [
            "\n",
            "dim = 96\n"
          ]
        },
        {
          "output_type": "display_data",
          "data": {
            "text/plain": [
              "  0%|          | 0/135 [00:00<?, ?it/s]"
            ],
            "application/vnd.jupyter.widget-view+json": {
              "version_major": 2,
              "version_minor": 0,
              "model_id": "944642c8fb79492ba55eabf942358b8d"
            }
          },
          "metadata": {}
        },
        {
          "output_type": "stream",
          "name": "stdout",
          "text": [
            "\n",
            "dim = 128\n"
          ]
        },
        {
          "output_type": "display_data",
          "data": {
            "text/plain": [
              "  0%|          | 0/135 [00:00<?, ?it/s]"
            ],
            "application/vnd.jupyter.widget-view+json": {
              "version_major": 2,
              "version_minor": 0,
              "model_id": "97c8c2c0015c4d748559dba7ef9777c2"
            }
          },
          "metadata": {}
        },
        {
          "output_type": "stream",
          "name": "stdout",
          "text": [
            "\n",
            "dim = 192\n"
          ]
        },
        {
          "output_type": "display_data",
          "data": {
            "text/plain": [
              "  0%|          | 0/135 [00:00<?, ?it/s]"
            ],
            "application/vnd.jupyter.widget-view+json": {
              "version_major": 2,
              "version_minor": 0,
              "model_id": "b73df40b83f344de988e78a12c89b7fb"
            }
          },
          "metadata": {}
        },
        {
          "output_type": "stream",
          "name": "stdout",
          "text": [
            "\n",
            "dim = 256\n"
          ]
        },
        {
          "output_type": "display_data",
          "data": {
            "text/plain": [
              "  0%|          | 0/135 [00:00<?, ?it/s]"
            ],
            "application/vnd.jupyter.widget-view+json": {
              "version_major": 2,
              "version_minor": 0,
              "model_id": "263ad0ba3cf345ff812e81edc0a893a2"
            }
          },
          "metadata": {}
        },
        {
          "output_type": "stream",
          "name": "stdout",
          "text": [
            "\n",
            "Наивысший map@k для данного num_iters: 0.00047281323877068556\n",
            "\n",
            "Для num_iters = 145\n",
            "\n",
            "dim = 32\n"
          ]
        },
        {
          "output_type": "display_data",
          "data": {
            "text/plain": [
              "  0%|          | 0/145 [00:00<?, ?it/s]"
            ],
            "application/vnd.jupyter.widget-view+json": {
              "version_major": 2,
              "version_minor": 0,
              "model_id": "ce20dca833ef4cbb8d21cdd48871ade5"
            }
          },
          "metadata": {}
        },
        {
          "output_type": "stream",
          "name": "stdout",
          "text": [
            "\n",
            "dim = 64\n"
          ]
        },
        {
          "output_type": "display_data",
          "data": {
            "text/plain": [
              "  0%|          | 0/145 [00:00<?, ?it/s]"
            ],
            "application/vnd.jupyter.widget-view+json": {
              "version_major": 2,
              "version_minor": 0,
              "model_id": "cf1c7612080e4ef18b4f3a04ceb03988"
            }
          },
          "metadata": {}
        },
        {
          "output_type": "stream",
          "name": "stdout",
          "text": [
            "\n",
            "dim = 96\n"
          ]
        },
        {
          "output_type": "display_data",
          "data": {
            "text/plain": [
              "  0%|          | 0/145 [00:00<?, ?it/s]"
            ],
            "application/vnd.jupyter.widget-view+json": {
              "version_major": 2,
              "version_minor": 0,
              "model_id": "76113237380d4b17bcf9551c1c114726"
            }
          },
          "metadata": {}
        },
        {
          "output_type": "stream",
          "name": "stdout",
          "text": [
            "\n",
            "dim = 128\n"
          ]
        },
        {
          "output_type": "display_data",
          "data": {
            "text/plain": [
              "  0%|          | 0/145 [00:00<?, ?it/s]"
            ],
            "application/vnd.jupyter.widget-view+json": {
              "version_major": 2,
              "version_minor": 0,
              "model_id": "79554fdffc0548bc94e1f2250a47a30b"
            }
          },
          "metadata": {}
        },
        {
          "output_type": "stream",
          "name": "stdout",
          "text": [
            "\n",
            "dim = 192\n"
          ]
        },
        {
          "output_type": "display_data",
          "data": {
            "text/plain": [
              "  0%|          | 0/145 [00:00<?, ?it/s]"
            ],
            "application/vnd.jupyter.widget-view+json": {
              "version_major": 2,
              "version_minor": 0,
              "model_id": "4241392de751461a9a2265b8b95a1c7f"
            }
          },
          "metadata": {}
        },
        {
          "output_type": "stream",
          "name": "stdout",
          "text": [
            "\n",
            "dim = 256\n"
          ]
        },
        {
          "output_type": "display_data",
          "data": {
            "text/plain": [
              "  0%|          | 0/145 [00:00<?, ?it/s]"
            ],
            "application/vnd.jupyter.widget-view+json": {
              "version_major": 2,
              "version_minor": 0,
              "model_id": "3b8592b6c4a2400e8c281317e5f8ed21"
            }
          },
          "metadata": {}
        },
        {
          "output_type": "stream",
          "name": "stdout",
          "text": [
            "\n",
            "Наивысший map@k для данного num_iters: 0.00425531914893617\n",
            "\n",
            "Для num_iters = 155\n",
            "\n",
            "dim = 32\n"
          ]
        },
        {
          "output_type": "display_data",
          "data": {
            "text/plain": [
              "  0%|          | 0/155 [00:00<?, ?it/s]"
            ],
            "application/vnd.jupyter.widget-view+json": {
              "version_major": 2,
              "version_minor": 0,
              "model_id": "70d8e89f6fa145b5a7a222a5a3b4e668"
            }
          },
          "metadata": {}
        },
        {
          "output_type": "stream",
          "name": "stdout",
          "text": [
            "\n",
            "dim = 64\n"
          ]
        },
        {
          "output_type": "display_data",
          "data": {
            "text/plain": [
              "  0%|          | 0/155 [00:00<?, ?it/s]"
            ],
            "application/vnd.jupyter.widget-view+json": {
              "version_major": 2,
              "version_minor": 0,
              "model_id": "3d38f6354e364097afb04a5aef101483"
            }
          },
          "metadata": {}
        },
        {
          "output_type": "stream",
          "name": "stdout",
          "text": [
            "\n",
            "dim = 96\n"
          ]
        },
        {
          "output_type": "display_data",
          "data": {
            "text/plain": [
              "  0%|          | 0/155 [00:00<?, ?it/s]"
            ],
            "application/vnd.jupyter.widget-view+json": {
              "version_major": 2,
              "version_minor": 0,
              "model_id": "83d3479eec1c4896b9d366930e672231"
            }
          },
          "metadata": {}
        },
        {
          "output_type": "stream",
          "name": "stdout",
          "text": [
            "\n",
            "dim = 128\n"
          ]
        },
        {
          "output_type": "display_data",
          "data": {
            "text/plain": [
              "  0%|          | 0/155 [00:00<?, ?it/s]"
            ],
            "application/vnd.jupyter.widget-view+json": {
              "version_major": 2,
              "version_minor": 0,
              "model_id": "2f402c5cac71415fb6d32c1808613773"
            }
          },
          "metadata": {}
        },
        {
          "output_type": "stream",
          "name": "stdout",
          "text": [
            "\n",
            "dim = 192\n"
          ]
        },
        {
          "output_type": "display_data",
          "data": {
            "text/plain": [
              "  0%|          | 0/155 [00:00<?, ?it/s]"
            ],
            "application/vnd.jupyter.widget-view+json": {
              "version_major": 2,
              "version_minor": 0,
              "model_id": "6ccb394aad3c4ecab3702dbac94d45b1"
            }
          },
          "metadata": {}
        },
        {
          "output_type": "stream",
          "name": "stdout",
          "text": [
            "\n",
            "dim = 256\n"
          ]
        },
        {
          "output_type": "display_data",
          "data": {
            "text/plain": [
              "  0%|          | 0/155 [00:00<?, ?it/s]"
            ],
            "application/vnd.jupyter.widget-view+json": {
              "version_major": 2,
              "version_minor": 0,
              "model_id": "f08e1119100947839e6f4599e218a328"
            }
          },
          "metadata": {}
        },
        {
          "output_type": "stream",
          "name": "stdout",
          "text": [
            "\n",
            "Наивысший map@k для данного num_iters: 0.00425531914893617\n",
            "\n",
            "Для num_iters = 165\n",
            "\n",
            "dim = 32\n"
          ]
        },
        {
          "output_type": "display_data",
          "data": {
            "text/plain": [
              "  0%|          | 0/165 [00:00<?, ?it/s]"
            ],
            "application/vnd.jupyter.widget-view+json": {
              "version_major": 2,
              "version_minor": 0,
              "model_id": "063ede79099243fda52f7cc8f5fb1796"
            }
          },
          "metadata": {}
        },
        {
          "output_type": "stream",
          "name": "stdout",
          "text": [
            "\n",
            "dim = 64\n"
          ]
        },
        {
          "output_type": "display_data",
          "data": {
            "text/plain": [
              "  0%|          | 0/165 [00:00<?, ?it/s]"
            ],
            "application/vnd.jupyter.widget-view+json": {
              "version_major": 2,
              "version_minor": 0,
              "model_id": "755ac7eb4d9749099e144e9872e66294"
            }
          },
          "metadata": {}
        },
        {
          "output_type": "stream",
          "name": "stdout",
          "text": [
            "\n",
            "dim = 96\n"
          ]
        },
        {
          "output_type": "display_data",
          "data": {
            "text/plain": [
              "  0%|          | 0/165 [00:00<?, ?it/s]"
            ],
            "application/vnd.jupyter.widget-view+json": {
              "version_major": 2,
              "version_minor": 0,
              "model_id": "740d9c836d814b90be47117e8a22fe85"
            }
          },
          "metadata": {}
        },
        {
          "output_type": "stream",
          "name": "stdout",
          "text": [
            "\n",
            "dim = 128\n"
          ]
        },
        {
          "output_type": "display_data",
          "data": {
            "text/plain": [
              "  0%|          | 0/165 [00:00<?, ?it/s]"
            ],
            "application/vnd.jupyter.widget-view+json": {
              "version_major": 2,
              "version_minor": 0,
              "model_id": "e16830cef5d14c7f9b125fd952b971a4"
            }
          },
          "metadata": {}
        },
        {
          "output_type": "stream",
          "name": "stdout",
          "text": [
            "\n",
            "dim = 192\n"
          ]
        },
        {
          "output_type": "display_data",
          "data": {
            "text/plain": [
              "  0%|          | 0/165 [00:00<?, ?it/s]"
            ],
            "application/vnd.jupyter.widget-view+json": {
              "version_major": 2,
              "version_minor": 0,
              "model_id": "f00e8c7339d347b5bbf5c5a54094a546"
            }
          },
          "metadata": {}
        },
        {
          "output_type": "stream",
          "name": "stdout",
          "text": [
            "\n",
            "dim = 256\n"
          ]
        },
        {
          "output_type": "display_data",
          "data": {
            "text/plain": [
              "  0%|          | 0/165 [00:00<?, ?it/s]"
            ],
            "application/vnd.jupyter.widget-view+json": {
              "version_major": 2,
              "version_minor": 0,
              "model_id": "7c658a72f10c41e5beb5d9108ffbafaf"
            }
          },
          "metadata": {}
        },
        {
          "output_type": "stream",
          "name": "stdout",
          "text": [
            "\n",
            "Наивысший map@k для данного num_iters: 0.00047281323877068556\n",
            "\n",
            "Для num_iters = 175\n",
            "\n",
            "dim = 32\n"
          ]
        },
        {
          "output_type": "display_data",
          "data": {
            "text/plain": [
              "  0%|          | 0/175 [00:00<?, ?it/s]"
            ],
            "application/vnd.jupyter.widget-view+json": {
              "version_major": 2,
              "version_minor": 0,
              "model_id": "2e54460911cf482d81088c7bca50ee6e"
            }
          },
          "metadata": {}
        },
        {
          "output_type": "stream",
          "name": "stdout",
          "text": [
            "\n",
            "dim = 64\n"
          ]
        },
        {
          "output_type": "display_data",
          "data": {
            "text/plain": [
              "  0%|          | 0/175 [00:00<?, ?it/s]"
            ],
            "application/vnd.jupyter.widget-view+json": {
              "version_major": 2,
              "version_minor": 0,
              "model_id": "cc8f2572918c4ebcbc918c26ed041809"
            }
          },
          "metadata": {}
        },
        {
          "output_type": "stream",
          "name": "stdout",
          "text": [
            "\n",
            "dim = 96\n"
          ]
        },
        {
          "output_type": "display_data",
          "data": {
            "text/plain": [
              "  0%|          | 0/175 [00:00<?, ?it/s]"
            ],
            "application/vnd.jupyter.widget-view+json": {
              "version_major": 2,
              "version_minor": 0,
              "model_id": "2f1cb8dc96fd49df9cff94d4af8fb5a7"
            }
          },
          "metadata": {}
        },
        {
          "output_type": "stream",
          "name": "stdout",
          "text": [
            "\n",
            "dim = 128\n"
          ]
        },
        {
          "output_type": "display_data",
          "data": {
            "text/plain": [
              "  0%|          | 0/175 [00:00<?, ?it/s]"
            ],
            "application/vnd.jupyter.widget-view+json": {
              "version_major": 2,
              "version_minor": 0,
              "model_id": "05bfb381b69043279de67c78a541454c"
            }
          },
          "metadata": {}
        },
        {
          "output_type": "stream",
          "name": "stdout",
          "text": [
            "\n",
            "dim = 192\n"
          ]
        },
        {
          "output_type": "display_data",
          "data": {
            "text/plain": [
              "  0%|          | 0/175 [00:00<?, ?it/s]"
            ],
            "application/vnd.jupyter.widget-view+json": {
              "version_major": 2,
              "version_minor": 0,
              "model_id": "12f3ffc2b5614ce9a69ea2f9497e570d"
            }
          },
          "metadata": {}
        },
        {
          "output_type": "stream",
          "name": "stdout",
          "text": [
            "\n",
            "dim = 256\n"
          ]
        },
        {
          "output_type": "display_data",
          "data": {
            "text/plain": [
              "  0%|          | 0/175 [00:00<?, ?it/s]"
            ],
            "application/vnd.jupyter.widget-view+json": {
              "version_major": 2,
              "version_minor": 0,
              "model_id": "326924ef863a49baa1e4063e98eb6b90"
            }
          },
          "metadata": {}
        },
        {
          "output_type": "stream",
          "name": "stdout",
          "text": [
            "\n",
            "Наивысший map@k для данного num_iters: 0.0010638297872340426\n",
            "\n",
            "Для num_iters = 185\n",
            "\n",
            "dim = 32\n"
          ]
        },
        {
          "output_type": "display_data",
          "data": {
            "text/plain": [
              "  0%|          | 0/185 [00:00<?, ?it/s]"
            ],
            "application/vnd.jupyter.widget-view+json": {
              "version_major": 2,
              "version_minor": 0,
              "model_id": "6726b7a8d39e428f82a5eb3d67c444d4"
            }
          },
          "metadata": {}
        },
        {
          "output_type": "stream",
          "name": "stdout",
          "text": [
            "\n",
            "dim = 64\n"
          ]
        },
        {
          "output_type": "display_data",
          "data": {
            "text/plain": [
              "  0%|          | 0/185 [00:00<?, ?it/s]"
            ],
            "application/vnd.jupyter.widget-view+json": {
              "version_major": 2,
              "version_minor": 0,
              "model_id": "82352b3d98a142daafe742db92d45739"
            }
          },
          "metadata": {}
        },
        {
          "output_type": "stream",
          "name": "stdout",
          "text": [
            "\n",
            "dim = 96\n"
          ]
        },
        {
          "output_type": "display_data",
          "data": {
            "text/plain": [
              "  0%|          | 0/185 [00:00<?, ?it/s]"
            ],
            "application/vnd.jupyter.widget-view+json": {
              "version_major": 2,
              "version_minor": 0,
              "model_id": "d5d49aff757a4898b259d9ea94b7ecd6"
            }
          },
          "metadata": {}
        },
        {
          "output_type": "stream",
          "name": "stdout",
          "text": [
            "\n",
            "dim = 128\n"
          ]
        },
        {
          "output_type": "display_data",
          "data": {
            "text/plain": [
              "  0%|          | 0/185 [00:00<?, ?it/s]"
            ],
            "application/vnd.jupyter.widget-view+json": {
              "version_major": 2,
              "version_minor": 0,
              "model_id": "944336f787df4ccf8c9920741ba158f9"
            }
          },
          "metadata": {}
        },
        {
          "output_type": "stream",
          "name": "stdout",
          "text": [
            "\n",
            "dim = 192\n"
          ]
        },
        {
          "output_type": "display_data",
          "data": {
            "text/plain": [
              "  0%|          | 0/185 [00:00<?, ?it/s]"
            ],
            "application/vnd.jupyter.widget-view+json": {
              "version_major": 2,
              "version_minor": 0,
              "model_id": "2fe8c50590cf427b80c2c1f2d5825eff"
            }
          },
          "metadata": {}
        },
        {
          "output_type": "stream",
          "name": "stdout",
          "text": [
            "\n",
            "dim = 256\n"
          ]
        },
        {
          "output_type": "display_data",
          "data": {
            "text/plain": [
              "  0%|          | 0/185 [00:00<?, ?it/s]"
            ],
            "application/vnd.jupyter.widget-view+json": {
              "version_major": 2,
              "version_minor": 0,
              "model_id": "f4b0c86139f24573b353ad5f7dfb0311"
            }
          },
          "metadata": {}
        },
        {
          "output_type": "stream",
          "name": "stdout",
          "text": [
            "\n",
            "Наивысший map@k для данного num_iters: 0.0010638297872340426\n",
            "\n",
            "Для num_iters = 195\n",
            "\n",
            "dim = 32\n"
          ]
        },
        {
          "output_type": "display_data",
          "data": {
            "text/plain": [
              "  0%|          | 0/195 [00:00<?, ?it/s]"
            ],
            "application/vnd.jupyter.widget-view+json": {
              "version_major": 2,
              "version_minor": 0,
              "model_id": "fe08ef155db144d696350b5bcbc61f44"
            }
          },
          "metadata": {}
        },
        {
          "output_type": "stream",
          "name": "stdout",
          "text": [
            "\n",
            "dim = 64\n"
          ]
        },
        {
          "output_type": "display_data",
          "data": {
            "text/plain": [
              "  0%|          | 0/195 [00:00<?, ?it/s]"
            ],
            "application/vnd.jupyter.widget-view+json": {
              "version_major": 2,
              "version_minor": 0,
              "model_id": "cd7ab725c21a415480e04d395309b0dc"
            }
          },
          "metadata": {}
        },
        {
          "output_type": "stream",
          "name": "stdout",
          "text": [
            "\n",
            "dim = 96\n"
          ]
        },
        {
          "output_type": "display_data",
          "data": {
            "text/plain": [
              "  0%|          | 0/195 [00:00<?, ?it/s]"
            ],
            "application/vnd.jupyter.widget-view+json": {
              "version_major": 2,
              "version_minor": 0,
              "model_id": "35b5ef32dd91409e8d15bf1dcabd1b61"
            }
          },
          "metadata": {}
        },
        {
          "output_type": "stream",
          "name": "stdout",
          "text": [
            "\n",
            "dim = 128\n"
          ]
        },
        {
          "output_type": "display_data",
          "data": {
            "text/plain": [
              "  0%|          | 0/195 [00:00<?, ?it/s]"
            ],
            "application/vnd.jupyter.widget-view+json": {
              "version_major": 2,
              "version_minor": 0,
              "model_id": "be23b9d966734d24812025eaef41c1fc"
            }
          },
          "metadata": {}
        },
        {
          "output_type": "stream",
          "name": "stdout",
          "text": [
            "\n",
            "dim = 192\n"
          ]
        },
        {
          "output_type": "display_data",
          "data": {
            "text/plain": [
              "  0%|          | 0/195 [00:00<?, ?it/s]"
            ],
            "application/vnd.jupyter.widget-view+json": {
              "version_major": 2,
              "version_minor": 0,
              "model_id": "8b8d4c75246d47338d90059649f60303"
            }
          },
          "metadata": {}
        },
        {
          "output_type": "stream",
          "name": "stdout",
          "text": [
            "\n",
            "dim = 256\n"
          ]
        },
        {
          "output_type": "display_data",
          "data": {
            "text/plain": [
              "  0%|          | 0/195 [00:00<?, ?it/s]"
            ],
            "application/vnd.jupyter.widget-view+json": {
              "version_major": 2,
              "version_minor": 0,
              "model_id": "dd1fc11ded334ac386b9316be0814cf8"
            }
          },
          "metadata": {}
        },
        {
          "output_type": "stream",
          "name": "stdout",
          "text": [
            "\n",
            "Наивысший map@k для данного num_iters: 0.00026595744680851064\n",
            "\n",
            "Для num_iters = 205\n",
            "\n",
            "dim = 32\n"
          ]
        },
        {
          "output_type": "display_data",
          "data": {
            "text/plain": [
              "  0%|          | 0/205 [00:00<?, ?it/s]"
            ],
            "application/vnd.jupyter.widget-view+json": {
              "version_major": 2,
              "version_minor": 0,
              "model_id": "627036655e38439e892c44db4371b508"
            }
          },
          "metadata": {}
        },
        {
          "output_type": "stream",
          "name": "stdout",
          "text": [
            "\n",
            "dim = 64\n"
          ]
        },
        {
          "output_type": "display_data",
          "data": {
            "text/plain": [
              "  0%|          | 0/205 [00:00<?, ?it/s]"
            ],
            "application/vnd.jupyter.widget-view+json": {
              "version_major": 2,
              "version_minor": 0,
              "model_id": "bdf7e6ab09e343f8934a25b798d59ac3"
            }
          },
          "metadata": {}
        },
        {
          "output_type": "stream",
          "name": "stdout",
          "text": [
            "\n",
            "dim = 96\n"
          ]
        },
        {
          "output_type": "display_data",
          "data": {
            "text/plain": [
              "  0%|          | 0/205 [00:00<?, ?it/s]"
            ],
            "application/vnd.jupyter.widget-view+json": {
              "version_major": 2,
              "version_minor": 0,
              "model_id": "b284df9ff9b9438c9bd295451cd05abe"
            }
          },
          "metadata": {}
        },
        {
          "output_type": "stream",
          "name": "stdout",
          "text": [
            "\n",
            "dim = 128\n"
          ]
        },
        {
          "output_type": "display_data",
          "data": {
            "text/plain": [
              "  0%|          | 0/205 [00:00<?, ?it/s]"
            ],
            "application/vnd.jupyter.widget-view+json": {
              "version_major": 2,
              "version_minor": 0,
              "model_id": "62764fc98aa545cc9121a6a54a1ce6d9"
            }
          },
          "metadata": {}
        },
        {
          "output_type": "stream",
          "name": "stdout",
          "text": [
            "\n",
            "dim = 192\n"
          ]
        },
        {
          "output_type": "display_data",
          "data": {
            "text/plain": [
              "  0%|          | 0/205 [00:00<?, ?it/s]"
            ],
            "application/vnd.jupyter.widget-view+json": {
              "version_major": 2,
              "version_minor": 0,
              "model_id": "e8203dbe78b8481d9252247a7b5edd39"
            }
          },
          "metadata": {}
        },
        {
          "output_type": "stream",
          "name": "stdout",
          "text": [
            "\n",
            "dim = 256\n"
          ]
        },
        {
          "output_type": "display_data",
          "data": {
            "text/plain": [
              "  0%|          | 0/205 [00:00<?, ?it/s]"
            ],
            "application/vnd.jupyter.widget-view+json": {
              "version_major": 2,
              "version_minor": 0,
              "model_id": "399a01c872cb427283fdaf5c488f6110"
            }
          },
          "metadata": {}
        },
        {
          "output_type": "stream",
          "name": "stdout",
          "text": [
            "\n",
            "Наивысший map@k для данного num_iters: 0.00425531914893617\n",
            "\n",
            "Best overall:\n",
            "num_iters    105.000000\n",
            "dim           32.000000\n",
            "k              1.000000\n",
            "map@k          0.004255\n",
            "Name: 10, dtype: float64\n"
          ]
        }
      ],
      "id": "Tznw8S1ozHYF"
    },
    {
      "cell_type": "code",
      "source": [
        "num_iters_range = np.arange(5, 206, 20)\n",
        "dim_values = [16, 32, 64, 96]\n",
        "k_values = np.arange(1, 51)\n",
        "\n",
        "results = []\n",
        "\n",
        "for num_iters in num_iters_range:\n",
        "    print(f\"\\nДля num_iters = {num_iters}\")\n",
        "\n",
        "    best_overall = {\n",
        "        'map@k': -1,\n",
        "        'dim': None,\n",
        "        'k': None\n",
        "    }\n",
        "\n",
        "    for dim in dim_values:\n",
        "        print(f\"\\ndim = {dim}\")\n",
        "\n",
        "        lfm = HiddenVars(train_ratings, dim=dim, mode='als')\n",
        "        lfm.fit(num_iters)\n",
        "\n",
        "        predictions = lfm.get_test_recommendations(k=50)\n",
        "\n",
        "        for k in k_values:\n",
        "            score = mapk(test_relevant, predictions, k)\n",
        "\n",
        "            if score > best_overall['map@k']:\n",
        "                best_overall.update({\n",
        "                    'map@k': score,\n",
        "                    'dim': dim,\n",
        "                    'k': k\n",
        "                })\n",
        "\n",
        "    print('\\nНаивысший map@k для данного num_iters:', best_overall['map@k'])\n",
        "\n",
        "    results.append({\n",
        "        'num_iters': num_iters,\n",
        "        'dim': best_overall['dim'],\n",
        "        'k': best_overall['k'],\n",
        "        'map@k': best_overall['map@k']\n",
        "    })\n",
        "\n",
        "results_df_als = pd.DataFrame(results)\n",
        "\n",
        "best_row_als = results_df_als.loc[results_df_als['map@k'].idxmax()]\n",
        "print(\"\\nBest overall:\")\n",
        "print(best_row_als)"
      ],
      "metadata": {
        "colab": {
          "base_uri": "https://localhost:8080/",
          "height": 1000,
          "referenced_widgets": [
            "72f67c193dc748448e1df13fcb6d4c2f",
            "ae4ef11e38ca42a78f78546aebae84e3",
            "028c67b0e6e747f4a336855471376c2e",
            "2d38ae302496471d9fac781dd4efd5e4",
            "c034f00417c24de09eed38a9e7108d1a",
            "5e170d881e024b3b95aa86585013c812",
            "c493b95279a441f2b73ef7d729fbee6b",
            "df09f10027ba40d396a88e3298db6479",
            "4afbcee128464fd28f9eaa16a2860a01",
            "d92af7b84b074c0cade956d84419bb04",
            "6e9375efc5604ad1a5a29de18d2d0597",
            "bc3414ae209f4d09b794be161bf53df8",
            "3b1c4a73b29b4f1ba3c2c20fb4327f65",
            "a5b02b5ac5ff46d98c1a16775cc2d6b3",
            "b0c0839962d145998bf4dc2b88e8cd69",
            "678a87111c574278998c6e04ce840004",
            "9b09d5e2d18a4c949715e1e8e159c762",
            "970f652d47fe4c37b394fe55bd4291f0",
            "6a8c51a316584536ab851e446f822ee4",
            "f57745469112404dbcef29f116b29f2b",
            "16d1285e327048b59039fccb8f5b6c8a",
            "360669e08f10429b8fb8fb76db6c071d",
            "9113c0f051ac4e438ae107c265a08aba",
            "304152c4f75f4cd6ad8fe701f321af6b",
            "75a94e6a16244bd8b359ce0af50e9703",
            "7a2e532e4b6e437b838efe8648e99fec",
            "e7fda5522240474b8d1de2fc3dc75245",
            "71a9e37db0a54c33a9f6d6157962e374",
            "0a44d493439b4bde98daa781a5172103",
            "c25b41d0b6be45cfa325576d4d80a53d",
            "96d0408e85d7434ba2f1d341db165540",
            "437c37c6ee66494b897cc411b09c350a",
            "a977fa3fc59d470786064fe3b5da710c",
            "e49a425a96834c52889c9bfdf611171b",
            "c6a2e170cdfc447f882dbea835d68bd5",
            "380284d12fad40debe0c022d881f8e56",
            "8e1763485c75493db1cc6168b21bdf32",
            "2326e33f0600463aa63b14fe2b321742",
            "9abb02f706ea4d4a929b4fee8c9cbbbb",
            "8ab9d01cd02f40ddb6d846a51eb6402b",
            "9e7c7c73e9524d9c96dc7fcd3e89c004",
            "e63e27c2a4c640f98e3a5acb5bd9d834",
            "d391290a80a84e308a45c5ab0ce0ce4d",
            "d3ee667dfa6d4958930e6cdfd20a0754",
            "fa372be1c2154704b6e525699052a130",
            "967a583341384ebba89cdd4131f88a70",
            "070a3ba488174905879afb754a1affd0",
            "9fcd29d1f13c4d8b8143236e44fbe504",
            "75ffd4202a6048c98fb87fa5ef053c26",
            "81a0db4d98be4bfa8cb2336e3c62a148",
            "7e7251efbbcc4de3b83702f58c9439b7",
            "9b4005ecddee412691923869bf6f4a5a",
            "bc1c02b89e104ef4b36ba4bda6da1095",
            "c94d46b206b64c2b80855f710060cd61",
            "d3e0f65067fc4ae094bff9c330ceb5e5",
            "41d22a27dbe64811858537bbf8a454c1",
            "0b3b185339cf4619832fbb0742e9e7e6",
            "fb1f29172aac476d935b79f7b0e54b0f",
            "8fb0d9d16ebd4973a13255b029fe2216",
            "59c94528fac94e92875533bebdd03ead",
            "9f835587fc20438bad196698fc65f265",
            "5e81bdab3c524e85b23d4ed8521b9b2e",
            "893e7c7fd9704c0ca7815047d7b54a49",
            "4e818a59b16e4f53bbe832031738c62f",
            "f58a7f862308433ba6598771a4a453e8",
            "85bdab401d78401b972ffabd1410e8c0",
            "7db1f3e78b5b4db3be546bbd9f10b401",
            "2e4d644d99c44d1f8d834420554d9bb6",
            "382f5801dab8447282a8fd703d5d5ebf",
            "a954b5a754c74547bb4aa6fd6248781a",
            "cc10873b922d4300a59a0ee71165e806",
            "9f80fe98be914afb934f57a0e28fd482",
            "438bb4f5c7454825bbd59b0393032c91",
            "c54379ae16b04a34a622fc689e4d2b51",
            "d69439f2dad847f99957c4ad9bb7f363",
            "2d5b52aa7a064999a58c5589e7578976",
            "198e6e8e5cf94c7cbb588326a150b599",
            "7894fa47fa5c4d89861d4b8701fc6dd9",
            "a08dfa85a81142c5b0f76e49ce0cc004",
            "ce6fb6eccd9f43f194e7fb66fd6be0c2",
            "2bdb6298b88f4028a53615dcd145b367",
            "52ec4dea3a0e441892ff4d6e4c7de2ae",
            "1cb0ba1429a34e469ba199e9e9e29b8d",
            "d5c93a1917764c7bb4361e6cd5040a78",
            "4dcc91bbffa14cc0b05eac164badf558",
            "3d99c9f95e4a46e896274c2ccd32c559",
            "0aa949bf34f64749b72e80380ebbb4c7",
            "2942ed212c9347369eaa8037f26470d9",
            "ddc757fbcd0641ea99354f9d0eebb586",
            "e053111ef84d4fac8dcb935d0e908b51",
            "33d09d0690b34de786357fdc1fd9a556",
            "2a5f2821e88b464e9db97af9888253c9",
            "0a706b86326745379a84fb3cd0e48f43",
            "432cf7d9de6d4832b62510a182bc7b19",
            "c073e0229fe44a5ca84bd193c6581d2b",
            "7ff052e3c07c499cb30e1a0b7503b55a",
            "88812b5e67184b9194551d1aae39b09f",
            "f45a7306280f4614ae8a2622ad0ed075",
            "3c719ee2b2374d4fbf02f7700623c8c1",
            "619f3da8ff134d5989c5d3d2a4679d4a",
            "16de8e3525c949a693adb49b0e1a8e51",
            "b0f7306d22c94574b062e46bfb35332d",
            "0c946ba43a28481a9007d319cb54d222",
            "f9230baf85d24c4e85b7efacdfd1a2ff",
            "08dfbe4e792f4002a8d25c85ab745f17",
            "68ab490278014e108ec311aaab9ea092",
            "d9e48a726c0044c19a16a236e5a40582",
            "4251fbe270f4409abb08b5dcbf6d4094",
            "d09566f06b624dafac46a5c75523b208",
            "caad2318e8f44005b308fe5db381bd5b",
            "fee19d334e39469483602de79434c6b7",
            "2c572d5d84b645a4860ae674723beb03",
            "19f82c7584bd472a9dd4409c7758c125",
            "7ffe03c5ef084db9a659e1e3b1d3c0d1",
            "989531252d5b4145b32d9ad4ca93c3d2",
            "18aa726597464e648601ef8112853519",
            "ebdde8e62a864be88ede9d10f844f866",
            "9a2f5c51baf44ff5a0550a8d57370a88",
            "b9dd256ddeb442309307354b777e05f7",
            "1ee2ff9d04744314928d7edd5eab2eb2",
            "c2d16c619207495c9d9c6fefe70b3599",
            "bc34ad857d6747f593e84bc8db5e6dd7",
            "c4e0cce21c8e4ea49a455b3affd81c32",
            "9b69ca197fbd483e8673dd8401896ea3",
            "78b5f915d8604298bbb657f9ca6d94d3",
            "149602af427448208058be2b456f611a",
            "3589c162aa824879b2fea07a105aa0c2",
            "9b9ea8674cd8449da73b6ab668c045ac",
            "b404e8ee1d314d3abe3589d9800a071b",
            "e2f5c1062b134e22bd353e5fb0cfe0c3",
            "a538a05ea37e4e5b83816ebaad194e95",
            "b7d750fde9244f338d152d58278d7a9a",
            "3e5ae1704b6846619263cd7212ba06f3",
            "964a53e23e4b4a79a572a94171faadf5",
            "c0917a6878484631bf88cfc6bf1651af",
            "04939236f4b4476da34718ee4623876d",
            "9e6f1604eee14e308917534833536b9d",
            "6889780f495a4e5bb220966de881b188",
            "3a4f58741cfb44ef899a4ad6144e7c44",
            "db2366745752436695f9e7f85f4bf7a9",
            "c381b57b688e469c850f92683d557b73",
            "7936d5ae65f04813af53184224f9b507",
            "034239ce83534a6b87ebcb32847b8e73",
            "8e071c351549438ab2080d306c774d44",
            "ca9d394b035d407e904e7cae4b6251c4",
            "9d3d7a99b9ac46b7beadfdb21bb64f03",
            "1fec84ce36604d24a5475e1daa4b3d69",
            "dcaa9d33d43a44308dbde6f05fdacc3a",
            "62da7cbfb0144a1b8ce1c2910c20cee7",
            "4abe307bb6674592b02188081152d7f0",
            "3a5f0f333bf64b458935d91ae5db40da",
            "92f4ba7ce3da482aa1679171fce7ed42",
            "b6a56eccdbc5429dae6b37c3329bc81a",
            "a33f17af149b49bbb29f24ac39248eb3",
            "d87d2227afb44422861f61d718345b9a",
            "70294fc45d4b465dbd6461a363ce6624",
            "799e32b65d6b474c9d8f56c6939850d6",
            "921bea6685314496bdfb9ef2a3421c1f",
            "bfddd95e5ecf4a3b945ea15b52d11f2f",
            "3135c47a36304ec0b14c2c2b64a7ccfe",
            "13905209f7124fce9815df14e345f3c7",
            "aef62bd241fd4921976bd9865fecac64",
            "b7b55ba205774c9c91dac66e1d7ce0a9",
            "cf8be361aac54842bf9ea1ba27460734",
            "39998d60221d4fd88f6b5a9d21191dbe",
            "c3ae62e55c05464f8e95f67ebc57d97b",
            "32e762399a4d4322b5e7745072e23e39",
            "6e7f60746a564fb1ab61a33bda648d3b",
            "f9b8d4c923674d19a4003c9c71be0fdf",
            "09132b35c6c349a7b31eaa75b27dcfa7",
            "16f84feda7934025b6705a6c41cb4899",
            "4f2fe7bce94d4773bff57392075caccf",
            "ba9e13c124a14f25afb6e11faaa8f4ec",
            "fc64b05c20fe4135802ac083ecbbf77a",
            "678407af3f3443838449fdf717130a2a",
            "9a7733b6be344203aef6f73cd4363756",
            "7eddfa87418c47e6b64ae1baca6183d0",
            "7037dd4ff3be4fe88ca2ba1af6cac870",
            "8dfaf9a8a40c4f788750b2c2ee37f07e",
            "8e38d2c1b01246519e8cb303ecf69665",
            "142dded7dc18442d9c6cbc8de965c183",
            "8cb28c2204db48399f6c74f54ae91194",
            "694ac85299374eadbffd12131c415789",
            "987e415626dc4a6f86c887d7aca54c4e",
            "fed61f29ecd848698a9c4a6f2b0e23ea",
            "6e3746d5bbac4c11bb1fb143335e0080",
            "1f5ab60610bb4909bbb9260776d7531d",
            "0434440cde64409a8e8981b33c12a049",
            "64d5ad3cd45e4d45aa6222ac0df57ca1",
            "2c529499e9234143842e79c022008fe9",
            "50404968623843459aa8f691495e130e",
            "1cb2f42a1caa450b98d9031fc558d0fd",
            "ca9977c6540542128ff3fe013e3aba00",
            "2db989e455b041a48293036bdff93cea",
            "b3faa3b26c354550b6c139f60ad1095e",
            "e2d832e4930e41d4a81ddb1a99dfe536",
            "c75fe03a8b134319a6dda4fe70049b8a",
            "e2de7fa1e43c4c0ba3a1ef025ce044df",
            "317f0713b72541df9db21eebdb6142db",
            "9aa3aef9f9484782ad928225af726558",
            "de0141c039cf4877af2330d33991c12b",
            "2dbf9a71a33f420cb287a9cb6d982bdd",
            "cb998ab5314043d48de4a1aa2428c957",
            "4234f5219440465abb32d3b32a8a9d6d",
            "2507e7e0cd664cb8bd5e2fb5f123d411",
            "bfb13293943e43bb9a38c41a5d2348fd",
            "b51e07c37d8f486e96bb7ed061f2bc1e",
            "0b3a8100bdf24273955b2ac7354aec0d",
            "64195fbf42294606b860b8dc6e9ed705",
            "ee62d0e822674146bf9cfe37920ec787",
            "94991aae3f2a44eb8489c056ed20eda4",
            "b8d891505ac64ff9b89960a716511ee3",
            "f4976cc489294ff2858e1b74214ade1a",
            "e6a4b30c58414dbf9f1d90a05de5b643",
            "a49487e9e7244e3891b0a02bbd4a4aab",
            "2f0856fdfbb44843b99878900722c5e5",
            "2b67920a1dd04f5387cfdedaa45229dc",
            "cf75598fae4d42ffb5fd5566c2d459d2",
            "e26cf76e473547218fd950ed4c061160",
            "936f219596bd424088808ee36d0f49e1",
            "89c7e5aa930f4d0db437065569cb7802",
            "5225f97ac13241d683aeaf857d1a4419",
            "e0dff73d0d0e4a7c85fc280fc5fb4cb8",
            "b80a0320afbd429199961abb9b3a0dfd",
            "21e4a2055a1f4ea781e14d218da89c98",
            "604fe4fe58b54b9a851ac9a3f8f682c4",
            "23299b14bf6146bd8bd252b21b62029c",
            "c15a0827d235498182b70d501cdab39a",
            "98be444169a2438387b887be7e9de916",
            "cc326f8c83494714a6f35f97354fd006",
            "c62ae29ed7484ff7bf2f3176f112aed8",
            "bfd6e3ed3aed40d3b12e5c0b220ffd3e",
            "56728ff6cd394d4290a3ee9b5c4adc7b",
            "df32af67769348f7b5fc5cbde4e910af",
            "2d7d083f8593400cab81368f3250f842",
            "5efe295d3d5242969ee7006063aef3aa",
            "7a046a2203e64006991ee7f10f41fe6c",
            "babda799605d47d28b5f3b3761d1f1f1",
            "d71798269a574e9082f7685678f23a09",
            "d47da5006dfc4dca8966e361d9a141c1",
            "a0b85bd934cb428596ffb9026b371fce",
            "1b8ddf2b4df147b98d9a083e0d6913fb",
            "4da62a414f9042b291649f077fe3f6a5",
            "38ff3e2abd0d475f9d070c41d75ac8bd",
            "5393b860c7244d9f9c803d579d7413f6",
            "91914a2840bc4c978b708a15c891f459",
            "2bc59a62c4504e18910114d06069662e",
            "e3220bec69234b2583022f2f543d749a",
            "ae291c4080bb4e09aee15bc65f56c1b5",
            "c5acf93ffe474bfe866506385d648a83",
            "88f559a8c63545a2ab42c7172c6ed270",
            "56167a9b132244c08ffca321f4926b9d",
            "5ce66c2f9919441093172e2a574cc5de",
            "004b293554e649adaf57e27ec560437b",
            "8a6b1703152d4009bad20c1765d8b976",
            "0190dbade98648a0b905956a019c2889",
            "f73e10a378d541d79bee5e56894aaca5",
            "93eb6823896a41aabef69bc2b4711677",
            "ede3385bcee04d58841914d96c2ce3ac",
            "67bebb0860014be29231aed1dc02773a",
            "1d89c1a3b7c64e8bbccc881b98f4d521",
            "73edccc0fc964194b523f73acd7e3079",
            "c0c81cd3ecb04d5da87a9707739949c0",
            "e0328a8773e4443b8755523c28c94b76",
            "b328c82fbee449c385f6e404eb39698b",
            "7d52654718364f3ba4edb2d90c605ce2",
            "fc0f914616a442ba8e886ec3d7a022bb",
            "9e42056304d24f8d94bb9b9c811b3f3d",
            "5b784e9062854c6c9230a64c40b89201",
            "f6f6af75c5e04100a76192ec978ae1f4",
            "6957663d34e84541a8cc172210809444",
            "b3198e21ea56440eb87589de431e9e06",
            "dea077d81a9f42f9a9cd1202c1b0b423",
            "9c7e57a068944bcd875dd3cd7b8d0814",
            "e31d6fb696c740d8ac81c80706a6a529",
            "8fb100ae070144a0a710f91705acd3c8",
            "68f47147fc0a45e1863abfd10a4cf49d",
            "5ef2af5cefce4329bf9263abee1efa95",
            "483f5220d1cc4d2387572c3448817dfd",
            "832a1e656cad4916a78158f6fee30165",
            "cbbcbcc72ee34575b8b3de6615d9730c",
            "0da6acf24b194818a73430283b999e7a",
            "46528416d65d49bfa4c5598d468bde5f",
            "448207201874446fbf352c7ce4add6a3",
            "023a650b06b547e9a461c5a5564aafbd",
            "8194fd25262249e3a8c253ae6fa178b9",
            "d839bf45b4a64750a10384b426da02cb",
            "0ec61793bba5474ba31e5a146f7e7015",
            "a46a9b2b4e7e4407a382bfc2a9322880",
            "df8db341042340178d85741ef3489de6",
            "05c027de56eb4569be4036a00618330d",
            "7b7c06eed271489eb5c3945b6e28484c",
            "0702ea73bae34979a9ba8183ec618807",
            "f446f264957d4140af87ac51e9a81dd0",
            "87b64fcdeb4b4a5c8af5479b7cf90924",
            "54654ebbbe5d40a895235d930e5fb08e",
            "9dd4030b5b754b28acf2af2f2867f83f",
            "7c377989251a4ed289afaedbcf46c0bd",
            "98de90ddc5114a47a3edc2d100d94483",
            "ec66215a31cf420f803ef77aa4d2e7d2",
            "cf47ff4cef294b7ea78a957cdb9a9512",
            "7903a7541c1845c48082bbc1e88961df",
            "385f81cb5bbf4dbdb412917046304acc",
            "930a8e16b2c24f5588925333eba74211",
            "c689cad878b148a689a1bf0de21c5f00",
            "262c0841065c42c0a0499b5e825d3465",
            "1c8dec050a0040cf8d0dcbb8224aa26a",
            "71c8f5798ad145feb2202aa277faa730",
            "86162b8e5d5d41809cc22b0b5a6fb274",
            "693d35b164bc4b00be848b8c9a5d944c",
            "d3fefec0395948c1b53bc6971011c276",
            "6300c318e8cd4810a948173eec5bb270",
            "ecfc092ea4fd449187cae1c14cee1eb3",
            "f7a3b099c2094a87b32d977473a7edeb",
            "b0cb5c3bc1404b268f7b312511ee98a5",
            "4331ac1a47284ca790358c1133bc825e",
            "a72d1513d0d64e45b17d1eb08a734bde",
            "bbddaa74a6134be180b646045da106ec",
            "fec0295fa8a34f428ab7921ec46ab9e7"
          ]
        },
        "id": "B8ABuI4OAL35",
        "outputId": "8da8939d-ccb1-4e06-a48a-b063cae62af5"
      },
      "execution_count": null,
      "outputs": [
        {
          "output_type": "stream",
          "name": "stdout",
          "text": [
            "\n",
            "Для num_iters = 5\n",
            "\n",
            "dim = 16\n"
          ]
        },
        {
          "output_type": "display_data",
          "data": {
            "text/plain": [
              "  0%|          | 0/5 [00:00<?, ?it/s]"
            ],
            "application/vnd.jupyter.widget-view+json": {
              "version_major": 2,
              "version_minor": 0,
              "model_id": "72f67c193dc748448e1df13fcb6d4c2f"
            }
          },
          "metadata": {}
        },
        {
          "output_type": "stream",
          "name": "stdout",
          "text": [
            "\n",
            "dim = 32\n"
          ]
        },
        {
          "output_type": "display_data",
          "data": {
            "text/plain": [
              "  0%|          | 0/5 [00:00<?, ?it/s]"
            ],
            "application/vnd.jupyter.widget-view+json": {
              "version_major": 2,
              "version_minor": 0,
              "model_id": "bc3414ae209f4d09b794be161bf53df8"
            }
          },
          "metadata": {}
        },
        {
          "output_type": "stream",
          "name": "stdout",
          "text": [
            "\n",
            "dim = 64\n"
          ]
        },
        {
          "output_type": "display_data",
          "data": {
            "text/plain": [
              "  0%|          | 0/5 [00:00<?, ?it/s]"
            ],
            "application/vnd.jupyter.widget-view+json": {
              "version_major": 2,
              "version_minor": 0,
              "model_id": "9113c0f051ac4e438ae107c265a08aba"
            }
          },
          "metadata": {}
        },
        {
          "output_type": "stream",
          "name": "stdout",
          "text": [
            "\n",
            "dim = 96\n"
          ]
        },
        {
          "output_type": "display_data",
          "data": {
            "text/plain": [
              "  0%|          | 0/5 [00:00<?, ?it/s]"
            ],
            "application/vnd.jupyter.widget-view+json": {
              "version_major": 2,
              "version_minor": 0,
              "model_id": "e49a425a96834c52889c9bfdf611171b"
            }
          },
          "metadata": {}
        },
        {
          "output_type": "stream",
          "name": "stdout",
          "text": [
            "\n",
            "Наивысший map@k для данного num_iters: 0.00425531914893617\n",
            "\n",
            "Для num_iters = 25\n",
            "\n",
            "dim = 16\n"
          ]
        },
        {
          "output_type": "display_data",
          "data": {
            "text/plain": [
              "  0%|          | 0/25 [00:00<?, ?it/s]"
            ],
            "application/vnd.jupyter.widget-view+json": {
              "version_major": 2,
              "version_minor": 0,
              "model_id": "fa372be1c2154704b6e525699052a130"
            }
          },
          "metadata": {}
        },
        {
          "output_type": "stream",
          "name": "stdout",
          "text": [
            "\n",
            "dim = 32\n"
          ]
        },
        {
          "output_type": "display_data",
          "data": {
            "text/plain": [
              "  0%|          | 0/25 [00:00<?, ?it/s]"
            ],
            "application/vnd.jupyter.widget-view+json": {
              "version_major": 2,
              "version_minor": 0,
              "model_id": "41d22a27dbe64811858537bbf8a454c1"
            }
          },
          "metadata": {}
        },
        {
          "output_type": "stream",
          "name": "stdout",
          "text": [
            "\n",
            "dim = 64\n"
          ]
        },
        {
          "output_type": "display_data",
          "data": {
            "text/plain": [
              "  0%|          | 0/25 [00:00<?, ?it/s]"
            ],
            "application/vnd.jupyter.widget-view+json": {
              "version_major": 2,
              "version_minor": 0,
              "model_id": "7db1f3e78b5b4db3be546bbd9f10b401"
            }
          },
          "metadata": {}
        },
        {
          "output_type": "stream",
          "name": "stdout",
          "text": [
            "\n",
            "dim = 96\n"
          ]
        },
        {
          "output_type": "display_data",
          "data": {
            "text/plain": [
              "  0%|          | 0/25 [00:00<?, ?it/s]"
            ],
            "application/vnd.jupyter.widget-view+json": {
              "version_major": 2,
              "version_minor": 0,
              "model_id": "7894fa47fa5c4d89861d4b8701fc6dd9"
            }
          },
          "metadata": {}
        },
        {
          "output_type": "stream",
          "name": "stdout",
          "text": [
            "\n",
            "Наивысший map@k для данного num_iters: 0.00851063829787234\n",
            "\n",
            "Для num_iters = 45\n",
            "\n",
            "dim = 16\n"
          ]
        },
        {
          "output_type": "display_data",
          "data": {
            "text/plain": [
              "  0%|          | 0/45 [00:00<?, ?it/s]"
            ],
            "application/vnd.jupyter.widget-view+json": {
              "version_major": 2,
              "version_minor": 0,
              "model_id": "ddc757fbcd0641ea99354f9d0eebb586"
            }
          },
          "metadata": {}
        },
        {
          "output_type": "stream",
          "name": "stdout",
          "text": [
            "\n",
            "dim = 32\n"
          ]
        },
        {
          "output_type": "display_data",
          "data": {
            "text/plain": [
              "  0%|          | 0/45 [00:00<?, ?it/s]"
            ],
            "application/vnd.jupyter.widget-view+json": {
              "version_major": 2,
              "version_minor": 0,
              "model_id": "619f3da8ff134d5989c5d3d2a4679d4a"
            }
          },
          "metadata": {}
        },
        {
          "output_type": "stream",
          "name": "stdout",
          "text": [
            "\n",
            "dim = 64\n"
          ]
        },
        {
          "output_type": "display_data",
          "data": {
            "text/plain": [
              "  0%|          | 0/45 [00:00<?, ?it/s]"
            ],
            "application/vnd.jupyter.widget-view+json": {
              "version_major": 2,
              "version_minor": 0,
              "model_id": "fee19d334e39469483602de79434c6b7"
            }
          },
          "metadata": {}
        },
        {
          "output_type": "stream",
          "name": "stdout",
          "text": [
            "\n",
            "dim = 96\n"
          ]
        },
        {
          "output_type": "display_data",
          "data": {
            "text/plain": [
              "  0%|          | 0/45 [00:00<?, ?it/s]"
            ],
            "application/vnd.jupyter.widget-view+json": {
              "version_major": 2,
              "version_minor": 0,
              "model_id": "bc34ad857d6747f593e84bc8db5e6dd7"
            }
          },
          "metadata": {}
        },
        {
          "output_type": "stream",
          "name": "stdout",
          "text": [
            "\n",
            "Наивысший map@k для данного num_iters: 0.00851063829787234\n",
            "\n",
            "Для num_iters = 65\n",
            "\n",
            "dim = 16\n"
          ]
        },
        {
          "output_type": "display_data",
          "data": {
            "text/plain": [
              "  0%|          | 0/65 [00:00<?, ?it/s]"
            ],
            "application/vnd.jupyter.widget-view+json": {
              "version_major": 2,
              "version_minor": 0,
              "model_id": "3e5ae1704b6846619263cd7212ba06f3"
            }
          },
          "metadata": {}
        },
        {
          "output_type": "stream",
          "name": "stdout",
          "text": [
            "\n",
            "dim = 32\n"
          ]
        },
        {
          "output_type": "display_data",
          "data": {
            "text/plain": [
              "  0%|          | 0/65 [00:00<?, ?it/s]"
            ],
            "application/vnd.jupyter.widget-view+json": {
              "version_major": 2,
              "version_minor": 0,
              "model_id": "8e071c351549438ab2080d306c774d44"
            }
          },
          "metadata": {}
        },
        {
          "output_type": "stream",
          "name": "stdout",
          "text": [
            "\n",
            "dim = 64\n"
          ]
        },
        {
          "output_type": "display_data",
          "data": {
            "text/plain": [
              "  0%|          | 0/65 [00:00<?, ?it/s]"
            ],
            "application/vnd.jupyter.widget-view+json": {
              "version_major": 2,
              "version_minor": 0,
              "model_id": "d87d2227afb44422861f61d718345b9a"
            }
          },
          "metadata": {}
        },
        {
          "output_type": "stream",
          "name": "stdout",
          "text": [
            "\n",
            "dim = 96\n"
          ]
        },
        {
          "output_type": "display_data",
          "data": {
            "text/plain": [
              "  0%|          | 0/65 [00:00<?, ?it/s]"
            ],
            "application/vnd.jupyter.widget-view+json": {
              "version_major": 2,
              "version_minor": 0,
              "model_id": "c3ae62e55c05464f8e95f67ebc57d97b"
            }
          },
          "metadata": {}
        },
        {
          "output_type": "stream",
          "name": "stdout",
          "text": [
            "\n",
            "Наивысший map@k для данного num_iters: 0.01276595744680851\n",
            "\n",
            "Для num_iters = 85\n",
            "\n",
            "dim = 16\n"
          ]
        },
        {
          "output_type": "display_data",
          "data": {
            "text/plain": [
              "  0%|          | 0/85 [00:00<?, ?it/s]"
            ],
            "application/vnd.jupyter.widget-view+json": {
              "version_major": 2,
              "version_minor": 0,
              "model_id": "7eddfa87418c47e6b64ae1baca6183d0"
            }
          },
          "metadata": {}
        },
        {
          "output_type": "stream",
          "name": "stdout",
          "text": [
            "\n",
            "dim = 32\n"
          ]
        },
        {
          "output_type": "display_data",
          "data": {
            "text/plain": [
              "  0%|          | 0/85 [00:00<?, ?it/s]"
            ],
            "application/vnd.jupyter.widget-view+json": {
              "version_major": 2,
              "version_minor": 0,
              "model_id": "0434440cde64409a8e8981b33c12a049"
            }
          },
          "metadata": {}
        },
        {
          "output_type": "stream",
          "name": "stdout",
          "text": [
            "\n",
            "dim = 64\n"
          ]
        },
        {
          "output_type": "display_data",
          "data": {
            "text/plain": [
              "  0%|          | 0/85 [00:00<?, ?it/s]"
            ],
            "application/vnd.jupyter.widget-view+json": {
              "version_major": 2,
              "version_minor": 0,
              "model_id": "317f0713b72541df9db21eebdb6142db"
            }
          },
          "metadata": {}
        },
        {
          "output_type": "stream",
          "name": "stdout",
          "text": [
            "\n",
            "dim = 96\n"
          ]
        },
        {
          "output_type": "display_data",
          "data": {
            "text/plain": [
              "  0%|          | 0/85 [00:00<?, ?it/s]"
            ],
            "application/vnd.jupyter.widget-view+json": {
              "version_major": 2,
              "version_minor": 0,
              "model_id": "ee62d0e822674146bf9cfe37920ec787"
            }
          },
          "metadata": {}
        },
        {
          "output_type": "stream",
          "name": "stdout",
          "text": [
            "\n",
            "Наивысший map@k для данного num_iters: 0.00425531914893617\n",
            "\n",
            "Для num_iters = 105\n",
            "\n",
            "dim = 16\n"
          ]
        },
        {
          "output_type": "display_data",
          "data": {
            "text/plain": [
              "  0%|          | 0/105 [00:00<?, ?it/s]"
            ],
            "application/vnd.jupyter.widget-view+json": {
              "version_major": 2,
              "version_minor": 0,
              "model_id": "89c7e5aa930f4d0db437065569cb7802"
            }
          },
          "metadata": {}
        },
        {
          "output_type": "stream",
          "name": "stdout",
          "text": [
            "\n",
            "dim = 32\n"
          ]
        },
        {
          "output_type": "display_data",
          "data": {
            "text/plain": [
              "  0%|          | 0/105 [00:00<?, ?it/s]"
            ],
            "application/vnd.jupyter.widget-view+json": {
              "version_major": 2,
              "version_minor": 0,
              "model_id": "bfd6e3ed3aed40d3b12e5c0b220ffd3e"
            }
          },
          "metadata": {}
        },
        {
          "output_type": "stream",
          "name": "stdout",
          "text": [
            "\n",
            "dim = 64\n"
          ]
        },
        {
          "output_type": "display_data",
          "data": {
            "text/plain": [
              "  0%|          | 0/105 [00:00<?, ?it/s]"
            ],
            "application/vnd.jupyter.widget-view+json": {
              "version_major": 2,
              "version_minor": 0,
              "model_id": "4da62a414f9042b291649f077fe3f6a5"
            }
          },
          "metadata": {}
        },
        {
          "output_type": "stream",
          "name": "stdout",
          "text": [
            "\n",
            "dim = 96\n"
          ]
        },
        {
          "output_type": "display_data",
          "data": {
            "text/plain": [
              "  0%|          | 0/105 [00:00<?, ?it/s]"
            ],
            "application/vnd.jupyter.widget-view+json": {
              "version_major": 2,
              "version_minor": 0,
              "model_id": "004b293554e649adaf57e27ec560437b"
            }
          },
          "metadata": {}
        },
        {
          "output_type": "stream",
          "name": "stdout",
          "text": [
            "\n",
            "Наивысший map@k для данного num_iters: 0.00851063829787234\n",
            "\n",
            "Для num_iters = 125\n",
            "\n",
            "dim = 16\n"
          ]
        },
        {
          "output_type": "display_data",
          "data": {
            "text/plain": [
              "  0%|          | 0/125 [00:00<?, ?it/s]"
            ],
            "application/vnd.jupyter.widget-view+json": {
              "version_major": 2,
              "version_minor": 0,
              "model_id": "b328c82fbee449c385f6e404eb39698b"
            }
          },
          "metadata": {}
        },
        {
          "output_type": "stream",
          "name": "stdout",
          "text": [
            "\n",
            "dim = 32\n"
          ]
        },
        {
          "output_type": "display_data",
          "data": {
            "text/plain": [
              "  0%|          | 0/125 [00:00<?, ?it/s]"
            ],
            "application/vnd.jupyter.widget-view+json": {
              "version_major": 2,
              "version_minor": 0,
              "model_id": "8fb100ae070144a0a710f91705acd3c8"
            }
          },
          "metadata": {}
        },
        {
          "output_type": "stream",
          "name": "stdout",
          "text": [
            "\n",
            "dim = 64\n"
          ]
        },
        {
          "output_type": "display_data",
          "data": {
            "text/plain": [
              "  0%|          | 0/125 [00:00<?, ?it/s]"
            ],
            "application/vnd.jupyter.widget-view+json": {
              "version_major": 2,
              "version_minor": 0,
              "model_id": "d839bf45b4a64750a10384b426da02cb"
            }
          },
          "metadata": {}
        },
        {
          "output_type": "stream",
          "name": "stdout",
          "text": [
            "\n",
            "dim = 96\n"
          ]
        },
        {
          "output_type": "display_data",
          "data": {
            "text/plain": [
              "  0%|          | 0/125 [00:00<?, ?it/s]"
            ],
            "application/vnd.jupyter.widget-view+json": {
              "version_major": 2,
              "version_minor": 0,
              "model_id": "7c377989251a4ed289afaedbcf46c0bd"
            }
          },
          "metadata": {}
        },
        {
          "output_type": "stream",
          "name": "stdout",
          "text": [
            "\n",
            "Наивысший map@k для данного num_iters: 0.00425531914893617\n",
            "\n",
            "Для num_iters = 145\n",
            "\n",
            "dim = 16\n"
          ]
        },
        {
          "output_type": "display_data",
          "data": {
            "text/plain": [
              "  0%|          | 0/145 [00:00<?, ?it/s]"
            ],
            "application/vnd.jupyter.widget-view+json": {
              "version_major": 2,
              "version_minor": 0,
              "model_id": "86162b8e5d5d41809cc22b0b5a6fb274"
            }
          },
          "metadata": {}
        },
        {
          "output_type": "error",
          "ename": "KeyboardInterrupt",
          "evalue": "",
          "traceback": [
            "\u001b[0;31m---------------------------------------------------------------------------\u001b[0m",
            "\u001b[0;31mKeyboardInterrupt\u001b[0m                         Traceback (most recent call last)",
            "\u001b[0;32m<ipython-input-163-513908852>\u001b[0m in \u001b[0;36m<cell line: 0>\u001b[0;34m()\u001b[0m\n\u001b[1;32m     18\u001b[0m \u001b[0;34m\u001b[0m\u001b[0m\n\u001b[1;32m     19\u001b[0m         \u001b[0mlfm\u001b[0m \u001b[0;34m=\u001b[0m \u001b[0mLatentFactorModel\u001b[0m\u001b[0;34m(\u001b[0m\u001b[0mtrain_ratings\u001b[0m\u001b[0;34m,\u001b[0m \u001b[0mdim\u001b[0m\u001b[0;34m=\u001b[0m\u001b[0mdim\u001b[0m\u001b[0;34m,\u001b[0m \u001b[0mmode\u001b[0m\u001b[0;34m=\u001b[0m\u001b[0;34m'als'\u001b[0m\u001b[0;34m)\u001b[0m\u001b[0;34m\u001b[0m\u001b[0;34m\u001b[0m\u001b[0m\n\u001b[0;32m---> 20\u001b[0;31m         \u001b[0mlfm\u001b[0m\u001b[0;34m.\u001b[0m\u001b[0mfit\u001b[0m\u001b[0;34m(\u001b[0m\u001b[0mnum_iters\u001b[0m\u001b[0;34m)\u001b[0m\u001b[0;34m\u001b[0m\u001b[0;34m\u001b[0m\u001b[0m\n\u001b[0m\u001b[1;32m     21\u001b[0m \u001b[0;34m\u001b[0m\u001b[0m\n\u001b[1;32m     22\u001b[0m         \u001b[0mpredictions\u001b[0m \u001b[0;34m=\u001b[0m \u001b[0mlfm\u001b[0m\u001b[0;34m.\u001b[0m\u001b[0mget_test_recommendations\u001b[0m\u001b[0;34m(\u001b[0m\u001b[0mk\u001b[0m\u001b[0;34m=\u001b[0m\u001b[0;36m50\u001b[0m\u001b[0;34m)\u001b[0m\u001b[0;34m\u001b[0m\u001b[0;34m\u001b[0m\u001b[0m\n",
            "\u001b[0;32m<ipython-input-162-196536465>\u001b[0m in \u001b[0;36mfit\u001b[0;34m(self, num_iters)\u001b[0m\n\u001b[1;32m     43\u001b[0m \u001b[0;34m\u001b[0m\u001b[0m\n\u001b[1;32m     44\u001b[0m                     \u001b[0;32mif\u001b[0m \u001b[0mlen\u001b[0m\u001b[0;34m(\u001b[0m\u001b[0mR_i\u001b[0m\u001b[0;34m)\u001b[0m \u001b[0;34m>\u001b[0m \u001b[0;36m0\u001b[0m\u001b[0;34m:\u001b[0m\u001b[0;34m\u001b[0m\u001b[0;34m\u001b[0m\u001b[0m\n\u001b[0;32m---> 45\u001b[0;31m                         \u001b[0mself\u001b[0m\u001b[0;34m.\u001b[0m\u001b[0mQ\u001b[0m\u001b[0;34m[\u001b[0m\u001b[0mi\u001b[0m\u001b[0;34m]\u001b[0m \u001b[0;34m=\u001b[0m \u001b[0mnp\u001b[0m\u001b[0;34m.\u001b[0m\u001b[0mlinalg\u001b[0m\u001b[0;34m.\u001b[0m\u001b[0msolve\u001b[0m\u001b[0;34m(\u001b[0m\u001b[0mP_u\u001b[0m\u001b[0;34m.\u001b[0m\u001b[0mT\u001b[0m \u001b[0;34m@\u001b[0m \u001b[0mP_u\u001b[0m \u001b[0;34m+\u001b[0m \u001b[0mself\u001b[0m\u001b[0;34m.\u001b[0m\u001b[0mlamb\u001b[0m \u001b[0;34m*\u001b[0m \u001b[0mnp\u001b[0m\u001b[0;34m.\u001b[0m\u001b[0meye\u001b[0m\u001b[0;34m(\u001b[0m\u001b[0mself\u001b[0m\u001b[0;34m.\u001b[0m\u001b[0mdim\u001b[0m\u001b[0;34m)\u001b[0m\u001b[0;34m,\u001b[0m \u001b[0mP_u\u001b[0m\u001b[0;34m.\u001b[0m\u001b[0mT\u001b[0m \u001b[0;34m@\u001b[0m \u001b[0mR_i\u001b[0m\u001b[0;34m)\u001b[0m\u001b[0;34m\u001b[0m\u001b[0;34m\u001b[0m\u001b[0m\n\u001b[0m\u001b[1;32m     46\u001b[0m \u001b[0;34m\u001b[0m\u001b[0m\n\u001b[1;32m     47\u001b[0m             \u001b[0;32melif\u001b[0m \u001b[0mself\u001b[0m\u001b[0;34m.\u001b[0m\u001b[0mmode\u001b[0m \u001b[0;34m==\u001b[0m \u001b[0;34m'ials'\u001b[0m\u001b[0;34m:\u001b[0m\u001b[0;34m\u001b[0m\u001b[0;34m\u001b[0m\u001b[0m\n",
            "\u001b[0;32m/usr/local/lib/python3.11/dist-packages/numpy/linalg/_linalg.py\u001b[0m in \u001b[0;36m_solve_dispatcher\u001b[0;34m(a, b)\u001b[0m\n\u001b[1;32m    312\u001b[0m \u001b[0;34m\u001b[0m\u001b[0m\n\u001b[1;32m    313\u001b[0m \u001b[0;34m\u001b[0m\u001b[0m\n\u001b[0;32m--> 314\u001b[0;31m \u001b[0;32mdef\u001b[0m \u001b[0m_solve_dispatcher\u001b[0m\u001b[0;34m(\u001b[0m\u001b[0ma\u001b[0m\u001b[0;34m,\u001b[0m \u001b[0mb\u001b[0m\u001b[0;34m)\u001b[0m\u001b[0;34m:\u001b[0m\u001b[0;34m\u001b[0m\u001b[0;34m\u001b[0m\u001b[0m\n\u001b[0m\u001b[1;32m    315\u001b[0m     \u001b[0;32mreturn\u001b[0m \u001b[0;34m(\u001b[0m\u001b[0ma\u001b[0m\u001b[0;34m,\u001b[0m \u001b[0mb\u001b[0m\u001b[0;34m)\u001b[0m\u001b[0;34m\u001b[0m\u001b[0;34m\u001b[0m\u001b[0m\n\u001b[1;32m    316\u001b[0m \u001b[0;34m\u001b[0m\u001b[0m\n",
            "\u001b[0;31mKeyboardInterrupt\u001b[0m: "
          ]
        }
      ],
      "id": "B8ABuI4OAL35"
    },
    {
      "cell_type": "markdown",
      "source": [
        "Я дождался только до 125 итераций, ALS какой-то долгий."
      ],
      "metadata": {
        "id": "pZVgwbhcQhDP"
      },
      "id": "pZVgwbhcQhDP"
    },
    {
      "cell_type": "code",
      "source": [
        "results_df_als = pd.DataFrame(results)\n",
        "\n",
        "best_row_als = results_df_als.loc[results_df_als['map@k'].idxmax()]\n",
        "print(\"\\nBest overall:\")\n",
        "print(best_row_als)"
      ],
      "metadata": {
        "colab": {
          "base_uri": "https://localhost:8080/"
        },
        "id": "nT091RQ3FR1_",
        "outputId": "84e08f09-0b98-49a0-d18e-f5571461bd35"
      },
      "execution_count": null,
      "outputs": [
        {
          "output_type": "stream",
          "name": "stdout",
          "text": [
            "\n",
            "Best overall:\n",
            "num_iters    65.000000\n",
            "dim          64.000000\n",
            "k             1.000000\n",
            "map@k         0.012766\n",
            "Name: 3, dtype: float64\n"
          ]
        }
      ],
      "id": "nT091RQ3FR1_"
    },
    {
      "cell_type": "code",
      "source": [
        "import matplotlib.pyplot as plt\n",
        "\n",
        "plt.figure(figsize=(10, 6))\n",
        "plt.plot(results_df['num_iters'], results_df['map@k'], marker='o', linestyle='-')\n",
        "plt.plot(results_df_als['num_iters'], results_df_als['map@k'], marker='o', linestyle='-')\n",
        "plt.xlabel('num_iters')\n",
        "plt.ylabel('MAP@k')\n",
        "plt.title('Зависимость MAP@k от num_iters')\n",
        "plt.grid(True)\n",
        "plt.tight_layout()\n",
        "plt.show()"
      ],
      "metadata": {
        "colab": {
          "base_uri": "https://localhost:8080/",
          "height": 607
        },
        "id": "p4WmbRNQFpJv",
        "outputId": "d5447c46-cda7-40b3-8d53-9eea527bd4a6"
      },
      "execution_count": null,
      "outputs": [
        {
          "output_type": "display_data",
          "data": {
            "text/plain": [
              "<Figure size 1000x600 with 1 Axes>"
            ],
            "image/png": "[encoded data removed]"
          },
          "metadata": {}
        }
      ],
      "id": "p4WmbRNQFpJv"
    },
    {
      "cell_type": "markdown",
      "source": [
        "**Вывод:** По графику видно, что ALS показывает себя намного лучше SGD, который в некоторых моментах дает MAP@K близкий к нулю, а все остальные значения лежат не выше, чем любое значение метрики у ALS, кроме значения SGD > 0.008 на 200 итераций. Максимальное значение у ALS > 0.012, что в несколько раз превосходит максимальное значение у User2User. Таким образом, SGD только в половине случаев лучше, чем случайные рекомендации и User2User, но в этих случаях разница значительная (примерно в 2 раза для максимального MAP@K у User2User). ALS же даже в самых худших случаях показывает метрику в два раза выше, чем максимальная у User2User. Зависимость от количества итераций не очень очевидна, но можно заметить, что для SGD при 75-125 итераций метрика очень мала, но достигает пика после 200 итераций. Для ALS оптимальным кажется значение от 25 до 65 итераций.\n",
        "\n",
        "Для данной задачи более подходящим кажется алгоритм ALS, так как он демонстрирует стабильные результаты при меньшем числе итераций и менее чувствителен к выбору гиперпараметров."
      ],
      "metadata": {
        "id": "14dhM3rSSRBI"
      },
      "id": "14dhM3rSSRBI"
    },
    {
      "cell_type": "markdown",
      "id": "Gx4EMj0HwVlR",
      "metadata": {
        "id": "Gx4EMj0HwVlR"
      },
      "source": [
        "Если у вас получилось достаточно хорошее качество, то при оптимизации параметров марицы $Q$ похожим трекам стали соответствовать похожие векторы. Поэтому мы можем для любого трека найти наиболее близкие к нему в латентном пространстве и проверить степерь обученности модели вручную."
      ]
    },
    {
      "cell_type": "code",
      "source": [
        "model = HiddenVars(train_ratings, dim=64, mode='als')\n",
        "model.fit(65)"
      ],
      "metadata": {
        "colab": {
          "base_uri": "https://localhost:8080/",
          "height": 49,
          "referenced_widgets": [
            "f479b8f1055a477bb44cadf987fc8385",
            "57d03cbea93647f384bf60c13e52c79d",
            "7da319b586554bceb819d2366fb5c8e6",
            "220cb8aa12d1413e8f9c70465d42665f",
            "4b76bfb012b84676976d2f3021efe32e",
            "c1d75b1075e8413491a79d73591c0d81",
            "ff722aacd9c74b47b171a35c60b5b236",
            "01bb22e2c4f54ed49bae0e95aabe0c68",
            "54a36ee3bff445a38abc8644557bcb34",
            "b9311e1706db4191b49bdd9cbb7f16b6",
            "f464eab507014c97ba30df67f28a4328"
          ]
        },
        "id": "ytSt8vmhLkrd",
        "outputId": "c8b43d84-7338-4673-db1d-3fa3dcc93136"
      },
      "id": "ytSt8vmhLkrd",
      "execution_count": 295,
      "outputs": [
        {
          "output_type": "display_data",
          "data": {
            "text/plain": [
              "  0%|          | 0/65 [00:00<?, ?it/s]"
            ],
            "application/vnd.jupyter.widget-view+json": {
              "version_major": 2,
              "version_minor": 0,
              "model_id": "f479b8f1055a477bb44cadf987fc8385"
            }
          },
          "metadata": {}
        }
      ]
    },
    {
      "cell_type": "code",
      "execution_count": 296,
      "id": "VFYy92Ls-53S",
      "metadata": {
        "id": "VFYy92Ls-53S"
      },
      "outputs": [],
      "source": [
        "example_trackId = tracks_info[tracks_info.name == 'Выхода нет'].iloc[0].id\n",
        "\n",
        "preds = model.Q @ model.Q[example_trackId]\n",
        "preds = preds / np.sqrt((model.Q**2).sum(axis=1) + 1e-8)\n",
        "\n",
        "track_idxs = preds.argsort()[::-1][:20]"
      ]
    },
    {
      "cell_type": "code",
      "execution_count": null,
      "metadata": {
        "colab": {
          "base_uri": "https://localhost:8080/",
          "height": 677
        },
        "outputId": "c5e5ccad-22f7-445d-ee7b-0dc2851ac375",
        "id": "bAQW9KCoXv0N"
      },
      "outputs": [
        {
          "output_type": "execute_result",
          "data": {
            "text/plain": [
              "                           name                 artists  similarity\n",
              "5512                 Выхода нет               ['Сплин']    1.000000\n",
              "2058            Последний герой                ['КИНО']    0.618704\n",
              "2179            Восьмиклассница                ['КИНО']    0.559896\n",
              "9433          В последнюю осень                 ['ДДТ']    0.543373\n",
              "31388            Мой рок-н-ролл    ['Би-2', 'Чичерина']    0.533966\n",
              "5515                     Романс               ['Сплин']    0.498995\n",
              "19430          Вечная молодость            ['Чиж & Co']    0.497706\n",
              "14871  Никто не услышит (Ой-йо)                ['ЧайФ']    0.497303\n",
              "9444                      Ветер                 ['ДДТ']    0.496497\n",
              "17328       Я хочу быть с тобой  ['Nautilus Pompilius']    0.493584\n",
              "5517                    Варвара                ['Би-2']    0.488170\n",
              "9689               Bicycle Race               ['Queen']    0.488120\n",
              "16637                    Zodiac              ['Zodiac']    0.488120\n",
              "5153               Stormbringer         ['Deep Purple']    0.488120\n",
              "13263            Мусорный ветер          ['Крематорий']    0.485875\n",
              "13264         Безобразная Эльза          ['Крематорий']    0.485875\n",
              "3191        Riders on the Storm           ['The Doors']    0.480646\n",
              "999        Einaudi: Una Mattina    ['Ludovico Einaudi']    0.479260\n",
              "10882         You Don't Fool Me               ['Queen']    0.478772\n",
              "15271       Маршруты московские            ['Ва-Банкъ']    0.472754"
            ],
            "text/html": [
              "\n",
              "  <div id=\"df-a56b1a2a-8bf2-40c9-9f0b-5839e5e3427b\" class=\"colab-df-container\">\n",
              "    <div>\n",
              "<style scoped>\n",
              "    .dataframe tbody tr th:only-of-type {\n",
              "        vertical-align: middle;\n",
              "    }\n",
              "\n",
              "    .dataframe tbody tr th {\n",
              "        vertical-align: top;\n",
              "    }\n",
              "\n",
              "    .dataframe thead th {\n",
              "        text-align: right;\n",
              "    }\n",
              "</style>\n",
              "<table border=\"1\" class=\"dataframe\">\n",
              "  <thead>\n",
              "    <tr style=\"text-align: right;\">\n",
              "      <th></th>\n",
              "      <th>name</th>\n",
              "      <th>artists</th>\n",
              "      <th>similarity</th>\n",
              "    </tr>\n",
              "  </thead>\n",
              "  <tbody>\n",
              "    <tr>\n",
              "      <th>5512</th>\n",
              "      <td>Выхода нет</td>\n",
              "      <td>['Сплин']</td>\n",
              "      <td>1.000000</td>\n",
              "    </tr>\n",
              "    <tr>\n",
              "      <th>2058</th>\n",
              "      <td>Последний герой</td>\n",
              "      <td>['КИНО']</td>\n",
              "      <td>0.618704</td>\n",
              "    </tr>\n",
              "    <tr>\n",
              "      <th>2179</th>\n",
              "      <td>Восьмиклассница</td>\n",
              "      <td>['КИНО']</td>\n",
              "      <td>0.559896</td>\n",
              "    </tr>\n",
              "    <tr>\n",
              "      <th>9433</th>\n",
              "      <td>В последнюю осень</td>\n",
              "      <td>['ДДТ']</td>\n",
              "      <td>0.543373</td>\n",
              "    </tr>\n",
              "    <tr>\n",
              "      <th>31388</th>\n",
              "      <td>Мой рок-н-ролл</td>\n",
              "      <td>['Би-2', 'Чичерина']</td>\n",
              "      <td>0.533966</td>\n",
              "    </tr>\n",
              "    <tr>\n",
              "      <th>5515</th>\n",
              "      <td>Романс</td>\n",
              "      <td>['Сплин']</td>\n",
              "      <td>0.498995</td>\n",
              "    </tr>\n",
              "    <tr>\n",
              "      <th>19430</th>\n",
              "      <td>Вечная молодость</td>\n",
              "      <td>['Чиж &amp; Co']</td>\n",
              "      <td>0.497706</td>\n",
              "    </tr>\n",
              "    <tr>\n",
              "      <th>14871</th>\n",
              "      <td>Никто не услышит (Ой-йо)</td>\n",
              "      <td>['ЧайФ']</td>\n",
              "      <td>0.497303</td>\n",
              "    </tr>\n",
              "    <tr>\n",
              "      <th>9444</th>\n",
              "      <td>Ветер</td>\n",
              "      <td>['ДДТ']</td>\n",
              "      <td>0.496497</td>\n",
              "    </tr>\n",
              "    <tr>\n",
              "      <th>17328</th>\n",
              "      <td>Я хочу быть с тобой</td>\n",
              "      <td>['Nautilus Pompilius']</td>\n",
              "      <td>0.493584</td>\n",
              "    </tr>\n",
              "    <tr>\n",
              "      <th>5517</th>\n",
              "      <td>Варвара</td>\n",
              "      <td>['Би-2']</td>\n",
              "      <td>0.488170</td>\n",
              "    </tr>\n",
              "    <tr>\n",
              "      <th>9689</th>\n",
              "      <td>Bicycle Race</td>\n",
              "      <td>['Queen']</td>\n",
              "      <td>0.488120</td>\n",
              "    </tr>\n",
              "    <tr>\n",
              "      <th>16637</th>\n",
              "      <td>Zodiac</td>\n",
              "      <td>['Zodiac']</td>\n",
              "      <td>0.488120</td>\n",
              "    </tr>\n",
              "    <tr>\n",
              "      <th>5153</th>\n",
              "      <td>Stormbringer</td>\n",
              "      <td>['Deep Purple']</td>\n",
              "      <td>0.488120</td>\n",
              "    </tr>\n",
              "    <tr>\n",
              "      <th>13263</th>\n",
              "      <td>Мусорный ветер</td>\n",
              "      <td>['Крематорий']</td>\n",
              "      <td>0.485875</td>\n",
              "    </tr>\n",
              "    <tr>\n",
              "      <th>13264</th>\n",
              "      <td>Безобразная Эльза</td>\n",
              "      <td>['Крематорий']</td>\n",
              "      <td>0.485875</td>\n",
              "    </tr>\n",
              "    <tr>\n",
              "      <th>3191</th>\n",
              "      <td>Riders on the Storm</td>\n",
              "      <td>['The Doors']</td>\n",
              "      <td>0.480646</td>\n",
              "    </tr>\n",
              "    <tr>\n",
              "      <th>999</th>\n",
              "      <td>Einaudi: Una Mattina</td>\n",
              "      <td>['Ludovico Einaudi']</td>\n",
              "      <td>0.479260</td>\n",
              "    </tr>\n",
              "    <tr>\n",
              "      <th>10882</th>\n",
              "      <td>You Don't Fool Me</td>\n",
              "      <td>['Queen']</td>\n",
              "      <td>0.478772</td>\n",
              "    </tr>\n",
              "    <tr>\n",
              "      <th>15271</th>\n",
              "      <td>Маршруты московские</td>\n",
              "      <td>['Ва-Банкъ']</td>\n",
              "      <td>0.472754</td>\n",
              "    </tr>\n",
              "  </tbody>\n",
              "</table>\n",
              "</div>\n",
              "    <div class=\"colab-df-buttons\">\n",
              "\n",
              "  <div class=\"colab-df-container\">\n",
              "    <button class=\"colab-df-convert\" onclick=\"convertToInteractive('df-a56b1a2a-8bf2-40c9-9f0b-5839e5e3427b')\"\n",
              "            title=\"Convert this dataframe to an interactive table.\"\n",
              "            style=\"display:none;\">\n",
              "\n",
              "  <svg xmlns=\"http://www.w3.org/2000/svg\" height=\"24px\" viewBox=\"0 -960 960 960\">\n",
              "    <path d=\"M120-120v-720h720v720H120Zm60-500h600v-160H180v160Zm220 220h160v-160H400v160Zm0 220h160v-160H400v160ZM180-400h160v-160H180v160Zm440 0h160v-160H620v160ZM180-180h160v-160H180v160Zm440 0h160v-160H620v160Z\"/>\n",
              "  </svg>\n",
              "    </button>\n",
              "\n",
              "  <style>\n",
              "    .colab-df-container {\n",
              "      display:flex;\n",
              "      gap: 12px;\n",
              "    }\n",
              "\n",
              "    .colab-df-convert {\n",
              "      background-color: #E8F0FE;\n",
              "      border: none;\n",
              "      border-radius: 50%;\n",
              "      cursor: pointer;\n",
              "      display: none;\n",
              "      fill: #1967D2;\n",
              "      height: 32px;\n",
              "      padding: 0 0 0 0;\n",
              "      width: 32px;\n",
              "    }\n",
              "\n",
              "    .colab-df-convert:hover {\n",
              "      background-color: #E2EBFA;\n",
              "      box-shadow: 0px 1px 2px rgba(60, 64, 67, 0.3), 0px 1px 3px 1px rgba(60, 64, 67, 0.15);\n",
              "      fill: #174EA6;\n",
              "    }\n",
              "\n",
              "    .colab-df-buttons div {\n",
              "      margin-bottom: 4px;\n",
              "    }\n",
              "\n",
              "    [theme=dark] .colab-df-convert {\n",
              "      background-color: #3B4455;\n",
              "      fill: #D2E3FC;\n",
              "    }\n",
              "\n",
              "    [theme=dark] .colab-df-convert:hover {\n",
              "      background-color: #434B5C;\n",
              "      box-shadow: 0px 1px 3px 1px rgba(0, 0, 0, 0.15);\n",
              "      filter: drop-shadow(0px 1px 2px rgba(0, 0, 0, 0.3));\n",
              "      fill: #FFFFFF;\n",
              "    }\n",
              "  </style>\n",
              "\n",
              "    <script>\n",
              "      const buttonEl =\n",
              "        document.querySelector('#df-a56b1a2a-8bf2-40c9-9f0b-5839e5e3427b button.colab-df-convert');\n",
              "      buttonEl.style.display =\n",
              "        google.colab.kernel.accessAllowed ? 'block' : 'none';\n",
              "\n",
              "      async function convertToInteractive(key) {\n",
              "        const element = document.querySelector('#df-a56b1a2a-8bf2-40c9-9f0b-5839e5e3427b');\n",
              "        const dataTable =\n",
              "          await google.colab.kernel.invokeFunction('convertToInteractive',\n",
              "                                                    [key], {});\n",
              "        if (!dataTable) return;\n",
              "\n",
              "        const docLinkHtml = 'Like what you see? Visit the ' +\n",
              "          '<a target=\"_blank\" href=https://colab.research.google.com/notebooks/data_table.ipynb>data table notebook</a>'\n",
              "          + ' to learn more about interactive tables.';\n",
              "        element.innerHTML = '';\n",
              "        dataTable['output_type'] = 'display_data';\n",
              "        await google.colab.output.renderOutput(dataTable, element);\n",
              "        const docLink = document.createElement('div');\n",
              "        docLink.innerHTML = docLinkHtml;\n",
              "        element.appendChild(docLink);\n",
              "      }\n",
              "    </script>\n",
              "  </div>\n",
              "\n",
              "\n",
              "    <div id=\"df-90c3973d-005f-417e-809c-095f14f5a2ff\">\n",
              "      <button class=\"colab-df-quickchart\" onclick=\"quickchart('df-90c3973d-005f-417e-809c-095f14f5a2ff')\"\n",
              "                title=\"Suggest charts\"\n",
              "                style=\"display:none;\">\n",
              "\n",
              "<svg xmlns=\"http://www.w3.org/2000/svg\" height=\"24px\"viewBox=\"0 0 24 24\"\n",
              "     width=\"24px\">\n",
              "    <g>\n",
              "        <path d=\"M19 3H5c-1.1 0-2 .9-2 2v14c0 1.1.9 2 2 2h14c1.1 0 2-.9 2-2V5c0-1.1-.9-2-2-2zM9 17H7v-7h2v7zm4 0h-2V7h2v10zm4 0h-2v-4h2v4z\"/>\n",
              "    </g>\n",
              "</svg>\n",
              "      </button>\n",
              "\n",
              "<style>\n",
              "  .colab-df-quickchart {\n",
              "      --bg-color: #E8F0FE;\n",
              "      --fill-color: #1967D2;\n",
              "      --hover-bg-color: #E2EBFA;\n",
              "      --hover-fill-color: #174EA6;\n",
              "      --disabled-fill-color: #AAA;\n",
              "      --disabled-bg-color: #DDD;\n",
              "  }\n",
              "\n",
              "  [theme=dark] .colab-df-quickchart {\n",
              "      --bg-color: #3B4455;\n",
              "      --fill-color: #D2E3FC;\n",
              "      --hover-bg-color: #434B5C;\n",
              "      --hover-fill-color: #FFFFFF;\n",
              "      --disabled-bg-color: #3B4455;\n",
              "      --disabled-fill-color: #666;\n",
              "  }\n",
              "\n",
              "  .colab-df-quickchart {\n",
              "    background-color: var(--bg-color);\n",
              "    border: none;\n",
              "    border-radius: 50%;\n",
              "    cursor: pointer;\n",
              "    display: none;\n",
              "    fill: var(--fill-color);\n",
              "    height: 32px;\n",
              "    padding: 0;\n",
              "    width: 32px;\n",
              "  }\n",
              "\n",
              "  .colab-df-quickchart:hover {\n",
              "    background-color: var(--hover-bg-color);\n",
              "    box-shadow: 0 1px 2px rgba(60, 64, 67, 0.3), 0 1px 3px 1px rgba(60, 64, 67, 0.15);\n",
              "    fill: var(--button-hover-fill-color);\n",
              "  }\n",
              "\n",
              "  .colab-df-quickchart-complete:disabled,\n",
              "  .colab-df-quickchart-complete:disabled:hover {\n",
              "    background-color: var(--disabled-bg-color);\n",
              "    fill: var(--disabled-fill-color);\n",
              "    box-shadow: none;\n",
              "  }\n",
              "\n",
              "  .colab-df-spinner {\n",
              "    border: 2px solid var(--fill-color);\n",
              "    border-color: transparent;\n",
              "    border-bottom-color: var(--fill-color);\n",
              "    animation:\n",
              "      spin 1s steps(1) infinite;\n",
              "  }\n",
              "\n",
              "  @keyframes spin {\n",
              "    0% {\n",
              "      border-color: transparent;\n",
              "      border-bottom-color: var(--fill-color);\n",
              "      border-left-color: var(--fill-color);\n",
              "    }\n",
              "    20% {\n",
              "      border-color: transparent;\n",
              "      border-left-color: var(--fill-color);\n",
              "      border-top-color: var(--fill-color);\n",
              "    }\n",
              "    30% {\n",
              "      border-color: transparent;\n",
              "      border-left-color: var(--fill-color);\n",
              "      border-top-color: var(--fill-color);\n",
              "      border-right-color: var(--fill-color);\n",
              "    }\n",
              "    40% {\n",
              "      border-color: transparent;\n",
              "      border-right-color: var(--fill-color);\n",
              "      border-top-color: var(--fill-color);\n",
              "    }\n",
              "    60% {\n",
              "      border-color: transparent;\n",
              "      border-right-color: var(--fill-color);\n",
              "    }\n",
              "    80% {\n",
              "      border-color: transparent;\n",
              "      border-right-color: var(--fill-color);\n",
              "      border-bottom-color: var(--fill-color);\n",
              "    }\n",
              "    90% {\n",
              "      border-color: transparent;\n",
              "      border-bottom-color: var(--fill-color);\n",
              "    }\n",
              "  }\n",
              "</style>\n",
              "\n",
              "      <script>\n",
              "        async function quickchart(key) {\n",
              "          const quickchartButtonEl =\n",
              "            document.querySelector('#' + key + ' button');\n",
              "          quickchartButtonEl.disabled = true;  // To prevent multiple clicks.\n",
              "          quickchartButtonEl.classList.add('colab-df-spinner');\n",
              "          try {\n",
              "            const charts = await google.colab.kernel.invokeFunction(\n",
              "                'suggestCharts', [key], {});\n",
              "          } catch (error) {\n",
              "            console.error('Error during call to suggestCharts:', error);\n",
              "          }\n",
              "          quickchartButtonEl.classList.remove('colab-df-spinner');\n",
              "          quickchartButtonEl.classList.add('colab-df-quickchart-complete');\n",
              "        }\n",
              "        (() => {\n",
              "          let quickchartButtonEl =\n",
              "            document.querySelector('#df-90c3973d-005f-417e-809c-095f14f5a2ff button');\n",
              "          quickchartButtonEl.style.display =\n",
              "            google.colab.kernel.accessAllowed ? 'block' : 'none';\n",
              "        })();\n",
              "      </script>\n",
              "    </div>\n",
              "    </div>\n",
              "  </div>\n"
            ],
            "application/vnd.google.colaboratory.intrinsic+json": {
              "type": "dataframe",
              "variable_name": "similar_tracks",
              "summary": "{\n  \"name\": \"similar_tracks\",\n  \"rows\": 20,\n  \"fields\": [\n    {\n      \"column\": \"name\",\n      \"properties\": {\n        \"dtype\": \"string\",\n        \"num_unique_values\": 20,\n        \"samples\": [\n          \"\\u0412\\u044b\\u0445\\u043e\\u0434\\u0430 \\u043d\\u0435\\u0442\",\n          \"Einaudi: Una Mattina\",\n          \"\\u0411\\u0435\\u0437\\u043e\\u0431\\u0440\\u0430\\u0437\\u043d\\u0430\\u044f \\u042d\\u043b\\u044c\\u0437\\u0430\"\n        ],\n        \"semantic_type\": \"\",\n        \"description\": \"\"\n      }\n    },\n    {\n      \"column\": \"artists\",\n      \"properties\": {\n        \"dtype\": \"string\",\n        \"num_unique_values\": 15,\n        \"samples\": [\n          \"['Zodiac']\",\n          \"['\\u041a\\u0440\\u0435\\u043c\\u0430\\u0442\\u043e\\u0440\\u0438\\u0439']\",\n          \"['\\u0421\\u043f\\u043b\\u0438\\u043d']\"\n        ],\n        \"semantic_type\": \"\",\n        \"description\": \"\"\n      }\n    },\n    {\n      \"column\": \"similarity\",\n      \"properties\": {\n        \"dtype\": \"number\",\n        \"std\": 0.11634037356744141,\n        \"min\": 0.4727541906355424,\n        \"max\": 0.9999999994546982,\n        \"num_unique_values\": 17,\n        \"samples\": [\n          0.9999999994546982,\n          0.6187035391173407,\n          0.49899470742626306\n        ],\n        \"semantic_type\": \"\",\n        \"description\": \"\"\n      }\n    }\n  ]\n}"
            }
          },
          "metadata": {},
          "execution_count": 210
        }
      ],
      "source": [
        "similar_tracks = tracks_info.loc[track_idxs][['name', 'artists']]\n",
        "similar_tracks['similarity'] = preds[track_idxs] / np.linalg.norm(model.Q[example_trackId])\n",
        "similar_tracks"
      ],
      "id": "bAQW9KCoXv0N"
    },
    {
      "cell_type": "markdown",
      "source": [
        "**Вывод:** Видим, что получилось намного лучше: есть одна рекомендация от того же автора, большинство предложенных треков относятся к русскому року, как и жанр исходного трека. Такие группы в рекомендациях как КИНО, ДДТ, Би-2, Наутилус Помпилиус говорит о хорошем семантическом попадании. Также в списке встречаются композиции от западных рок-групп, что добавляет разнообразия, но при этом сохраняет жанровую близость."
      ],
      "metadata": {
        "id": "iEdsMnw_X-3V"
      },
      "id": "iEdsMnw_X-3V"
    }
  ],
  "metadata": {
    "colab": {
      "provenance": []
    },
    "kernelspec": {
      "display_name": "Python 3 (ipykernel)",
      "language": "python",
      "name": "python3"
    },
    "language_info": {
      "codemirror_mode": {
        "name": "ipython",
        "version": 3
      },
      "file_extension": ".py",
      "mimetype": "text/x-python",
      "name": "python",
      "nbconvert_exporter": "python",
      "pygments_lexer": "ipython3",
      "version": "3.9.16"
    },
    "widgets": {
      "application/vnd.jupyter.widget-state+json": {
        "43d26e15f88d433188712b53f2deed02": {
          "model_module": "@jupyter-widgets/controls",
          "model_name": "HBoxModel",
          "model_module_version": "1.5.0",
          "state": {
            "_dom_classes": [],
            "_model_module": "@jupyter-widgets/controls",
            "_model_module_version": "1.5.0",
            "_model_name": "HBoxModel",
            "_view_count": null,
            "_view_module": "@jupyter-widgets/controls",
            "_view_module_version": "1.5.0",
            "_view_name": "HBoxView",
            "box_style": "",
            "children": [
              "IPY_MODEL_45ef4510a3e0402088ce06ae212bf7e9",
              "IPY_MODEL_a0fecb9f974c4d70854af3f31318f9e0",
              "IPY_MODEL_4d935e3bfe8147f5944e78afd570c190"
            ],
            "layout": "IPY_MODEL_70e98fb6ac91419cb0b0b0c7a273817b"
          }
        },
        "45ef4510a3e0402088ce06ae212bf7e9": {
          "model_module": "@jupyter-widgets/controls",
          "model_name": "HTMLModel",
          "model_module_version": "1.5.0",
          "state": {
            "_dom_classes": [],
            "_model_module": "@jupyter-widgets/controls",
            "_model_module_version": "1.5.0",
            "_model_name": "HTMLModel",
            "_view_count": null,
            "_view_module": "@jupyter-widgets/controls",
            "_view_module_version": "1.5.0",
            "_view_name": "HTMLView",
            "description": "",
            "description_tooltip": null,
            "layout": "IPY_MODEL_47f7bfc88cbf4468a94e031279324793",
            "placeholder": "​",
            "style": "IPY_MODEL_29ea66324ee3482997305dc5d55d239b",
            "value": "100%"
          }
        },
        "a0fecb9f974c4d70854af3f31318f9e0": {
          "model_module": "@jupyter-widgets/controls",
          "model_name": "FloatProgressModel",
          "model_module_version": "1.5.0",
          "state": {
            "_dom_classes": [],
            "_model_module": "@jupyter-widgets/controls",
            "_model_module_version": "1.5.0",
            "_model_name": "FloatProgressModel",
            "_view_count": null,
            "_view_module": "@jupyter-widgets/controls",
            "_view_module_version": "1.5.0",
            "_view_name": "ProgressView",
            "bar_style": "success",
            "description": "",
            "description_tooltip": null,
            "layout": "IPY_MODEL_5a7cab13626346f1831805286c30d507",
            "max": 241,
            "min": 0,
            "orientation": "horizontal",
            "style": "IPY_MODEL_1effb35788244579bc13a24342247ac9",
            "value": 241
          }
        },
        "4d935e3bfe8147f5944e78afd570c190": {
          "model_module": "@jupyter-widgets/controls",
          "model_name": "HTMLModel",
          "model_module_version": "1.5.0",
          "state": {
            "_dom_classes": [],
            "_model_module": "@jupyter-widgets/controls",
            "_model_module_version": "1.5.0",
            "_model_name": "HTMLModel",
            "_view_count": null,
            "_view_module": "@jupyter-widgets/controls",
            "_view_module_version": "1.5.0",
            "_view_name": "HTMLView",
            "description": "",
            "description_tooltip": null,
            "layout": "IPY_MODEL_e7a7f6041e5d44cdaa3ff7972bd6eec0",
            "placeholder": "​",
            "style": "IPY_MODEL_4779b4adea434563b9fd9f3934a826f2",
            "value": " 241/241 [00:00&lt;00:00, 6334.93it/s]"
          }
        },
        "70e98fb6ac91419cb0b0b0c7a273817b": {
          "model_module": "@jupyter-widgets/base",
          "model_name": "LayoutModel",
          "model_module_version": "1.2.0",
          "state": {
            "_model_module": "@jupyter-widgets/base",
            "_model_module_version": "1.2.0",
            "_model_name": "LayoutModel",
            "_view_count": null,
            "_view_module": "@jupyter-widgets/base",
            "_view_module_version": "1.2.0",
            "_view_name": "LayoutView",
            "align_content": null,
            "align_items": null,
            "align_self": null,
            "border": null,
            "bottom": null,
            "display": null,
            "flex": null,
            "flex_flow": null,
            "grid_area": null,
            "grid_auto_columns": null,
            "grid_auto_flow": null,
            "grid_auto_rows": null,
            "grid_column": null,
            "grid_gap": null,
            "grid_row": null,
            "grid_template_areas": null,
            "grid_template_columns": null,
            "grid_template_rows": null,
            "height": null,
            "justify_content": null,
            "justify_items": null,
            "left": null,
            "margin": null,
            "max_height": null,
            "max_width": null,
            "min_height": null,
            "min_width": null,
            "object_fit": null,
            "object_position": null,
            "order": null,
            "overflow": null,
            "overflow_x": null,
            "overflow_y": null,
            "padding": null,
            "right": null,
            "top": null,
            "visibility": null,
            "width": null
          }
        },
        "47f7bfc88cbf4468a94e031279324793": {
          "model_module": "@jupyter-widgets/base",
          "model_name": "LayoutModel",
          "model_module_version": "1.2.0",
          "state": {
            "_model_module": "@jupyter-widgets/base",
            "_model_module_version": "1.2.0",
            "_model_name": "LayoutModel",
            "_view_count": null,
            "_view_module": "@jupyter-widgets/base",
            "_view_module_version": "1.2.0",
            "_view_name": "LayoutView",
            "align_content": null,
            "align_items": null,
            "align_self": null,
            "border": null,
            "bottom": null,
            "display": null,
            "flex": null,
            "flex_flow": null,
            "grid_area": null,
            "grid_auto_columns": null,
            "grid_auto_flow": null,
            "grid_auto_rows": null,
            "grid_column": null,
            "grid_gap": null,
            "grid_row": null,
            "grid_template_areas": null,
            "grid_template_columns": null,
            "grid_template_rows": null,
            "height": null,
            "justify_content": null,
            "justify_items": null,
            "left": null,
            "margin": null,
            "max_height": null,
            "max_width": null,
            "min_height": null,
            "min_width": null,
            "object_fit": null,
            "object_position": null,
            "order": null,
            "overflow": null,
            "overflow_x": null,
            "overflow_y": null,
            "padding": null,
            "right": null,
            "top": null,
            "visibility": null,
            "width": null
          }
        },
        "29ea66324ee3482997305dc5d55d239b": {
          "model_module": "@jupyter-widgets/controls",
          "model_name": "DescriptionStyleModel",
          "model_module_version": "1.5.0",
          "state": {
            "_model_module": "@jupyter-widgets/controls",
            "_model_module_version": "1.5.0",
            "_model_name": "DescriptionStyleModel",
            "_view_count": null,
            "_view_module": "@jupyter-widgets/base",
            "_view_module_version": "1.2.0",
            "_view_name": "StyleView",
            "description_width": ""
          }
        },
        "5a7cab13626346f1831805286c30d507": {
          "model_module": "@jupyter-widgets/base",
          "model_name": "LayoutModel",
          "model_module_version": "1.2.0",
          "state": {
            "_model_module": "@jupyter-widgets/base",
            "_model_module_version": "1.2.0",
            "_model_name": "LayoutModel",
            "_view_count": null,
            "_view_module": "@jupyter-widgets/base",
            "_view_module_version": "1.2.0",
            "_view_name": "LayoutView",
            "align_content": null,
            "align_items": null,
            "align_self": null,
            "border": null,
            "bottom": null,
            "display": null,
            "flex": null,
            "flex_flow": null,
            "grid_area": null,
            "grid_auto_columns": null,
            "grid_auto_flow": null,
            "grid_auto_rows": null,
            "grid_column": null,
            "grid_gap": null,
            "grid_row": null,
            "grid_template_areas": null,
            "grid_template_columns": null,
            "grid_template_rows": null,
            "height": null,
            "justify_content": null,
            "justify_items": null,
            "left": null,
            "margin": null,
            "max_height": null,
            "max_width": null,
            "min_height": null,
            "min_width": null,
            "object_fit": null,
            "object_position": null,
            "order": null,
            "overflow": null,
            "overflow_x": null,
            "overflow_y": null,
            "padding": null,
            "right": null,
            "top": null,
            "visibility": null,
            "width": null
          }
        },
        "1effb35788244579bc13a24342247ac9": {
          "model_module": "@jupyter-widgets/controls",
          "model_name": "ProgressStyleModel",
          "model_module_version": "1.5.0",
          "state": {
            "_model_module": "@jupyter-widgets/controls",
            "_model_module_version": "1.5.0",
            "_model_name": "ProgressStyleModel",
            "_view_count": null,
            "_view_module": "@jupyter-widgets/base",
            "_view_module_version": "1.2.0",
            "_view_name": "StyleView",
            "bar_color": null,
            "description_width": ""
          }
        },
        "e7a7f6041e5d44cdaa3ff7972bd6eec0": {
          "model_module": "@jupyter-widgets/base",
          "model_name": "LayoutModel",
          "model_module_version": "1.2.0",
          "state": {
            "_model_module": "@jupyter-widgets/base",
            "_model_module_version": "1.2.0",
            "_model_name": "LayoutModel",
            "_view_count": null,
            "_view_module": "@jupyter-widgets/base",
            "_view_module_version": "1.2.0",
            "_view_name": "LayoutView",
            "align_content": null,
            "align_items": null,
            "align_self": null,
            "border": null,
            "bottom": null,
            "display": null,
            "flex": null,
            "flex_flow": null,
            "grid_area": null,
            "grid_auto_columns": null,
            "grid_auto_flow": null,
            "grid_auto_rows": null,
            "grid_column": null,
            "grid_gap": null,
            "grid_row": null,
            "grid_template_areas": null,
            "grid_template_columns": null,
            "grid_template_rows": null,
            "height": null,
            "justify_content": null,
            "justify_items": null,
            "left": null,
            "margin": null,
            "max_height": null,
            "max_width": null,
            "min_height": null,
            "min_width": null,
            "object_fit": null,
            "object_position": null,
            "order": null,
            "overflow": null,
            "overflow_x": null,
            "overflow_y": null,
            "padding": null,
            "right": null,
            "top": null,
            "visibility": null,
            "width": null
          }
        },
        "4779b4adea434563b9fd9f3934a826f2": {
          "model_module": "@jupyter-widgets/controls",
          "model_name": "DescriptionStyleModel",
          "model_module_version": "1.5.0",
          "state": {
            "_model_module": "@jupyter-widgets/controls",
            "_model_module_version": "1.5.0",
            "_model_name": "DescriptionStyleModel",
            "_view_count": null,
            "_view_module": "@jupyter-widgets/base",
            "_view_module_version": "1.2.0",
            "_view_name": "StyleView",
            "description_width": ""
          }
        },
        "fb051f22e504487d9042d1c05e924de7": {
          "model_module": "@jupyter-widgets/controls",
          "model_name": "HBoxModel",
          "model_module_version": "1.5.0",
          "state": {
            "_dom_classes": [],
            "_model_module": "@jupyter-widgets/controls",
            "_model_module_version": "1.5.0",
            "_model_name": "HBoxModel",
            "_view_count": null,
            "_view_module": "@jupyter-widgets/controls",
            "_view_module_version": "1.5.0",
            "_view_name": "HBoxView",
            "box_style": "",
            "children": [
              "IPY_MODEL_4c2d4be4e52f4929854b074907b0a249",
              "IPY_MODEL_69e485662d4c498287ebf5d85542d958",
              "IPY_MODEL_7c17a428934e4fa0a6454fbddee5a95a"
            ],
            "layout": "IPY_MODEL_83c8e8b8d1fe4c80aa0109eb2f8a1b00"
          }
        },
        "4c2d4be4e52f4929854b074907b0a249": {
          "model_module": "@jupyter-widgets/controls",
          "model_name": "HTMLModel",
          "model_module_version": "1.5.0",
          "state": {
            "_dom_classes": [],
            "_model_module": "@jupyter-widgets/controls",
            "_model_module_version": "1.5.0",
            "_model_name": "HTMLModel",
            "_view_count": null,
            "_view_module": "@jupyter-widgets/controls",
            "_view_module_version": "1.5.0",
            "_view_name": "HTMLView",
            "description": "",
            "description_tooltip": null,
            "layout": "IPY_MODEL_0ef793614f86414daff73bfc25dbf029",
            "placeholder": "​",
            "style": "IPY_MODEL_76e4e124b283414bbde3b8c221724152",
            "value": "100%"
          }
        },
        "69e485662d4c498287ebf5d85542d958": {
          "model_module": "@jupyter-widgets/controls",
          "model_name": "FloatProgressModel",
          "model_module_version": "1.5.0",
          "state": {
            "_dom_classes": [],
            "_model_module": "@jupyter-widgets/controls",
            "_model_module_version": "1.5.0",
            "_model_name": "FloatProgressModel",
            "_view_count": null,
            "_view_module": "@jupyter-widgets/controls",
            "_view_module_version": "1.5.0",
            "_view_name": "ProgressView",
            "bar_style": "success",
            "description": "",
            "description_tooltip": null,
            "layout": "IPY_MODEL_adba9a277518458a987fa15dafb537d8",
            "max": 241,
            "min": 0,
            "orientation": "horizontal",
            "style": "IPY_MODEL_d1991a1f23a44121ab62d0692ad865d0",
            "value": 241
          }
        },
        "7c17a428934e4fa0a6454fbddee5a95a": {
          "model_module": "@jupyter-widgets/controls",
          "model_name": "HTMLModel",
          "model_module_version": "1.5.0",
          "state": {
            "_dom_classes": [],
            "_model_module": "@jupyter-widgets/controls",
            "_model_module_version": "1.5.0",
            "_model_name": "HTMLModel",
            "_view_count": null,
            "_view_module": "@jupyter-widgets/controls",
            "_view_module_version": "1.5.0",
            "_view_name": "HTMLView",
            "description": "",
            "description_tooltip": null,
            "layout": "IPY_MODEL_33f83ec95f524c3fb6d5e0a94d44ffdc",
            "placeholder": "​",
            "style": "IPY_MODEL_5513f4125af143119e233ab86461b4a9",
            "value": " 241/241 [00:00&lt;00:00, 969.17it/s]"
          }
        },
        "83c8e8b8d1fe4c80aa0109eb2f8a1b00": {
          "model_module": "@jupyter-widgets/base",
          "model_name": "LayoutModel",
          "model_module_version": "1.2.0",
          "state": {
            "_model_module": "@jupyter-widgets/base",
            "_model_module_version": "1.2.0",
            "_model_name": "LayoutModel",
            "_view_count": null,
            "_view_module": "@jupyter-widgets/base",
            "_view_module_version": "1.2.0",
            "_view_name": "LayoutView",
            "align_content": null,
            "align_items": null,
            "align_self": null,
            "border": null,
            "bottom": null,
            "display": null,
            "flex": null,
            "flex_flow": null,
            "grid_area": null,
            "grid_auto_columns": null,
            "grid_auto_flow": null,
            "grid_auto_rows": null,
            "grid_column": null,
            "grid_gap": null,
            "grid_row": null,
            "grid_template_areas": null,
            "grid_template_columns": null,
            "grid_template_rows": null,
            "height": null,
            "justify_content": null,
            "justify_items": null,
            "left": null,
            "margin": null,
            "max_height": null,
            "max_width": null,
            "min_height": null,
            "min_width": null,
            "object_fit": null,
            "object_position": null,
            "order": null,
            "overflow": null,
            "overflow_x": null,
            "overflow_y": null,
            "padding": null,
            "right": null,
            "top": null,
            "visibility": null,
            "width": null
          }
        },
        "0ef793614f86414daff73bfc25dbf029": {
          "model_module": "@jupyter-widgets/base",
          "model_name": "LayoutModel",
          "model_module_version": "1.2.0",
          "state": {
            "_model_module": "@jupyter-widgets/base",
            "_model_module_version": "1.2.0",
            "_model_name": "LayoutModel",
            "_view_count": null,
            "_view_module": "@jupyter-widgets/base",
            "_view_module_version": "1.2.0",
            "_view_name": "LayoutView",
            "align_content": null,
            "align_items": null,
            "align_self": null,
            "border": null,
            "bottom": null,
            "display": null,
            "flex": null,
            "flex_flow": null,
            "grid_area": null,
            "grid_auto_columns": null,
            "grid_auto_flow": null,
            "grid_auto_rows": null,
            "grid_column": null,
            "grid_gap": null,
            "grid_row": null,
            "grid_template_areas": null,
            "grid_template_columns": null,
            "grid_template_rows": null,
            "height": null,
            "justify_content": null,
            "justify_items": null,
            "left": null,
            "margin": null,
            "max_height": null,
            "max_width": null,
            "min_height": null,
            "min_width": null,
            "object_fit": null,
            "object_position": null,
            "order": null,
            "overflow": null,
            "overflow_x": null,
            "overflow_y": null,
            "padding": null,
            "right": null,
            "top": null,
            "visibility": null,
            "width": null
          }
        },
        "76e4e124b283414bbde3b8c221724152": {
          "model_module": "@jupyter-widgets/controls",
          "model_name": "DescriptionStyleModel",
          "model_module_version": "1.5.0",
          "state": {
            "_model_module": "@jupyter-widgets/controls",
            "_model_module_version": "1.5.0",
            "_model_name": "DescriptionStyleModel",
            "_view_count": null,
            "_view_module": "@jupyter-widgets/base",
            "_view_module_version": "1.2.0",
            "_view_name": "StyleView",
            "description_width": ""
          }
        },
        "adba9a277518458a987fa15dafb537d8": {
          "model_module": "@jupyter-widgets/base",
          "model_name": "LayoutModel",
          "model_module_version": "1.2.0",
          "state": {
            "_model_module": "@jupyter-widgets/base",
            "_model_module_version": "1.2.0",
            "_model_name": "LayoutModel",
            "_view_count": null,
            "_view_module": "@jupyter-widgets/base",
            "_view_module_version": "1.2.0",
            "_view_name": "LayoutView",
            "align_content": null,
            "align_items": null,
            "align_self": null,
            "border": null,
            "bottom": null,
            "display": null,
            "flex": null,
            "flex_flow": null,
            "grid_area": null,
            "grid_auto_columns": null,
            "grid_auto_flow": null,
            "grid_auto_rows": null,
            "grid_column": null,
            "grid_gap": null,
            "grid_row": null,
            "grid_template_areas": null,
            "grid_template_columns": null,
            "grid_template_rows": null,
            "height": null,
            "justify_content": null,
            "justify_items": null,
            "left": null,
            "margin": null,
            "max_height": null,
            "max_width": null,
            "min_height": null,
            "min_width": null,
            "object_fit": null,
            "object_position": null,
            "order": null,
            "overflow": null,
            "overflow_x": null,
            "overflow_y": null,
            "padding": null,
            "right": null,
            "top": null,
            "visibility": null,
            "width": null
          }
        },
        "d1991a1f23a44121ab62d0692ad865d0": {
          "model_module": "@jupyter-widgets/controls",
          "model_name": "ProgressStyleModel",
          "model_module_version": "1.5.0",
          "state": {
            "_model_module": "@jupyter-widgets/controls",
            "_model_module_version": "1.5.0",
            "_model_name": "ProgressStyleModel",
            "_view_count": null,
            "_view_module": "@jupyter-widgets/base",
            "_view_module_version": "1.2.0",
            "_view_name": "StyleView",
            "bar_color": null,
            "description_width": ""
          }
        },
        "33f83ec95f524c3fb6d5e0a94d44ffdc": {
          "model_module": "@jupyter-widgets/base",
          "model_name": "LayoutModel",
          "model_module_version": "1.2.0",
          "state": {
            "_model_module": "@jupyter-widgets/base",
            "_model_module_version": "1.2.0",
            "_model_name": "LayoutModel",
            "_view_count": null,
            "_view_module": "@jupyter-widgets/base",
            "_view_module_version": "1.2.0",
            "_view_name": "LayoutView",
            "align_content": null,
            "align_items": null,
            "align_self": null,
            "border": null,
            "bottom": null,
            "display": null,
            "flex": null,
            "flex_flow": null,
            "grid_area": null,
            "grid_auto_columns": null,
            "grid_auto_flow": null,
            "grid_auto_rows": null,
            "grid_column": null,
            "grid_gap": null,
            "grid_row": null,
            "grid_template_areas": null,
            "grid_template_columns": null,
            "grid_template_rows": null,
            "height": null,
            "justify_content": null,
            "justify_items": null,
            "left": null,
            "margin": null,
            "max_height": null,
            "max_width": null,
            "min_height": null,
            "min_width": null,
            "object_fit": null,
            "object_position": null,
            "order": null,
            "overflow": null,
            "overflow_x": null,
            "overflow_y": null,
            "padding": null,
            "right": null,
            "top": null,
            "visibility": null,
            "width": null
          }
        },
        "5513f4125af143119e233ab86461b4a9": {
          "model_module": "@jupyter-widgets/controls",
          "model_name": "DescriptionStyleModel",
          "model_module_version": "1.5.0",
          "state": {
            "_model_module": "@jupyter-widgets/controls",
            "_model_module_version": "1.5.0",
            "_model_name": "DescriptionStyleModel",
            "_view_count": null,
            "_view_module": "@jupyter-widgets/base",
            "_view_module_version": "1.2.0",
            "_view_name": "StyleView",
            "description_width": ""
          }
        },
        "f479b8f1055a477bb44cadf987fc8385": {
          "model_module": "@jupyter-widgets/controls",
          "model_name": "HBoxModel",
          "model_module_version": "1.5.0",
          "state": {
            "_dom_classes": [],
            "_model_module": "@jupyter-widgets/controls",
            "_model_module_version": "1.5.0",
            "_model_name": "HBoxModel",
            "_view_count": null,
            "_view_module": "@jupyter-widgets/controls",
            "_view_module_version": "1.5.0",
            "_view_name": "HBoxView",
            "box_style": "",
            "children": [
              "IPY_MODEL_57d03cbea93647f384bf60c13e52c79d",
              "IPY_MODEL_7da319b586554bceb819d2366fb5c8e6",
              "IPY_MODEL_220cb8aa12d1413e8f9c70465d42665f"
            ],
            "layout": "IPY_MODEL_4b76bfb012b84676976d2f3021efe32e"
          }
        },
        "57d03cbea93647f384bf60c13e52c79d": {
          "model_module": "@jupyter-widgets/controls",
          "model_name": "HTMLModel",
          "model_module_version": "1.5.0",
          "state": {
            "_dom_classes": [],
            "_model_module": "@jupyter-widgets/controls",
            "_model_module_version": "1.5.0",
            "_model_name": "HTMLModel",
            "_view_count": null,
            "_view_module": "@jupyter-widgets/controls",
            "_view_module_version": "1.5.0",
            "_view_name": "HTMLView",
            "description": "",
            "description_tooltip": null,
            "layout": "IPY_MODEL_c1d75b1075e8413491a79d73591c0d81",
            "placeholder": "​",
            "style": "IPY_MODEL_ff722aacd9c74b47b171a35c60b5b236",
            "value": "100%"
          }
        },
        "7da319b586554bceb819d2366fb5c8e6": {
          "model_module": "@jupyter-widgets/controls",
          "model_name": "FloatProgressModel",
          "model_module_version": "1.5.0",
          "state": {
            "_dom_classes": [],
            "_model_module": "@jupyter-widgets/controls",
            "_model_module_version": "1.5.0",
            "_model_name": "FloatProgressModel",
            "_view_count": null,
            "_view_module": "@jupyter-widgets/controls",
            "_view_module_version": "1.5.0",
            "_view_name": "ProgressView",
            "bar_style": "success",
            "description": "",
            "description_tooltip": null,
            "layout": "IPY_MODEL_01bb22e2c4f54ed49bae0e95aabe0c68",
            "max": 65,
            "min": 0,
            "orientation": "horizontal",
            "style": "IPY_MODEL_54a36ee3bff445a38abc8644557bcb34",
            "value": 65
          }
        },
        "220cb8aa12d1413e8f9c70465d42665f": {
          "model_module": "@jupyter-widgets/controls",
          "model_name": "HTMLModel",
          "model_module_version": "1.5.0",
          "state": {
            "_dom_classes": [],
            "_model_module": "@jupyter-widgets/controls",
            "_model_module_version": "1.5.0",
            "_model_name": "HTMLModel",
            "_view_count": null,
            "_view_module": "@jupyter-widgets/controls",
            "_view_module_version": "1.5.0",
            "_view_name": "HTMLView",
            "description": "",
            "description_tooltip": null,
            "layout": "IPY_MODEL_b9311e1706db4191b49bdd9cbb7f16b6",
            "placeholder": "​",
            "style": "IPY_MODEL_f464eab507014c97ba30df67f28a4328",
            "value": " 65/65 [08:27&lt;00:00,  7.08s/it]"
          }
        },
        "4b76bfb012b84676976d2f3021efe32e": {
          "model_module": "@jupyter-widgets/base",
          "model_name": "LayoutModel",
          "model_module_version": "1.2.0",
          "state": {
            "_model_module": "@jupyter-widgets/base",
            "_model_module_version": "1.2.0",
            "_model_name": "LayoutModel",
            "_view_count": null,
            "_view_module": "@jupyter-widgets/base",
            "_view_module_version": "1.2.0",
            "_view_name": "LayoutView",
            "align_content": null,
            "align_items": null,
            "align_self": null,
            "border": null,
            "bottom": null,
            "display": null,
            "flex": null,
            "flex_flow": null,
            "grid_area": null,
            "grid_auto_columns": null,
            "grid_auto_flow": null,
            "grid_auto_rows": null,
            "grid_column": null,
            "grid_gap": null,
            "grid_row": null,
            "grid_template_areas": null,
            "grid_template_columns": null,
            "grid_template_rows": null,
            "height": null,
            "justify_content": null,
            "justify_items": null,
            "left": null,
            "margin": null,
            "max_height": null,
            "max_width": null,
            "min_height": null,
            "min_width": null,
            "object_fit": null,
            "object_position": null,
            "order": null,
            "overflow": null,
            "overflow_x": null,
            "overflow_y": null,
            "padding": null,
            "right": null,
            "top": null,
            "visibility": null,
            "width": null
          }
        },
        "c1d75b1075e8413491a79d73591c0d81": {
          "model_module": "@jupyter-widgets/base",
          "model_name": "LayoutModel",
          "model_module_version": "1.2.0",
          "state": {
            "_model_module": "@jupyter-widgets/base",
            "_model_module_version": "1.2.0",
            "_model_name": "LayoutModel",
            "_view_count": null,
            "_view_module": "@jupyter-widgets/base",
            "_view_module_version": "1.2.0",
            "_view_name": "LayoutView",
            "align_content": null,
            "align_items": null,
            "align_self": null,
            "border": null,
            "bottom": null,
            "display": null,
            "flex": null,
            "flex_flow": null,
            "grid_area": null,
            "grid_auto_columns": null,
            "grid_auto_flow": null,
            "grid_auto_rows": null,
            "grid_column": null,
            "grid_gap": null,
            "grid_row": null,
            "grid_template_areas": null,
            "grid_template_columns": null,
            "grid_template_rows": null,
            "height": null,
            "justify_content": null,
            "justify_items": null,
            "left": null,
            "margin": null,
            "max_height": null,
            "max_width": null,
            "min_height": null,
            "min_width": null,
            "object_fit": null,
            "object_position": null,
            "order": null,
            "overflow": null,
            "overflow_x": null,
            "overflow_y": null,
            "padding": null,
            "right": null,
            "top": null,
            "visibility": null,
            "width": null
          }
        },
        "ff722aacd9c74b47b171a35c60b5b236": {
          "model_module": "@jupyter-widgets/controls",
          "model_name": "DescriptionStyleModel",
          "model_module_version": "1.5.0",
          "state": {
            "_model_module": "@jupyter-widgets/controls",
            "_model_module_version": "1.5.0",
            "_model_name": "DescriptionStyleModel",
            "_view_count": null,
            "_view_module": "@jupyter-widgets/base",
            "_view_module_version": "1.2.0",
            "_view_name": "StyleView",
            "description_width": ""
          }
        },
        "01bb22e2c4f54ed49bae0e95aabe0c68": {
          "model_module": "@jupyter-widgets/base",
          "model_name": "LayoutModel",
          "model_module_version": "1.2.0",
          "state": {
            "_model_module": "@jupyter-widgets/base",
            "_model_module_version": "1.2.0",
            "_model_name": "LayoutModel",
            "_view_count": null,
            "_view_module": "@jupyter-widgets/base",
            "_view_module_version": "1.2.0",
            "_view_name": "LayoutView",
            "align_content": null,
            "align_items": null,
            "align_self": null,
            "border": null,
            "bottom": null,
            "display": null,
            "flex": null,
            "flex_flow": null,
            "grid_area": null,
            "grid_auto_columns": null,
            "grid_auto_flow": null,
            "grid_auto_rows": null,
            "grid_column": null,
            "grid_gap": null,
            "grid_row": null,
            "grid_template_areas": null,
            "grid_template_columns": null,
            "grid_template_rows": null,
            "height": null,
            "justify_content": null,
            "justify_items": null,
            "left": null,
            "margin": null,
            "max_height": null,
            "max_width": null,
            "min_height": null,
            "min_width": null,
            "object_fit": null,
            "object_position": null,
            "order": null,
            "overflow": null,
            "overflow_x": null,
            "overflow_y": null,
            "padding": null,
            "right": null,
            "top": null,
            "visibility": null,
            "width": null
          }
        },
        "54a36ee3bff445a38abc8644557bcb34": {
          "model_module": "@jupyter-widgets/controls",
          "model_name": "ProgressStyleModel",
          "model_module_version": "1.5.0",
          "state": {
            "_model_module": "@jupyter-widgets/controls",
            "_model_module_version": "1.5.0",
            "_model_name": "ProgressStyleModel",
            "_view_count": null,
            "_view_module": "@jupyter-widgets/base",
            "_view_module_version": "1.2.0",
            "_view_name": "StyleView",
            "bar_color": null,
            "description_width": ""
          }
        },
        "b9311e1706db4191b49bdd9cbb7f16b6": {
          "model_module": "@jupyter-widgets/base",
          "model_name": "LayoutModel",
          "model_module_version": "1.2.0",
          "state": {
            "_model_module": "@jupyter-widgets/base",
            "_model_module_version": "1.2.0",
            "_model_name": "LayoutModel",
            "_view_count": null,
            "_view_module": "@jupyter-widgets/base",
            "_view_module_version": "1.2.0",
            "_view_name": "LayoutView",
            "align_content": null,
            "align_items": null,
            "align_self": null,
            "border": null,
            "bottom": null,
            "display": null,
            "flex": null,
            "flex_flow": null,
            "grid_area": null,
            "grid_auto_columns": null,
            "grid_auto_flow": null,
            "grid_auto_rows": null,
            "grid_column": null,
            "grid_gap": null,
            "grid_row": null,
            "grid_template_areas": null,
            "grid_template_columns": null,
            "grid_template_rows": null,
            "height": null,
            "justify_content": null,
            "justify_items": null,
            "left": null,
            "margin": null,
            "max_height": null,
            "max_width": null,
            "min_height": null,
            "min_width": null,
            "object_fit": null,
            "object_position": null,
            "order": null,
            "overflow": null,
            "overflow_x": null,
            "overflow_y": null,
            "padding": null,
            "right": null,
            "top": null,
            "visibility": null,
            "width": null
          }
        },
        "f464eab507014c97ba30df67f28a4328": {
          "model_module": "@jupyter-widgets/controls",
          "model_name": "DescriptionStyleModel",
          "model_module_version": "1.5.0",
          "state": {
            "_model_module": "@jupyter-widgets/controls",
            "_model_module_version": "1.5.0",
            "_model_name": "DescriptionStyleModel",
            "_view_count": null,
            "_view_module": "@jupyter-widgets/base",
            "_view_module_version": "1.2.0",
            "_view_name": "StyleView",
            "description_width": ""
          }
        }
      }
    }
  },
  "nbformat": 4,
  "nbformat_minor": 5
}